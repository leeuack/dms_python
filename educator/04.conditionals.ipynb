{
 "cells": [
  {
   "cell_type": "markdown",
   "metadata": {},
   "source": [
    "# <font color = \"#81263f\" size = \"60\">4. Conditionals</font>"
   ]
  },
  {
   "cell_type": "markdown",
   "metadata": {},
   "source": [
    "## <font style=\"background:#81263f;color:white\">4.1 If  </font>"
   ]
  },
  {
   "cell_type": "markdown",
   "metadata": {},
   "source": [
    "### <font color = \"#81263f\">4.1.1 If</font>"
   ]
  },
  {
   "cell_type": "code",
   "execution_count": null,
   "metadata": {},
   "outputs": [],
   "source": [
    "if 5 > 1:           # 5>1 is a certain condition that returns True\n",
    "    print(\"This condition is executed\")"
   ]
  },
  {
   "cell_type": "code",
   "execution_count": null,
   "metadata": {},
   "outputs": [],
   "source": [
    "x = 5\n",
    "if x > 1:           # x>1 is also a certain condition that returns True\n",
    "    print(\"This condtion is also executed\")"
   ]
  },
  {
   "cell_type": "code",
   "execution_count": null,
   "metadata": {},
   "outputs": [],
   "source": [
    "x = 5\n",
    "if x > 10:           # x>1 is also a certain condition that returns False\n",
    "    print(\"This condtion will not be executed\")  # this line will be passed\n",
    "print(\"Job's done\")  # code will continue from this line"
   ]
  },
  {
   "cell_type": "markdown",
   "metadata": {},
   "source": [
    "### <font color = \"#81263f\">4.1.2 Multiple Ifs</font>"
   ]
  },
  {
   "cell_type": "code",
   "execution_count": null,
   "metadata": {
    "scrolled": true
   },
   "outputs": [],
   "source": [
    "x = 5\n",
    "if x > 1:\n",
    "    a = x + 1\n",
    "    print(\"This condtion is also executed\")\n",
    "    \n",
    "if x == 5: \n",
    "    b = x + 5\n",
    "    print(\"This condtion will not be executed\")\n",
    "\n",
    "print(a,b)\n",
    "print(x)"
   ]
  },
  {
   "cell_type": "markdown",
   "metadata": {},
   "source": [
    "### <font color = \"#81263f\">4.1.3 If and Else</font>"
   ]
  },
  {
   "cell_type": "code",
   "execution_count": null,
   "metadata": {
    "scrolled": true
   },
   "outputs": [],
   "source": [
    "x = 5\n",
    "\n",
    "if x > 10:                                 # check this condition\n",
    "    x = x + 1                              # skip this line\n",
    "    print(\"if condtion is also executed\")  # skip this line\n",
    "    \n",
    "else:                                      # run this line\n",
    "    x = x + 5                              # run this line\n",
    "    print(\"else condtion is also executed\")# run this line\n",
    "\n",
    "print(x)"
   ]
  },
  {
   "cell_type": "markdown",
   "metadata": {},
   "source": [
    "### <font color = \"#81263f\">4.1.4 If, Elif, and Else</font>"
   ]
  },
  {
   "cell_type": "code",
   "execution_count": null,
   "metadata": {},
   "outputs": [],
   "source": [
    "x = 5\n",
    "\n",
    "if x > 10:                                 # check this condition\n",
    "    x = x + 1                              # skip this line\n",
    "    print(\"if condtion is also executed\")  # skip this line\n",
    "    \n",
    "elif x > 3:                                # check this condition\n",
    "    x = x + 2                              # will execute this line\n",
    "    print(\"elif condtion is also executed\")# will execute this line   \n",
    "\n",
    "else:                                      # but even this condition will not be tested\n",
    "    x = x + 3                              # because the logic flow has already arrived at elif body\n",
    "    print(\"else condtion is also executed\")    \n",
    "    \n",
    "print(x)"
   ]
  },
  {
   "cell_type": "markdown",
   "metadata": {},
   "source": [
    "### <font color = \"#81263f\">4.1.5 In-line Expression</font>"
   ]
  },
  {
   "cell_type": "code",
   "execution_count": null,
   "metadata": {},
   "outputs": [],
   "source": [
    "x = 5\n",
    "\n",
    "x+1 if x>10 else x+2"
   ]
  },
  {
   "cell_type": "code",
   "execution_count": null,
   "metadata": {},
   "outputs": [],
   "source": [
    "x = 5\n",
    "\n",
    "x+1 if x>10 x+2 elif x >3"
   ]
  },
  {
   "cell_type": "markdown",
   "metadata": {},
   "source": [
    "### <font color = \"#81263f\">4.1.7 Placeholders: Pass</font>"
   ]
  },
  {
   "cell_type": "code",
   "execution_count": null,
   "metadata": {},
   "outputs": [],
   "source": [
    "x = 5\n",
    "\n",
    "if x > 10:                                 # check this condition\n",
    "    x = x + 1                              # skip this line\n",
    "    print(\"if condtion is also executed\")  # skip this line\n",
    "    \n",
    "elif x > 3:                                # check this condition\n",
    "      pass\n",
    "\n",
    "else:                                      # but even this condition will not be tested\n",
    "    x = x + 3                              # because the logic flow has already arrived at elif body\n",
    "    print(\"else condtion is also executed\")    \n",
    "    \n",
    "print(x)"
   ]
  },
  {
   "cell_type": "markdown",
   "metadata": {},
   "source": [
    "## <font style=\"background:#81263f;color:white\">4.2 Try and Except  </font>"
   ]
  },
  {
   "cell_type": "markdown",
   "metadata": {},
   "source": [
    "### <font color = \"#81263f\">4.2.1 Try and Except</font>"
   ]
  },
  {
   "cell_type": "code",
   "execution_count": null,
   "metadata": {},
   "outputs": [],
   "source": [
    "try:                # will run this line\n",
    "    a = 1+2         # will run this line\n",
    "    print(a)        # will run this line\n",
    "    \n",
    "except:             # will not run this line because there is no error in try\n",
    "    print(\"errors!\")# will not run this line because there is no error in try"
   ]
  },
  {
   "cell_type": "code",
   "execution_count": null,
   "metadata": {},
   "outputs": [],
   "source": [
    "try:                # will not run this line because there is a zero-dividing error in try\n",
    "    a = 1/0         \n",
    "    print(a)        \n",
    "    \n",
    "except:             # will run this line\n",
    "    print(\"errors!\")# will run this line"
   ]
  },
  {
   "cell_type": "markdown",
   "metadata": {},
   "source": [
    "### <font color = \"#81263f\">4.2.2 Try and If</font>"
   ]
  },
  {
   "cell_type": "code",
   "execution_count": null,
   "metadata": {},
   "outputs": [],
   "source": [
    "if 5 > 3:  # this is true\n",
    "    print(\"if statement is executed\")\n",
    "    \n",
    "\n",
    "try: # even this is False, it will be executed unless there is no erros\n",
    "    a = 5>10\n",
    "    print(a)\n",
    "    print(\"try statemens never cares about truth\")\n",
    "except:\n",
    "    print()"
   ]
  },
  {
   "cell_type": "markdown",
   "metadata": {},
   "source": [
    "## <font style=\"background:#81263f;color:white\">4.3 Exercise  </font>"
   ]
  },
  {
   "cell_type": "markdown",
   "metadata": {},
   "source": [
    "### <font color = \"#81263f\">4.3.1 Letter Grade Converter</font>"
   ]
  },
  {
   "cell_type": "code",
   "execution_count": null,
   "metadata": {},
   "outputs": [],
   "source": [
    "# convert a raw score 82 which is out of 100, into a letter grade\n",
    "# 1. create score variable and assign the raw score\n",
    "# 2. create conditionals to convert the score into a letter grade\n",
    "# 2-1. if score is larger than or equal to 90, grade will be \"A\"\n",
    "# 2-2. if score is less than 90 and larger than or equal to 80, grade will be \"B\"\n",
    "# 2-3. if score is less than 80 and larger than or equal to 70, grade will be \"C\"\n",
    "# 2-4. if score is less than 70 and larger than or equal to 60, grade will be \"D\"\n",
    "# 2-5. if score is less than 60 and larger than or equal to 50, grade will be \"F\"\n",
    "# 3. print letter grade"
   ]
  },
  {
   "cell_type": "code",
   "execution_count": null,
   "metadata": {},
   "outputs": [],
   "source": [
    "score = 80\n",
    "if score >= 90: grade = \"A\"\n",
    "elif 90 > score >= 80: grade = \"B\"\n",
    "elif 80 > score >= 70: grade = \"C\"\n",
    "elif 70 > score >= 60: grade = \"D\"\n",
    "elif 60 > score >= 50: grade = \"F\"\n",
    "print(grade)"
   ]
  },
  {
   "cell_type": "markdown",
   "metadata": {},
   "source": [
    "### <font color = \"#81263f\">4.3.2 Discriminant</font>"
   ]
  },
  {
   "cell_type": "code",
   "execution_count": null,
   "metadata": {},
   "outputs": [],
   "source": [
    "# how many roots on this equation \"x**2 - 5*x +6\"\n",
    "# 1. create a,b,c\n",
    "# 2. creaete discriminant d\n",
    "# 3. number of roots based on d\n",
    "# 3-1. case: d is larger than 0, number of root r is 2\n",
    "# 3-2. case: d is equal to 0, number of root r is 1\n",
    "# 3-3. case: d is smaller than 0, number of root r is 0\n",
    "# 4. print variable d and r"
   ]
  },
  {
   "cell_type": "code",
   "execution_count": null,
   "metadata": {},
   "outputs": [],
   "source": [
    "a, b, c = 1, -5, 6\n",
    "d = b**2 - 4*a*c\n",
    "if d > 0:\n",
    "    r = 2\n",
    "elif d == 0:\n",
    "    r = 1\n",
    "else: r = 0\n",
    "print(d,r)"
   ]
  },
  {
   "cell_type": "markdown",
   "metadata": {},
   "source": [
    "## <font style=\"background:#81263f;color:white\">4.4 Exercise : Line Relations </font>"
   ]
  },
  {
   "cell_type": "markdown",
   "metadata": {},
   "source": [
    "### <font color = \"#81263f\">4.4.1 Two Lines</font>"
   ]
  },
  {
   "cell_type": "markdown",
   "metadata": {},
   "source": [
    "Conditionals can check whether two line segments are perpendicular or not. If a line segment can be represent with start (s) and end (e) points [(xs,ys),(xe,ye)], users can get the slopes of two lines.\n",
    "If both segments have a same slope, they can be parallel or are on a same line depending their intersection. Intersection can be tested by checking a point on a line segment is also on another one.\n",
    "If they have different slopes, they can be parallel when the multiplication of the slopes of both lines should be -1."
   ]
  },
  {
   "cell_type": "markdown",
   "metadata": {},
   "source": [
    "### <font color = \"#81263f\">4.4.2 To Start</font>"
   ]
  },
  {
   "cell_type": "code",
   "execution_count": null,
   "metadata": {},
   "outputs": [],
   "source": [
    "#run this cell, it will install ipytcanvas\n",
    "try:\n",
    "    import ipycanvas\n",
    "except ImportError as e:\n",
    "    ! pip install ipycanvas"
   ]
  },
  {
   "cell_type": "code",
   "execution_count": null,
   "metadata": {},
   "outputs": [],
   "source": [
    "# importing libraries\n",
    "# run this cell\n",
    "# it should return nothing nor errors\n",
    "from ipycanvas import MultiCanvas\n",
    "from math import pi"
   ]
  },
  {
   "cell_type": "code",
   "execution_count": null,
   "metadata": {},
   "outputs": [],
   "source": [
    "# helper function\n",
    "# run this cell\n",
    "def visualize(canvas,ln_A,ln_B):\n",
    "        scaler = 20\n",
    "        shift = 7 * scaler\n",
    "        drawLine(canvas,ln_A[0],ln_A[1],scaler,shift)\n",
    "        drawLine(canvas,ln_B[0],ln_B[1],scaler,shift)\n",
    "        \n",
    "def drawLine(canvas, start, end, scaler, shift, lw = 2,c = 'maroon'):\n",
    "    canvas.line_width = lw\n",
    "    canvas.stroke_style = c\n",
    "    canvas.begin_path()\n",
    "    canvas.move_to(start[0]*scaler+shift, start[1]*scaler+shift)\n",
    "    canvas.line_to(end[0]*scaler+shift, end[1]*scaler+shift)\n",
    "    canvas.stroke()"
   ]
  },
  {
   "cell_type": "markdown",
   "metadata": {},
   "source": [
    "### <font color = \"#81263f\">4.4.3 Create Lines</font>"
   ]
  },
  {
   "cell_type": "code",
   "execution_count": null,
   "metadata": {},
   "outputs": [],
   "source": [
    "ln_0 = [(-3,-3),(0,6)]\n",
    "ln_1 = [(3,1),(9,-1)]\n",
    "ln_2 = [(-1,2),(5,0)]\n",
    "ln_3 = [(2,-2),(0,0)]\n",
    "ln_4 = [(-4,-6),(-2,0)]"
   ]
  },
  {
   "cell_type": "markdown",
   "metadata": {},
   "source": [
    "### <font color = \"#81263f\">4.4.4 Initialize Canvas</font>"
   ]
  },
  {
   "cell_type": "code",
   "execution_count": null,
   "metadata": {},
   "outputs": [],
   "source": [
    "# initialization\n",
    "# run this cell\n",
    "m = MultiCanvas(5, width=650, height=250)\n",
    "visualize(m[0],ln_0,ln_1)\n",
    "m[0]"
   ]
  },
  {
   "cell_type": "markdown",
   "metadata": {},
   "source": [
    "### <font color = \"#81263f\">4.4.5 Slopes of Two Lines</font>"
   ]
  },
  {
   "cell_type": "code",
   "execution_count": null,
   "metadata": {},
   "outputs": [],
   "source": [
    "# select two lines from ln_0, ln_1, ... ln_4\n",
    "ln_A, ln_B = ln_0, ln_1\n",
    "# get the slopes of line A and B\n",
    "sl_A = (ln_A[1][1]-ln_A[0][1]) / (ln_A[1][0]-ln_A[0][0])\n",
    "sl_B = (ln_B[1][1]-ln_B[0][1]) / (ln_B[1][0]-ln_B[0][0])\n",
    "print(sl_A, sl_B)"
   ]
  },
  {
   "cell_type": "code",
   "execution_count": null,
   "metadata": {},
   "outputs": [],
   "source": [
    "# run this cell to clear the drawing before you visualize a canvas\n",
    "canvas_ind = 1\n",
    "m[canvas_ind].clear()"
   ]
  },
  {
   "cell_type": "markdown",
   "metadata": {},
   "source": [
    "### <font color = \"#81263f\">4.4.6  Investigate Line Relation</font>"
   ]
  },
  {
   "cell_type": "code",
   "execution_count": null,
   "metadata": {},
   "outputs": [],
   "source": [
    "# create conditional blocks to get the relationships of two lines.\n",
    "if sl_A == sl_B:  # same slope\n",
    "    k = ln_A[0][1] - sl_A*ln_A[0][0]\n",
    "    if sl_A*ln_B[0][0] + k == ln_B[0][1]: # same line\n",
    "        print(\"on a same line\")\n",
    "    else: # parallel\n",
    "        print(\"parallel\")\n",
    "else: # non-parallel\n",
    "    if sl_A * sl_B == -1: # perpendicular\n",
    "        print(\"perpendicular\")\n",
    "    else: print(\"will intersect each other\") # interseting"
   ]
  },
  {
   "cell_type": "markdown",
   "metadata": {},
   "source": [
    "### <font color = \"#81263f\">4.4.7  Relation Test</font>"
   ]
  },
  {
   "cell_type": "code",
   "execution_count": null,
   "metadata": {},
   "outputs": [],
   "source": [
    "# visualize the selected two lines' relationship\n",
    "# run this cell\n",
    "visualize(m[canvas_ind],ln_A, ln_B)\n",
    "m[canvas_ind]"
   ]
  },
  {
   "cell_type": "code",
   "execution_count": null,
   "metadata": {},
   "outputs": [],
   "source": []
  }
 ],
 "metadata": {
  "kernelspec": {
   "display_name": "Python 3 (ipykernel)",
   "language": "python",
   "name": "python3"
  },
  "language_info": {
   "codemirror_mode": {
    "name": "ipython",
    "version": 3
   },
   "file_extension": ".py",
   "mimetype": "text/x-python",
   "name": "python",
   "nbconvert_exporter": "python",
   "pygments_lexer": "ipython3",
   "version": "3.9.12"
  },
  "toc": {
   "base_numbering": 1,
   "nav_menu": {},
   "number_sections": false,
   "sideBar": true,
   "skip_h1_title": false,
   "title_cell": "Table of Contents",
   "title_sidebar": "Contents",
   "toc_cell": false,
   "toc_position": {},
   "toc_section_display": true,
   "toc_window_display": false
  }
 },
 "nbformat": 4,
 "nbformat_minor": 2
}

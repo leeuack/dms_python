{
 "cells": [
  {
   "cell_type": "markdown",
   "metadata": {},
   "source": [
    "# <font color = \"#81263f\" size = \"60\">9. Object-Oriented Programming</font>"
   ]
  },
  {
   "cell_type": "markdown",
   "metadata": {},
   "source": [
    "## <font style=\"background:#81263f;color:white\">9.1 Concept  </font>"
   ]
  },
  {
   "cell_type": "markdown",
   "metadata": {},
   "source": [
    "### <font color = \"#81263f\">9.1.1 What is Object-Oriented Programming?</font>"
   ]
  },
  {
   "cell_type": "markdown",
   "metadata": {},
   "source": [
    "### <font color = \"#81263f\">9.1.2 Features and Why?</font>"
   ]
  },
  {
   "cell_type": "markdown",
   "metadata": {},
   "source": [
    "### <font color = \"#81263f\">9.1.3 Everything is an Object in Python</font>"
   ]
  },
  {
   "cell_type": "code",
   "execution_count": null,
   "metadata": {
    "scrolled": true
   },
   "outputs": [],
   "source": [
    "a = 2\n",
    "b = True\n",
    "l = [1, 2, 3.0, \"hello\"]\n",
    "\n",
    "def f(x):\n",
    "    a = 3 \n",
    "    return x**3-a\n",
    "g = f\n",
    "\n",
    "print(type(a), type(b), type(l), type(g))\n",
    "print(g.__name__)   # g is in function class, and __name__ method can return the name of the fucntion\n",
    "print(f.__code__.co_varnames)"
   ]
  },
  {
   "cell_type": "markdown",
   "metadata": {},
   "source": [
    "## <font style=\"background:#81263f;color:white\">9.2 Class  </font>"
   ]
  },
  {
   "cell_type": "markdown",
   "metadata": {},
   "source": [
    "### <font color = \"#81263f\">9.2.1 Initialization</font>"
   ]
  },
  {
   "cell_type": "code",
   "execution_count": null,
   "metadata": {},
   "outputs": [],
   "source": [
    "class Wall():\n",
    "    def __init__(self):\n",
    "        pass"
   ]
  },
  {
   "cell_type": "code",
   "execution_count": null,
   "metadata": {},
   "outputs": [],
   "source": [
    "wall_0 = Wall()\n",
    "print(type(wall_0), wall_0)"
   ]
  },
  {
   "cell_type": "code",
   "execution_count": null,
   "metadata": {},
   "outputs": [],
   "source": [
    "wall_1 = Wall()\n",
    "print(type(wall_1), wall_1)"
   ]
  },
  {
   "cell_type": "markdown",
   "metadata": {},
   "source": [
    "### <font color = \"#81263f\">9.2.2 Attributes</font>"
   ]
  },
  {
   "cell_type": "code",
   "execution_count": null,
   "metadata": {},
   "outputs": [],
   "source": [
    "class Wall():\n",
    "    status = True    # class atttributes\n",
    "    def __init__(self, start, end, height):\n",
    "        self.start = start    # instance attributes\n",
    "        self.end = end        # instance attributes\n",
    "        self.height = height  # instance attributes"
   ]
  },
  {
   "cell_type": "code",
   "execution_count": null,
   "metadata": {},
   "outputs": [],
   "source": [
    "wall_0 = Wall((0,0), (20,0), 5)\n",
    "wall_1 = Wall((30,0), (0,40), 4.6)\n",
    "print(wall_0.start, wall_0.end)\n",
    "print(wall_0.height, wall_1.height)\n",
    "print(wall_0.status, wall_1.status)"
   ]
  },
  {
   "cell_type": "markdown",
   "metadata": {},
   "source": [
    "### <font color = \"#81263f\">9.2.3 Methods</font>"
   ]
  },
  {
   "cell_type": "code",
   "execution_count": null,
   "metadata": {},
   "outputs": [],
   "source": [
    "class Wall():\n",
    "    def __init__(self, start, end, height):\n",
    "        self.start = start    # instance attributes\n",
    "        self.end = end        # instance attributes\n",
    "        self.height = height  # instance attributes\n",
    "        self.status = True    # class atttributes\n",
    "    \n",
    "    def wallLength(self):\n",
    "        length = ((self.start[0]-self.end[0])**2 + (self.start[1]-self.end[1])**2)**0.5\n",
    "        return length"
   ]
  },
  {
   "cell_type": "code",
   "execution_count": null,
   "metadata": {},
   "outputs": [],
   "source": [
    "wall_0 = Wall((0,0), (20,0), 5)\n",
    "print(wall_0.wallLength())"
   ]
  },
  {
   "cell_type": "code",
   "execution_count": null,
   "metadata": {},
   "outputs": [],
   "source": [
    "wall_1 = Wall((30,0), (0,40), 4.6)\n",
    "print(wall_1.wallLength())"
   ]
  },
  {
   "cell_type": "markdown",
   "metadata": {},
   "source": [
    "### <font color = \"#81263f\">9.2.4 Function and Method</font>"
   ]
  },
  {
   "cell_type": "markdown",
   "metadata": {},
   "source": [
    "The main difference between a function and a method is how they are accessed. While a built-in or user-defined function can be accessed directly—function(), a method belongs to a class and is typically accessed through its objects using the dot notation—object.method()."
   ]
  },
  {
   "cell_type": "code",
   "execution_count": null,
   "metadata": {},
   "outputs": [],
   "source": [
    "class Wall():\n",
    "    def __init__(self, start, end, height):\n",
    "        self.start = start  \n",
    "        self.end = end       \n",
    "        self.height = height  \n",
    "        self.status = True\n",
    "    \n",
    "    def wallLength(self):   # this is a method of Wall class\n",
    "        length = ((self.start[0]-self.end[0])**2 + (self.start[1]-self.end[1])**2)**0.5\n",
    "        return length\n",
    "\n",
    "def getWallLength(wall):    # this is a function\n",
    "    length = ((wall.start[0]-wall.end[0])**2 + (wall.start[1]-wall.end[1])**2)**0.5\n",
    "    return length"
   ]
  },
  {
   "cell_type": "code",
   "execution_count": null,
   "metadata": {},
   "outputs": [],
   "source": [
    "wall_0 = Wall((0,0), (20,0), 5)\n",
    "method = wall_0.wallLength()\n",
    "func = getWallLength(wall_0)\n",
    "print(method, func)"
   ]
  },
  {
   "cell_type": "markdown",
   "metadata": {},
   "source": [
    "## <font style=\"background:#81263f;color:white\">9.3 Inheritance  </font>"
   ]
  },
  {
   "cell_type": "markdown",
   "metadata": {},
   "source": [
    "### <font color = \"#81263f\">9.3.1 The Concept of Inheritance</font>"
   ]
  },
  {
   "cell_type": "markdown",
   "metadata": {},
   "source": [
    "### <font color = \"#81263f\">9.3.2 Object from Parents</font>"
   ]
  },
  {
   "cell_type": "code",
   "execution_count": null,
   "metadata": {},
   "outputs": [],
   "source": [
    "class LoadBearing(Wall):\n",
    "    def __init__(self):\n",
    "        pass\n",
    "\n",
    "class Partition(Wall):\n",
    "    def __init__(self):\n",
    "        pass"
   ]
  },
  {
   "cell_type": "code",
   "execution_count": null,
   "metadata": {},
   "outputs": [],
   "source": [
    "wall_0 = LoadBearing()\n",
    "wall_1 = Partition()\n",
    "\n",
    "print(type(wall_0), wall_0.__class__.__bases__)\n",
    "print(type(wall_1), wall_1.__class__.__bases__)"
   ]
  },
  {
   "cell_type": "markdown",
   "metadata": {},
   "source": [
    "### <font color = \"#81263f\">9.3.3 Inherited Attributes</font>"
   ]
  },
  {
   "cell_type": "code",
   "execution_count": null,
   "metadata": {},
   "outputs": [],
   "source": [
    "class LoadBearing(Wall):\n",
    "    def __init__(self, start, end, height, window):\n",
    "        Wall.__init__(self, start, end, height)\n",
    "        self.window = window\n",
    "\n",
    "class Partition(Wall):\n",
    "    def __init__(self, start, end, height, window):\n",
    "        super().__init__(start, end, height)\n",
    "        self.window = window"
   ]
  },
  {
   "cell_type": "code",
   "execution_count": null,
   "metadata": {},
   "outputs": [],
   "source": [
    "wall_0 = LoadBearing((0,0), (20,0), 5, True)\n",
    "wall_1 = Partition((30,0), (0,40), 4.6, False)\n",
    "\n",
    "print(wall_0.start, wall_0.end, wall_0.height, wall_0.window)\n",
    "print(wall_1.start, wall_1.end, wall_1.height, wall_1.window)"
   ]
  },
  {
   "cell_type": "markdown",
   "metadata": {},
   "source": [
    "### <font color = \"#81263f\">9.3.4 Inherited Methods</font>"
   ]
  },
  {
   "cell_type": "code",
   "execution_count": null,
   "metadata": {},
   "outputs": [],
   "source": [
    "class LoadBearing(Wall):\n",
    "    def __init__(self, start, end, height, window):\n",
    "        Wall.__init__(self, start, end, height)\n",
    "        self.window = window\n",
    "    def wallLength(self):\n",
    "        return Wall.wallLength(self)\n",
    "\n",
    "class Partition(Wall):\n",
    "    def __init__(self, start, end, height, window):\n",
    "        super().__init__(start, end, height)\n",
    "        self.window = window\n",
    "    def wallLength(self):\n",
    "        return super().wallLength()"
   ]
  },
  {
   "cell_type": "code",
   "execution_count": null,
   "metadata": {},
   "outputs": [],
   "source": [
    "wall_0 = LoadBearing((0,0), (20,0), 5, True)\n",
    "wall_1 = Partition((30,0), (0,40), 4.6, False)\n",
    "print(wall_0.wallLength())\n",
    "print(wall_1.wallLength())"
   ]
  },
  {
   "cell_type": "markdown",
   "metadata": {},
   "source": [
    "## <font style=\"background:#81263f;color:white\">9.4 Exercise: qGrowth Grammar  </font>"
   ]
  },
  {
   "cell_type": "markdown",
   "metadata": {},
   "source": [
    "### <font color = \"#81263f\">9.4.1  Concept</font>"
   ]
  },
  {
   "cell_type": "markdown",
   "metadata": {},
   "source": [
    "### <font color = \"#81263f\">9.4.2  Rules : Rule 1</font>"
   ]
  },
  {
   "cell_type": "markdown",
   "metadata": {},
   "source": [
    "### <font color = \"#81263f\">9.4.3  Rules : Rule 2 and Rule 3</font>"
   ]
  },
  {
   "cell_type": "markdown",
   "metadata": {},
   "source": [
    "### <font color = \"#81263f\">9.4.4  Strategy</font>"
   ]
  },
  {
   "cell_type": "markdown",
   "metadata": {},
   "source": [
    "### <font color = \"#81263f\">9.4.5 Helper Function : Distance</font>"
   ]
  },
  {
   "cell_type": "code",
   "execution_count": null,
   "metadata": {},
   "outputs": [],
   "source": [
    "import random\n",
    "from math import pi,cos,sin"
   ]
  },
  {
   "cell_type": "code",
   "execution_count": null,
   "metadata": {},
   "outputs": [],
   "source": [
    "def getDist(pt0,pt1):\n",
    "    dist = ((pt1[0]-pt0[0])**2+(pt1[1]-pt0[1])**2)**0.5\n",
    "    return dist"
   ]
  },
  {
   "cell_type": "markdown",
   "metadata": {},
   "source": [
    "### <font color = \"#81263f\">9.4.6 Helper Function : Generate Square</font>"
   ]
  },
  {
   "cell_type": "code",
   "execution_count": null,
   "metadata": {},
   "outputs": [],
   "source": [
    "def getRotatedCoord(pt0,pt1,angle):\n",
    "    vec = (pt1[0]-pt0[0],pt1[1]-pt0[1])\n",
    "    rotated_vec = (vec[0]*cos(angle)-vec[1]*sin(angle),\n",
    "                   vec[0]*sin(angle)+vec[1]*cos(angle))\n",
    "    coordinates = (round(pt0[0]+rotated_vec[0],2),\n",
    "                   round(pt0[1]+rotated_vec[1],2))\n",
    "    return coordinates\n",
    "\n",
    "def genSquare(pt0,pt1,angle):\n",
    "    pt2 = getRotatedCoord(pt0,pt1,angle)\n",
    "    pt3 = getRotatedCoord(pt1,pt0,-angle)\n",
    "    square = [pt0,pt1,pt3,pt2]\n",
    "    return square"
   ]
  },
  {
   "cell_type": "markdown",
   "metadata": {},
   "source": [
    "### <font color = \"#81263f\">9.4.7 Helper Function : Subdivision Point</font>"
   ]
  },
  {
   "cell_type": "code",
   "execution_count": null,
   "metadata": {},
   "outputs": [],
   "source": [
    "def getPointOnLine(line, t):\n",
    "    pt0,pt1 = line\n",
    "    if pt0[0] < pt1[0]:\n",
    "        new_x = pt0[0] + abs(pt1[0]-pt0[0])*t\n",
    "    else:\n",
    "        new_x = pt0[0] - abs(pt1[0]-pt0[0])*t\n",
    "    \n",
    "    if pt0[1] < pt1[1]:\n",
    "        new_y = pt0[1] + abs(pt1[1]-pt0[1])*t\n",
    "    else:\n",
    "        new_y = pt0[1] - abs(pt1[1]-pt0[1])*t\n",
    "    return new_x, new_y"
   ]
  },
  {
   "cell_type": "markdown",
   "metadata": {},
   "source": [
    "### <font color = \"#81263f\">9.4.8 Line Intersection : Same Lines</font>"
   ]
  },
  {
   "cell_type": "code",
   "execution_count": null,
   "metadata": {},
   "outputs": [],
   "source": [
    "def isSamePoint(pt0,pt1):\n",
    "    almost_same_x = abs(pt0[0]-pt1[0]) < 0.001\n",
    "    almost_same_y = abs(pt0[1]-pt1[1]) < 0.001\n",
    "    if almost_same_x == True and almost_same_y ==True:\n",
    "        return True\n",
    "    else: return False\n",
    "    \n",
    "def isSameLine(line0,line1):\n",
    "    pt0,pt1 = line0\n",
    "    pt2,pt3 = line1\n",
    "    case_0 = isSamePoint(pt0,pt2) or isSamePoint(pt0,pt3)\n",
    "    case_1 = isSamePoint(pt1,pt2) or isSamePoint(pt1,pt3)\n",
    "    return case_0 and case_1"
   ]
  },
  {
   "cell_type": "markdown",
   "metadata": {},
   "source": [
    "### <font color = \"#81263f\">9.4.9 Line Intersection : Joined Lines</font>"
   ]
  },
  {
   "cell_type": "code",
   "execution_count": null,
   "metadata": {},
   "outputs": [],
   "source": [
    "def isJoined(line0,line1):\n",
    "    pt0,pt1 = line0\n",
    "    pt2,pt3 = line1\n",
    "    case_0 = isSamePoint(pt0,pt2) or isSamePoint(pt0,pt3)\n",
    "    case_1 = isSamePoint(pt1,pt2) or isSamePoint(pt1,pt3)\n",
    "    return (case_0 or case_1) and not (case_0 and case_1)"
   ]
  },
  {
   "cell_type": "markdown",
   "metadata": {},
   "source": [
    "### <font color = \"#81263f\">9.4.10 Line Intersection : Crossed Lines</font>"
   ]
  },
  {
   "cell_type": "code",
   "execution_count": null,
   "metadata": {},
   "outputs": [],
   "source": [
    "def det(a, b):\n",
    "    return a[0] * b[1] - a[1] * b[0]"
   ]
  },
  {
   "cell_type": "code",
   "execution_count": null,
   "metadata": {},
   "outputs": [],
   "source": [
    "def isCrossing(line0, line1):\n",
    "    xdiff = (line0[0][0] - line0[1][0], line1[0][0] - line1[1][0])\n",
    "    ydiff = (line0[0][1] - line0[1][1], line1[0][1] - line1[1][1])\n",
    "    div = det(xdiff, ydiff)\n",
    "    if div == 0:\n",
    "        return False\n",
    "\n",
    "    d = (det(*line0), det(*line1))\n",
    "    x, y = det(d, xdiff) / div, det(d, ydiff) / div\n",
    "    \n",
    "    check_0 = min(line0[0][0],line0[1][0])<=x<=max(line0[0][0],line0[1][0])\n",
    "    check_1 = min(line0[0][1],line0[1][1])<=y<=max(line0[0][1],line0[1][1]) \n",
    "    check_2 = min(line1[0][0],line1[1][0])<=x<=max(line1[0][0],line1[1][0])\n",
    "    check_3 = min(line1[0][1],line1[1][1])<=y<=max(line1[0][1],line1[1][1])\n",
    "\n",
    "    return check_0 and check_1 and check_2 and check_3"
   ]
  },
  {
   "cell_type": "markdown",
   "metadata": {},
   "source": [
    "### <font color = \"#81263f\">9.4.11 Line Intersection</font>"
   ]
  },
  {
   "cell_type": "code",
   "execution_count": null,
   "metadata": {},
   "outputs": [],
   "source": [
    "def lineIntersection(line0, line1):\n",
    "    '''line1 = [pt0,pt1], line2 = [pt2,pt3]'''\n",
    "    \n",
    "    # case 0. same line\n",
    "    if isSameLine(line0,line1):\n",
    "        return -1\n",
    "    \n",
    "    # case 1. sharing a same veritce:\n",
    "    if isJoined(line0,line1):\n",
    "        return 1\n",
    "    \n",
    "    # case 2. crossing each other\n",
    "    if isCrossing(line0, line1):\n",
    "        return 2\n",
    "    \n",
    "    # case 3. no intersection\n",
    "    return 0\n"
   ]
  },
  {
   "cell_type": "markdown",
   "metadata": {},
   "source": [
    "### <font color = \"#81263f\">9.4.12 Quad : Initialization</font>"
   ]
  },
  {
   "cell_type": "code",
   "execution_count": null,
   "metadata": {},
   "outputs": [],
   "source": [
    "class Quad():\n",
    "    def __init__(self, vertices):\n",
    "        '''vertices = [pt0, pt1, pt2, pt3]'''\n",
    "        self.vertices = vertices\n",
    "        self.edges = self.genEdges()\n",
    "        \n",
    "    def genEdges(self):\n",
    "        '''edge = [pt0,pt1]'''\n",
    "        edges = [[self.vertices[0], self.vertices[1]],\n",
    "                 [self.vertices[1], self.vertices[2]],\n",
    "                 [self.vertices[2], self.vertices[3]],\n",
    "                 [self.vertices[3], self.vertices[0]]]\n",
    "        return edges"
   ]
  },
  {
   "cell_type": "markdown",
   "metadata": {},
   "source": [
    "### <font color = \"#81263f\">9.4.13 Quad : Containment</font>"
   ]
  },
  {
   "cell_type": "code",
   "execution_count": null,
   "metadata": {},
   "outputs": [],
   "source": [
    "    def containedBy(self,another_quad):\n",
    "        pt0,pt1,pt2,pt3 = another_quad.vertices\n",
    "        min_x = min([pt0[0],pt1[0],pt2[0],pt3[0]])\n",
    "        max_x = max([pt0[0],pt1[0],pt2[0],pt3[0]])\n",
    "        for pt in self.vertices:\n",
    "            if pt[0]<min_x or max_x<pt[0]:\n",
    "                return False\n",
    "        return True"
   ]
  },
  {
   "cell_type": "markdown",
   "metadata": {},
   "source": [
    "### <font color = \"#81263f\">9.4.14 Quad : Intersection</font>"
   ]
  },
  {
   "cell_type": "code",
   "execution_count": null,
   "metadata": {},
   "outputs": [],
   "source": [
    "    def intersectWith(self, another_quad):\n",
    "        result = False\n",
    "        score = 0\n",
    "        intersects = {-1:0, 0:0, 1:0, 2:0}\n",
    "        for cur_edge in self.edges:\n",
    "            for test_edge in another_quad.edges:\n",
    "                test = lineIntersection(cur_edge,test_edge)\n",
    "                intersects[test] += 1\n",
    "                score+=test\n",
    "        return intersects"
   ]
  },
  {
   "cell_type": "markdown",
   "metadata": {},
   "source": [
    "### <font color = \"#81263f\">9.4.15 Quad : Rule 1</font>"
   ]
  },
  {
   "cell_type": "code",
   "execution_count": null,
   "metadata": {},
   "outputs": [],
   "source": [
    "    def rule1(self):\n",
    "        '''gen new quad, no intersection, oriented outside'''\n",
    "        candidates = []\n",
    "        for cur_edge in self.edges:\n",
    "            candidates += [Quad(genSquare(cur_edge[0],cur_edge[1],0.5*pi)),\n",
    "                          Quad(genSquare(cur_edge[0],cur_edge[1],-0.5*pi))]\n",
    "        new_quad = random.choice(candidates)\n",
    "        return new_quad"
   ]
  },
  {
   "cell_type": "markdown",
   "metadata": {},
   "source": [
    "### <font color = \"#81263f\">Quad</font>"
   ]
  },
  {
   "cell_type": "code",
   "execution_count": null,
   "metadata": {},
   "outputs": [],
   "source": [
    "class Quad():\n",
    "    def __init__(self, vertices):\n",
    "        '''vertices = [pt0, pt1, pt2, pt3]'''\n",
    "        self.vertices = vertices\n",
    "        self.edges = self.genEdges()\n",
    "        \n",
    "    def genEdges(self):\n",
    "        '''edge = [pt0,pt1]'''\n",
    "        edges = [[self.vertices[0], self.vertices[1]],\n",
    "                 [self.vertices[1], self.vertices[2]],\n",
    "                 [self.vertices[2], self.vertices[3]],\n",
    "                 [self.vertices[3], self.vertices[0]]]\n",
    "        return edges\n",
    "    \n",
    "    def containedBy(self,another_quad):\n",
    "        pt0,pt1,pt2,pt3 = another_quad.vertices\n",
    "        min_x = min([pt0[0],pt1[0],pt2[0],pt3[0]])\n",
    "        max_x = max([pt0[0],pt1[0],pt2[0],pt3[0]])\n",
    "        for pt in self.vertices:\n",
    "            if pt[0]<min_x or max_x<pt[0]:\n",
    "                return False\n",
    "        return True\n",
    "    \n",
    "    def intersectWith(self, another_quad):\n",
    "        result = False\n",
    "        score = 0\n",
    "        intersects = {-1:0, 0:0, 1:0, 2:0}\n",
    "        for cur_edge in self.edges:\n",
    "            for test_edge in another_quad.edges:\n",
    "                test = lineIntersection(cur_edge,test_edge)\n",
    "                intersects[test] += 1\n",
    "                score+=test\n",
    "        return intersects\n",
    "    \n",
    "    def rule1(self):\n",
    "        '''gen new quad, no intersection, oriented outside'''\n",
    "        candidates = []\n",
    "        for cur_edge in self.edges:\n",
    "            candidates += [Quad(genSquare(cur_edge[0],cur_edge[1],0.5*pi)),\n",
    "                          Quad(genSquare(cur_edge[0],cur_edge[1],-0.5*pi))]\n",
    "        new_quad = random.choice(candidates)\n",
    "        return new_quad"
   ]
  },
  {
   "cell_type": "markdown",
   "metadata": {},
   "source": [
    "### <font color = \"#81263f\">9.4.16 SGQuad : Inheritance</font>"
   ]
  },
  {
   "cell_type": "code",
   "execution_count": null,
   "metadata": {},
   "outputs": [],
   "source": [
    "class SGQuad(Quad):\n",
    "    def __init__(self, vertices):\n",
    "        '''vertices = [pt0, pt1, pt2, pt3]'''\n",
    "        super().__init__(vertices)\n",
    "        \n",
    "    def genEdges(self):\n",
    "        return super().genEdges()\n",
    "    \n",
    "    def containedBy(self,another_quad):\n",
    "        return super().intersectWith(another_quad)\n",
    "    \n",
    "    def intersectWith(self,another_quad):\n",
    "        return super().intersectWith(another_quad)"
   ]
  },
  {
   "cell_type": "markdown",
   "metadata": {},
   "source": [
    "### <font color = \"#81263f\">9.4.17 SGQuad : Rule 2 and Rule 3</font>"
   ]
  },
  {
   "cell_type": "code",
   "execution_count": null,
   "metadata": {},
   "outputs": [],
   "source": [
    "    def rule2(self):\n",
    "        new_pt_0 = getPointOnLine(self.edges[1], 1.25)\n",
    "        new_pt_1 = getPointOnLine(self.edges[-1], 0.75)\n",
    "        self.vertices[2] = new_pt_0\n",
    "        self.vertices[3] = new_pt_1\n",
    "        self.edges = self.genEdges()  "
   ]
  },
  {
   "cell_type": "code",
   "execution_count": null,
   "metadata": {},
   "outputs": [],
   "source": [
    "    def rule3(self):\n",
    "        new_pt_0 = getPointOnLine(self.edges[1], 0.25)\n",
    "        new_pt_1 = getPointOnLine(self.edges[-1], 0.25)\n",
    "        print(\"---\", new_pt_0, new_pt_1)\n",
    "        self.vertices[2] = new_pt_0\n",
    "        self.vertices[3] = new_pt_1\n",
    "        self.edges = self.genEdges()"
   ]
  },
  {
   "cell_type": "markdown",
   "metadata": {},
   "source": [
    "### <font color = \"#81263f\">SGQuad</font>"
   ]
  },
  {
   "cell_type": "code",
   "execution_count": null,
   "metadata": {},
   "outputs": [],
   "source": [
    "class SGQuad(Quad):\n",
    "    def __init__(self, vertices):\n",
    "        '''vertices = [pt0, pt1, pt2, pt3]'''\n",
    "        super().__init__(vertices)\n",
    "        \n",
    "    def genEdges(self):\n",
    "        return super().genEdges()\n",
    "    \n",
    "    def containedBy(self,another_quad):\n",
    "        return super().intersectWith(another_quad)\n",
    "    \n",
    "    def intersectWith(self,another_quad):\n",
    "        return super().intersectWith(another_quad)\n",
    "\n",
    "    def rule2(self):\n",
    "        new_pt_0 = getPointOnLine(self.edges[1], 1.25)\n",
    "        new_pt_1 = getPointOnLine(self.edges[-1], 0.75)\n",
    "        self.vertices[2] = new_pt_0\n",
    "        self.vertices[3] = new_pt_1\n",
    "        self.edges = self.genEdges()    \n",
    "    \n",
    "    def rule3(self):\n",
    "        new_pt_0 = getPointOnLine(self.edges[1], 0.25)\n",
    "        new_pt_1 = getPointOnLine(self.edges[-1], 0.25)\n",
    "        print(\"---\", new_pt_0, new_pt_1)\n",
    "        self.vertices[2] = new_pt_0\n",
    "        self.vertices[3] = new_pt_1\n",
    "        self.edges = self.genEdges()"
   ]
  },
  {
   "cell_type": "markdown",
   "metadata": {},
   "source": [
    "### <font color = \"#81263f\">9.4.18 Solver : Initialization</font>"
   ]
  },
  {
   "cell_type": "code",
   "execution_count": null,
   "metadata": {},
   "outputs": [],
   "source": [
    "class Solver():\n",
    "    def __init__(self,init_quad):\n",
    "        self.quads = [init_quad]"
   ]
  },
  {
   "cell_type": "markdown",
   "metadata": {},
   "source": [
    "### <font color = \"#81263f\">9.4.19 Solver : Intersect and Applying Rules</font>"
   ]
  },
  {
   "cell_type": "code",
   "execution_count": null,
   "metadata": {},
   "outputs": [],
   "source": [
    "    def intersect(self,cur_quad):\n",
    "        for quad in self.quads:\n",
    "            score = cur_quad.intersectWith(quad)\n",
    "            contain = cur_quad.containedBy(quad)\n",
    "            print(score, contain)\n",
    "            if contain: return True\n",
    "            if score[2]>0 or score[-1]==4:\n",
    "                return True\n",
    "        return False"
   ]
  },
  {
   "cell_type": "code",
   "execution_count": null,
   "metadata": {},
   "outputs": [],
   "source": [
    "    def applyRandomRule(self,new_quad):\n",
    "        rule = random.choice([2,3])\n",
    "        if rule == 2: return new_quad.rule2()\n",
    "        elif rule == 3: return new_quad.rule3()"
   ]
  },
  {
   "cell_type": "markdown",
   "metadata": {},
   "source": [
    "### <font color = \"#81263f\">9.4.20 Solver : Growth</font>"
   ]
  },
  {
   "cell_type": "code",
   "execution_count": null,
   "metadata": {},
   "outputs": [],
   "source": [
    "    def growth(self,iteration):\n",
    "        num_quad = 0\n",
    "        \n",
    "        while num_quad < iteration:\n",
    "            cur_quad = self.quads[-1]\n",
    "            new_quad = cur_quad.rule1()\n",
    "            intersect = self.intersect(new_quad)\n",
    "            \n",
    "            if not intersect:\n",
    "                new_quad = SGQuad(new_quad.vertices)\n",
    "                self.applyRandomRule(new_quad)\n",
    "                self.quads.append(new_quad)            \n",
    "                num_quad+=1"
   ]
  },
  {
   "cell_type": "markdown",
   "metadata": {},
   "source": [
    "### <font color = \"#81263f\">Solver</font>"
   ]
  },
  {
   "cell_type": "code",
   "execution_count": null,
   "metadata": {},
   "outputs": [],
   "source": [
    "class Solver():\n",
    "    def __init__(self,init_quad):\n",
    "        self.quads = [init_quad]\n",
    "    \n",
    "    def intersect(self,cur_quad):\n",
    "        for quad in self.quads:\n",
    "            score = cur_quad.intersectWith(quad)\n",
    "            contain = cur_quad.containedBy(quad)\n",
    "            print(score, contain)\n",
    "            if contain: return True\n",
    "            if score[2]>0 or score[-1]==4:\n",
    "                return True\n",
    "        return False\n",
    "    \n",
    "    def applyRandomRule(self,new_quad):\n",
    "        rule = random.choice([2,3])\n",
    "        if rule == 2: return new_quad.rule2()\n",
    "        elif rule == 3: return new_quad.rule3()\n",
    "    \n",
    "    def growth(self,iteration):\n",
    "        num_quad = 0\n",
    "        \n",
    "        while num_quad < iteration:\n",
    "            cur_quad = self.quads[-1]\n",
    "            new_quad = cur_quad.rule1()\n",
    "            intersect = self.intersect(new_quad)\n",
    "            if intersect:\n",
    "                continue\n",
    "            new_quad = SGQuad(new_quad.vertices)\n",
    "            self.applyRandomRule(new_quad)\n",
    "            self.quads.append(new_quad)            \n",
    "            num_quad+=1\n",
    "        "
   ]
  },
  {
   "cell_type": "markdown",
   "metadata": {},
   "source": [
    "### <font color = \"#81263f\">9.4.21 Run</font>"
   ]
  },
  {
   "cell_type": "code",
   "execution_count": null,
   "metadata": {
    "scrolled": true
   },
   "outputs": [],
   "source": [
    "test_quad = Quad([(200,100),(240,100),(260,180),(200,120)])\n",
    "run = Solver(test_quad)\n",
    "run.growth(8)"
   ]
  },
  {
   "cell_type": "markdown",
   "metadata": {},
   "source": [
    "### <font color = \"#81263f\">9.4.22 Visualization</font>"
   ]
  },
  {
   "cell_type": "code",
   "execution_count": null,
   "metadata": {
    "scrolled": true
   },
   "outputs": [],
   "source": [
    "from ipycanvas import Canvas\n",
    "canvas = Canvas(width=650, height=300)\n",
    "\n",
    "def drawQuad(canvas,quad):\n",
    "    pt0,pt1,pt2,pt3 = quad\n",
    "\n",
    "    canvas.begin_path()\n",
    "    canvas.move_to(pt0[0], pt0[1])\n",
    "    canvas.line_to(pt1[0], pt1[1])\n",
    "    canvas.line_to(pt2[0], pt2[1])\n",
    "    canvas.line_to(pt3[0], pt3[1])\n",
    "    canvas.line_to(pt0[0], pt0[1])\n",
    "    canvas.stroke_style = '#81263f'\n",
    "    canvas.stroke()\n",
    "    \n",
    "def drawQuads(canvas,quads):\n",
    "    for quad in quads:\n",
    "        drawQuad(canvas,quad.vertices)"
   ]
  },
  {
   "cell_type": "markdown",
   "metadata": {},
   "source": [
    "### <font color = \"#81263f\">9.4.23 Results</font>"
   ]
  },
  {
   "cell_type": "code",
   "execution_count": null,
   "metadata": {
    "scrolled": true
   },
   "outputs": [],
   "source": [
    "drawQuads(canvas,run.quads)\n",
    "canvas"
   ]
  }
 ],
 "metadata": {
  "kernelspec": {
   "display_name": "Python 3 (ipykernel)",
   "language": "python",
   "name": "python3"
  },
  "language_info": {
   "codemirror_mode": {
    "name": "ipython",
    "version": 3
   },
   "file_extension": ".py",
   "mimetype": "text/x-python",
   "name": "python",
   "nbconvert_exporter": "python",
   "pygments_lexer": "ipython3",
   "version": "3.9.12"
  }
 },
 "nbformat": 4,
 "nbformat_minor": 2
}

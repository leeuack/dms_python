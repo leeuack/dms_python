{
 "cells": [
  {
   "cell_type": "markdown",
   "metadata": {},
   "source": [
    "# <font color = \"#81263f\" size = \"60\">7. Set and Dictionary</font>"
   ]
  },
  {
   "cell_type": "markdown",
   "metadata": {},
   "source": [
    "## <font style=\"background:#81263f;color:white\">7.1 Set  </font>"
   ]
  },
  {
   "cell_type": "markdown",
   "metadata": {},
   "source": [
    "### <font color = \"#81263f\">7.1.1 Set</font>"
   ]
  },
  {
   "cell_type": "code",
   "execution_count": null,
   "metadata": {},
   "outputs": [],
   "source": [
    "architects = {\"Rossi\", \"Kahn\", \"Ingels\", \"Siza\", \"Chipperfield\"}\n",
    "print(type(architects))"
   ]
  },
  {
   "cell_type": "code",
   "execution_count": null,
   "metadata": {},
   "outputs": [],
   "source": [
    "components = {\"basement\", \"floor\", \"columns\", \"walls\", \"stairs\", \"doors\", \"windows\", \"roofs\"}\n",
    "print(type(components))"
   ]
  },
  {
   "cell_type": "code",
   "execution_count": null,
   "metadata": {
    "scrolled": true
   },
   "outputs": [],
   "source": [
    "date = {2009, 1967, 2010, 1996, 2003}\n",
    "print(type(date))"
   ]
  },
  {
   "cell_type": "markdown",
   "metadata": {},
   "source": [
    "### <font color = \"#81263f\">7.1.2 Unordered and Unique</font>"
   ]
  },
  {
   "cell_type": "code",
   "execution_count": null,
   "metadata": {},
   "outputs": [],
   "source": [
    "architects = {\"Rossi\", \"Kahn\", \"Ingels\", \"Siza\", \"Chipperfield\"}\n",
    "print(type(architects))\n",
    "print(architects)"
   ]
  },
  {
   "cell_type": "code",
   "execution_count": null,
   "metadata": {},
   "outputs": [],
   "source": [
    "components = {\"basement\", \"floor\", \"floor\", \"floor\", \"stairs\", \"doors\", \"windows\", \"roofs\"}\n",
    "print(components)"
   ]
  },
  {
   "cell_type": "code",
   "execution_count": null,
   "metadata": {},
   "outputs": [],
   "source": [
    "date = {2009, 2009, 2009, 1996, 2003}\n",
    "print(date)"
   ]
  },
  {
   "cell_type": "markdown",
   "metadata": {},
   "source": [
    "### <font color = \"#81263f\">7.1.4 List to Set</font>"
   ]
  },
  {
   "cell_type": "code",
   "execution_count": null,
   "metadata": {
    "scrolled": true
   },
   "outputs": [],
   "source": [
    "architects = [\"Rossi\", \"Kahn\", \"Ingels\", \"Siza\", \"Chipperfield\", \"Siza\", \"Ingels\"]\n",
    "print(architects)\n",
    "architects = set(architects)\n",
    "print(architects)\n",
    "architects = list(architects)\n",
    "print(architects)"
   ]
  },
  {
   "cell_type": "markdown",
   "metadata": {},
   "source": [
    "## <font style=\"background:#81263f;color:white\">7.2 Set Operation  </font>"
   ]
  },
  {
   "cell_type": "markdown",
   "metadata": {},
   "source": [
    "### <font color = \"#81263f\">7.2.1 Length</font>"
   ]
  },
  {
   "cell_type": "code",
   "execution_count": null,
   "metadata": {},
   "outputs": [],
   "source": [
    "architects = {\"Rossi\", \"Kahn\", \"Ingels\", \"Siza\", \"Chipperfield\"}\n",
    "print(len(architects))"
   ]
  },
  {
   "cell_type": "code",
   "execution_count": null,
   "metadata": {
    "scrolled": true
   },
   "outputs": [],
   "source": [
    "date = {2009, 2009, 2009, 1996, 2003}\n",
    "print(len(date))"
   ]
  },
  {
   "cell_type": "markdown",
   "metadata": {},
   "source": [
    "### <font color = \"#81263f\">7.2.2 Add</font>"
   ]
  },
  {
   "cell_type": "code",
   "execution_count": null,
   "metadata": {},
   "outputs": [],
   "source": [
    "architects = {\"Rossi\", \"Kahn\", \"Ingels\", \"Siza\", \"Chipperfield\"}\n",
    "print(architects)\n",
    "architects.add(\"Pawson\")\n",
    "print(architects)"
   ]
  },
  {
   "cell_type": "code",
   "execution_count": null,
   "metadata": {},
   "outputs": [],
   "source": [
    "components = {\"basement\", \"floor\", \"columns\", \"walls\", \"stairs\", \"doors\", \"windows\", \"roofs\"}\n",
    "print(components)\n",
    "components.add(\"floor\")\n",
    "print(components)"
   ]
  },
  {
   "cell_type": "markdown",
   "metadata": {},
   "source": [
    "### <font color = \"#81263f\">7.2.3 Copy</font>"
   ]
  },
  {
   "cell_type": "code",
   "execution_count": null,
   "metadata": {
    "scrolled": true
   },
   "outputs": [],
   "source": [
    "architects = {\"Rossi\", \"Kahn\", \"Ingels\", \"Siza\", \"Chipperfield\"}\n",
    "aliased = architects\n",
    "print(aliased)            # aliased set will be the same as the original one\n",
    "aliased.add(\"Pawson\")     # a change in the aliased list\n",
    "print(aliased)            \n",
    "print(architects)         # the original list was also changed.\n",
    "print(architects == aliased)\n",
    "copied = architects.copy()\n",
    "print(copied)\n",
    "print(architects == copied)\n",
    "copied.add(\"Baeza\")       # a change in the aliased copied list\n",
    "print(copied)\n",
    "print(architects == copied) # the original list was not changed."
   ]
  },
  {
   "cell_type": "markdown",
   "metadata": {},
   "source": [
    "### <font color = \"#81263f\">7.2.4 In and Not In</font>"
   ]
  },
  {
   "cell_type": "code",
   "execution_count": null,
   "metadata": {},
   "outputs": [],
   "source": [
    "architects = {\"Rossi\", \"Kahn\", \"Ingels\", \"Siza\", \"Chipperfield\"}\n",
    "print(\"Siza\" in architects)\n",
    "print(\"Siza\" not in architects)"
   ]
  },
  {
   "cell_type": "code",
   "execution_count": null,
   "metadata": {},
   "outputs": [],
   "source": [
    "components = {\"basement\", \"floor\", \"columns\", \"walls\", \"stairs\", \"doors\", \"windows\", \"roofs\"}\n",
    "print(\"columns\" in components)\n",
    "print(\"columns\" not in components)"
   ]
  },
  {
   "cell_type": "code",
   "execution_count": null,
   "metadata": {},
   "outputs": [],
   "source": [
    "date = {2009, 2009, 2009, 1996, 2003}\n",
    "print(2009 in date)\n",
    "print(1996 not in date)"
   ]
  },
  {
   "cell_type": "markdown",
   "metadata": {},
   "source": [
    "### <font color = \"#81263f\">7.2.5 Discard and Remove</font>"
   ]
  },
  {
   "cell_type": "code",
   "execution_count": null,
   "metadata": {},
   "outputs": [],
   "source": [
    "architects = {\"Rossi\", \"Kahn\", \"Ingels\", \"Siza\", \"Chipperfield\"}\n",
    "architects.discard(\"Siza\")\n",
    "print(architects)\n",
    "architects.discard(\"Pawson\")\n",
    "print(architects)"
   ]
  },
  {
   "cell_type": "code",
   "execution_count": null,
   "metadata": {
    "scrolled": true
   },
   "outputs": [],
   "source": [
    "architects = {\"Rossi\", \"Kahn\", \"Ingels\", \"Siza\", \"Chipperfield\"}\n",
    "architects.remove(\"Siza\")\n",
    "print(architects)\n",
    "architects.remove(\"Pawson\")\n",
    "print(architects)"
   ]
  },
  {
   "cell_type": "markdown",
   "metadata": {},
   "source": [
    "### <font color = \"#81263f\">7.2.6 Pop and Clear\n",
    "</font>"
   ]
  },
  {
   "cell_type": "code",
   "execution_count": null,
   "metadata": {},
   "outputs": [],
   "source": [
    "architects = {\"Rossi\", \"Kahn\", \"Ingels\", \"Siza\", \"Chipperfield\"}\n",
    "print(architects)\n",
    "extracted = architects.pop()\n",
    "print(architects)\n",
    "print(extracted)\n",
    "extracted = architects.pop()\n",
    "print(architects)\n",
    "print(extracted)"
   ]
  },
  {
   "cell_type": "code",
   "execution_count": null,
   "metadata": {
    "scrolled": true
   },
   "outputs": [],
   "source": [
    "architects = {\"Rossi\", \"Kahn\", \"Ingels\", \"Siza\", \"Chipperfield\"}\n",
    "print(architects)\n",
    "architects.clear()\n",
    "print(architects, len(architects))"
   ]
  },
  {
   "cell_type": "markdown",
   "metadata": {},
   "source": [
    "### <font color = \"#81263f\">7.2.7 Union </font>"
   ]
  },
  {
   "cell_type": "code",
   "execution_count": null,
   "metadata": {},
   "outputs": [],
   "source": [
    "architects_1 = {\"Rossi\", \"Kahn\", \"Ingels\", \"Siza\", \"Chipperfield\"}\n",
    "architects_2 = {\"Pawson\", \"Siza\", \"Baeza\", \"Piano\"}\n",
    "architects_3 = {\"Aalto\", \"Barragan\", \"Siza\", \"Piano\", \"Perrault\", \"Chipperfield\"}\n",
    "\n",
    "architects = architects_1.union(architects_2)\n",
    "print(architects)\n",
    "architects = architects_2.union(architects_3)\n",
    "print(architects)\n",
    "architects = architects_3.union(architects_1)\n",
    "print(architects)\n",
    "architects = architects_1.union(architects_2,architects_3)\n",
    "print(architects)"
   ]
  },
  {
   "cell_type": "markdown",
   "metadata": {},
   "source": [
    "### <font color = \"#81263f\">7.2.8 Intersection </font>"
   ]
  },
  {
   "cell_type": "code",
   "execution_count": null,
   "metadata": {
    "scrolled": true
   },
   "outputs": [],
   "source": [
    "architects_1 = {\"Rossi\", \"Kahn\", \"Ingels\", \"Siza\", \"Chipperfield\"}\n",
    "architects_2 = {\"Pawson\", \"Siza\", \"Baeza\", \"Piano\"}\n",
    "architects_3 = {\"Aalto\", \"Barragan\", \"Siza\", \"Piano\", \"Perrault\", \"Chipperfield\"}\n",
    "\n",
    "architects = architects_1.intersection(architects_2)\n",
    "print(architects)\n",
    "architects = architects_2.intersection(architects_3)\n",
    "print(architects)\n",
    "architects = architects_3.intersection(architects_1)\n",
    "print(architects)\n",
    "architects = architects_1.intersection(architects_2,architects_3)\n",
    "print(architects)"
   ]
  },
  {
   "cell_type": "markdown",
   "metadata": {},
   "source": [
    "### <font color = \"#81263f\">7.2.9 Difference </font>"
   ]
  },
  {
   "cell_type": "code",
   "execution_count": null,
   "metadata": {},
   "outputs": [],
   "source": [
    "architects_1 = {\"Rossi\", \"Kahn\", \"Ingels\", \"Siza\", \"Chipperfield\"}\n",
    "architects_2 = {\"Pawson\", \"Siza\", \"Baeza\", \"Piano\"}\n",
    "architects_3 = {\"Aalto\", \"Barragan\", \"Siza\", \"Piano\", \"Perrault\", \"Chipperfield\"}\n",
    "\n",
    "architects = architects_1.difference(architects_2)\n",
    "print(architects)\n",
    "architects = architects_2.difference(architects_3)\n",
    "print(architects)\n",
    "architects = architects_3.difference(architects_1)\n",
    "print(architects)\n",
    "architects = architects_1.difference(architects_2,architects_3)\n",
    "print(architects)"
   ]
  },
  {
   "cell_type": "markdown",
   "metadata": {},
   "source": [
    "## <font style=\"background:#81263f;color:white\">7.3 Dictionary  </font>"
   ]
  },
  {
   "cell_type": "markdown",
   "metadata": {},
   "source": [
    "### <font color = \"#81263f\">7.3.1 Dictionary</font>"
   ]
  },
  {
   "cell_type": "code",
   "execution_count": null,
   "metadata": {},
   "outputs": [],
   "source": [
    "architect = {\"name\": \"Siza\",\n",
    "             \"birth\": 1933,\n",
    "             \"nationality\": \"Portugal\"}\n",
    "print(architect)"
   ]
  },
  {
   "cell_type": "code",
   "execution_count": null,
   "metadata": {
    "scrolled": true
   },
   "outputs": [],
   "source": [
    "car = {\"brand\": \"Mazda\",\n",
    "       \"type\": \"cx\",\n",
    "       \"model\": 30,\n",
    "       \"year\": 2020}\n",
    "print(car)"
   ]
  },
  {
   "cell_type": "markdown",
   "metadata": {},
   "source": [
    "### <font color = \"#81263f\">7.3.2 Efficiency: Hash Table (Optional)</font>"
   ]
  },
  {
   "cell_type": "markdown",
   "metadata": {},
   "source": [
    "### <font color = \"#81263f\">7.3.3 Key and Value</font>"
   ]
  },
  {
   "cell_type": "code",
   "execution_count": null,
   "metadata": {},
   "outputs": [],
   "source": [
    "car = {}\n",
    "print(car)\n",
    "car[\"brand\"] = \"BMW\"\n",
    "print(car)\n",
    "car[\"type\"] = \"x\"\n",
    "print(car)"
   ]
  },
  {
   "cell_type": "code",
   "execution_count": null,
   "metadata": {
    "scrolled": true
   },
   "outputs": [],
   "source": [
    "brand = car[\"brand\"]\n",
    "print(brand)\n",
    "car[\"brand\"] = \"Ford\"\n",
    "print(car[\"brand\"])\n",
    "print(car)"
   ]
  },
  {
   "cell_type": "markdown",
   "metadata": {},
   "source": [
    "### <font color = \"#81263f\">7.3.4 Dictionary from Zip and List</font>"
   ]
  },
  {
   "cell_type": "code",
   "execution_count": null,
   "metadata": {
    "scrolled": true
   },
   "outputs": [],
   "source": [
    "architects = {\"Rossi\", \"Kahn\", \"Ingels\", \"Siza\", \"Chipperfield\"}\n",
    "born = [1931, 1901, 1974, 1933, 1953]\n",
    "\n",
    "data = list(zip(architects,born))\n",
    "print(data)\n",
    "data = dict(zip(architects,born))\n",
    "print(data)"
   ]
  },
  {
   "cell_type": "code",
   "execution_count": null,
   "metadata": {},
   "outputs": [],
   "source": [
    "raw = [(\"Rossi\", 1931), (\"Kahn\",1901), (\"Ingels\",1974), (\"Siza\",1933), (\"Chipperfield\",1953)]\n",
    "data = dict(raw)\n",
    "print(data)"
   ]
  },
  {
   "cell_type": "markdown",
   "metadata": {},
   "source": [
    "### <font color = \"#81263f\">7.3.5 Get Keys</font>"
   ]
  },
  {
   "cell_type": "code",
   "execution_count": null,
   "metadata": {},
   "outputs": [],
   "source": [
    "car = {\"brand\": \"BMW\",\n",
    "       \"type\": \"x\",\n",
    "       \"model\": 9,\n",
    "       \"year\": 2020}\n",
    "print(car)\n",
    "\n",
    "keys = car.keys()\n",
    "print(type(keys), keys)\n",
    "print(list(keys))"
   ]
  },
  {
   "cell_type": "markdown",
   "metadata": {},
   "source": [
    "### <font color = \"#81263f\">7.3.6 Get Values</font>"
   ]
  },
  {
   "cell_type": "code",
   "execution_count": null,
   "metadata": {},
   "outputs": [],
   "source": [
    "car = {\"brand\": \"BMW\",\n",
    "       \"type\": \"x\",\n",
    "       \"model\": (7,9),\n",
    "       \"year\": 2020}\n",
    "print(car)\n",
    "\n",
    "values = car.values()\n",
    "print(type(values), values)\n",
    "print(list(values))"
   ]
  },
  {
   "cell_type": "markdown",
   "metadata": {},
   "source": [
    "## <font style=\"background:#81263f;color:white\">7.4 Dictionary Operation  </font>"
   ]
  },
  {
   "cell_type": "markdown",
   "metadata": {},
   "source": [
    "### <font color = \"#81263f\">7.4.1 Length</font>"
   ]
  },
  {
   "cell_type": "code",
   "execution_count": null,
   "metadata": {},
   "outputs": [],
   "source": [
    "car = {\"brand\": \"BMW\",\n",
    "       \"type\": \"x\",\n",
    "       \"model\": (7,9),\n",
    "       \"year\": 2020}\n",
    "print(car)\n",
    "print(len(car))"
   ]
  },
  {
   "cell_type": "markdown",
   "metadata": {},
   "source": [
    "### <font color = \"#81263f\">7.4.2 Del and Pop</font>"
   ]
  },
  {
   "cell_type": "code",
   "execution_count": null,
   "metadata": {},
   "outputs": [],
   "source": [
    "car = {\"brand\": \"BMW\",\n",
    "       \"type\": \"x\",\n",
    "       \"model\": (7,9),\n",
    "       \"year\": 2020}\n",
    "del car[\"year\"]\n",
    "print(car)"
   ]
  },
  {
   "cell_type": "code",
   "execution_count": null,
   "metadata": {
    "scrolled": true
   },
   "outputs": [],
   "source": [
    "car = {\"brand\": \"BMW\",\n",
    "       \"type\": \"x\",\n",
    "       \"model\": (7,9),\n",
    "       \"year\": 2020}\n",
    "print(car)\n",
    "extracted = car.pop(\"model\")\n",
    "print(car)\n",
    "print(extracted)"
   ]
  },
  {
   "cell_type": "markdown",
   "metadata": {},
   "source": [
    "### <font color = \"#81263f\">7.4.3 In and Not In</font>"
   ]
  },
  {
   "cell_type": "code",
   "execution_count": null,
   "metadata": {},
   "outputs": [],
   "source": [
    "car = {\"brand\": \"BMW\",\n",
    "       \"type\": \"x\",\n",
    "       \"model\": (7,9),\n",
    "       \"year\": 2020}\n",
    "\n",
    "print(\"model\" in car)\n",
    "print(\"year\" in car)\n",
    "print(\"x\" in car)\n",
    "print(2020 not in car)"
   ]
  },
  {
   "cell_type": "markdown",
   "metadata": {},
   "source": [
    "## <font style=\"background:#81263f;color:white\">7.5 Exercise : Random Cluster Formation  </font>"
   ]
  },
  {
   "cell_type": "code",
   "execution_count": null,
   "metadata": {},
   "outputs": [],
   "source": [
    "#run this cell, it will install ipytcanvas\n",
    "try:\n",
    "    import ipycanvas\n",
    "except ImportError as e:\n",
    "    ! pip install ipycanvas\n",
    "\n",
    "from math import pi\n",
    "from ipycanvas import MultiCanvas, hold_canvas"
   ]
  },
  {
   "cell_type": "markdown",
   "metadata": {},
   "source": [
    "### <font color = \"#81263f\">7.5.1 Strategy</font>"
   ]
  },
  {
   "cell_type": "markdown",
   "metadata": {},
   "source": [
    "### <font color = \"#81263f\">7.5.2 Create Canvas</font>"
   ]
  },
  {
   "cell_type": "code",
   "execution_count": null,
   "metadata": {},
   "outputs": [],
   "source": [
    "canvas = MultiCanvas(2,width=650, height=200)\n",
    "background_layer = canvas[0]\n",
    "interaction_layer = canvas[1]"
   ]
  },
  {
   "cell_type": "code",
   "execution_count": null,
   "metadata": {},
   "outputs": [],
   "source": [
    "# nubmer of cells in row and col = n_r, n_c\n",
    "# margins of width and height = m_w, m_h\n",
    "# n_r, n_c = 10,35\n",
    "n_r, n_c = 6,20\n",
    "m_w, m_h = 25,25"
   ]
  },
  {
   "cell_type": "markdown",
   "metadata": {},
   "source": [
    "### <font color = \"#81263f\">7.5.2 Create Grid</font>"
   ]
  },
  {
   "cell_type": "code",
   "execution_count": null,
   "metadata": {},
   "outputs": [],
   "source": [
    "def drawGrid(canvas,n_r,n_c,m_w,m_h):\n",
    "    c_w, c_h  = (canvas.width-m_w*2)/n_c,(canvas.height-m_h*2)/n_r  # cell_size\n",
    "    for col in range(n_r):\n",
    "        for row in range(n_c):\n",
    "            canvas.stroke_rect(row*c_w+m_w,col*c_h+m_h,c_w,c_h)\n",
    "    return c_w, c_h"
   ]
  },
  {
   "cell_type": "code",
   "execution_count": null,
   "metadata": {
    "scrolled": true
   },
   "outputs": [],
   "source": [
    "c_w, c_h = drawGrid(background_layer,n_r,n_c,m_w,m_h)\n",
    "print(\"cell width: \",c_w,\"    cell height: \",c_h)\n",
    "background_layer"
   ]
  },
  {
   "cell_type": "markdown",
   "metadata": {},
   "source": [
    "### <font color = \"#81263f\">7.5.3 Initialize Two Sets</font>"
   ]
  },
  {
   "cell_type": "code",
   "execution_count": null,
   "metadata": {},
   "outputs": [],
   "source": [
    "def initialize():\n",
    "    occupied = {(3,8)}\n",
    "    candidates = set()\n",
    "    return occupied, candidates"
   ]
  },
  {
   "cell_type": "code",
   "execution_count": null,
   "metadata": {},
   "outputs": [],
   "source": [
    "occupied,candidates = initialize()\n",
    "print(occupied)\n",
    "print(candidates)"
   ]
  },
  {
   "cell_type": "markdown",
   "metadata": {},
   "source": [
    "### <font color = \"#81263f\">7.5.4 Draw Cell</font>"
   ]
  },
  {
   "cell_type": "code",
   "execution_count": null,
   "metadata": {},
   "outputs": [],
   "source": [
    "def drawCell(canvas,coordi,c_w,c_h,m_w,m_h,color):\n",
    "    canvas.fill_style = color\n",
    "    canvas.fill_rect(coordi[1]*c_w+m_w,coordi[0]*c_h+m_h,c_w,c_h)"
   ]
  },
  {
   "cell_type": "markdown",
   "metadata": {},
   "source": [
    "### <font color = \"#81263f\">7.5.5 Get Neighborhoods</font>"
   ]
  },
  {
   "cell_type": "code",
   "execution_count": null,
   "metadata": {},
   "outputs": [],
   "source": [
    "def getNeighborhoods(coordi,n_r,n_c):\n",
    "    global candidates\n",
    "    global occupied\n",
    "    \n",
    "    neighbors = [(coordi[0]-1,coordi[1]-1),(coordi[0]-1,coordi[1]),(coordi[0]-1,coordi[1]+1),\n",
    "                 (coordi[0],  coordi[1]-1),                        (coordi[0],  coordi[1]+1),\n",
    "                 (coordi[0]+1,coordi[1]-1),(coordi[0]+1,coordi[1]),(coordi[0]+1,coordi[1]+1)]\n",
    "    \n",
    "    for neighbor in neighbors:\n",
    "        if 0<=neighbor[0]< n_r and 0<=neighbor[1]<n_c:\n",
    "            if neighbor not in occupied:\n",
    "                candidates.add(neighbor)"
   ]
  },
  {
   "cell_type": "markdown",
   "metadata": {},
   "source": [
    "### <font color = \"#81263f\">7.5.6 Get Candidates</font>"
   ]
  },
  {
   "cell_type": "code",
   "execution_count": null,
   "metadata": {},
   "outputs": [],
   "source": [
    "def getCandidates(n_r,n_c):\n",
    "    global occupied\n",
    "    for occu in occupied:\n",
    "        getNeighborhoods(occu,n_r,n_c)"
   ]
  },
  {
   "cell_type": "markdown",
   "metadata": {},
   "source": [
    "### <font color = \"#81263f\">7.5.7 Draw Occupied and Candidates Cells</font>"
   ]
  },
  {
   "cell_type": "code",
   "execution_count": null,
   "metadata": {},
   "outputs": [],
   "source": [
    "def drawAllCells(canvas,collection,c_w,c_h,m_w,m_h,color):\n",
    "    for cell in list(collection):\n",
    "        drawCell(canvas,cell,c_w,c_h,m_w,m_h,color)"
   ]
  },
  {
   "cell_type": "markdown",
   "metadata": {},
   "source": [
    "### <font color = \"#81263f\">7.5.8 Update</font>"
   ]
  },
  {
   "cell_type": "code",
   "execution_count": null,
   "metadata": {
    "scrolled": true
   },
   "outputs": [],
   "source": [
    "import random\n",
    "\n",
    "def update():\n",
    "    global candidates\n",
    "    global occupied\n",
    "    next_occupied = random.sample(candidates,1)[0]\n",
    "    occupied.add(next_occupied)\n",
    "    candidates = candidates.difference(occupied)"
   ]
  },
  {
   "cell_type": "markdown",
   "metadata": {},
   "source": [
    "### <font color = \"#81263f\">7.5.9 Set Routine</font>"
   ]
  },
  {
   "cell_type": "code",
   "execution_count": null,
   "metadata": {},
   "outputs": [],
   "source": [
    "def routine(canvas):\n",
    "    getCandidates(n_r,n_c)\n",
    "    drawAllCells(canvas,occupied,c_w,c_h,m_w,m_h,'#81263f')\n",
    "    drawAllCells(canvas,candidates,c_w,c_h,m_w,m_h,'#344f4f')\n",
    "    update()"
   ]
  },
  {
   "cell_type": "markdown",
   "metadata": {},
   "source": [
    "### <font color = \"#81263f\">7.5.10 Run and Interaction</font>"
   ]
  },
  {
   "cell_type": "code",
   "execution_count": null,
   "metadata": {},
   "outputs": [],
   "source": [
    "def run(canvas,x,y,max_occupied):\n",
    "    global occupied\n",
    "    while len(occupied)<max_occupied:\n",
    "        routine(interaction_layer)"
   ]
  },
  {
   "cell_type": "code",
   "execution_count": null,
   "metadata": {},
   "outputs": [],
   "source": [
    "def on_mouse_down(x, y):\n",
    "    global occupied\n",
    "    global candidates\n",
    "    interaction_layer.clear()\n",
    "    occupied, candidates = initialize()\n",
    "    print(occupied)\n",
    "    print(candidates)\n",
    "    run(interaction_layer,x,y,10)\n",
    "    print(occupied)\n",
    "    print(candidates)"
   ]
  },
  {
   "cell_type": "code",
   "execution_count": null,
   "metadata": {
    "scrolled": false
   },
   "outputs": [],
   "source": [
    "interaction_layer.on_mouse_down(on_mouse_down)\n",
    "from ipywidgets import AppLayout\n",
    "AppLayout(center=canvas)"
   ]
  }
 ],
 "metadata": {
  "kernelspec": {
   "display_name": "Python 3 (ipykernel)",
   "language": "python",
   "name": "python3"
  },
  "language_info": {
   "codemirror_mode": {
    "name": "ipython",
    "version": 3
   },
   "file_extension": ".py",
   "mimetype": "text/x-python",
   "name": "python",
   "nbconvert_exporter": "python",
   "pygments_lexer": "ipython3",
   "version": "3.9.12"
  }
 },
 "nbformat": 4,
 "nbformat_minor": 2
}

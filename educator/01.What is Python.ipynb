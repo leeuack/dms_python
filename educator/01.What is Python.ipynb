{
 "cells": [
  {
   "cell_type": "markdown",
   "metadata": {},
   "source": [
    "# <font color = \"#81263f\" size = \"60\">1. What is Python</font>"
   ]
  },
  {
   "cell_type": "markdown",
   "metadata": {},
   "source": [
    "## <font style=\"background:#81263f;color:white\">1.1 - 1.4  </font>"
   ]
  },
  {
   "cell_type": "markdown",
   "metadata": {},
   "source": [
    "Section from 1.1 to 1.4 is about basic notion of Python and how to install Anaconda and Jupyter Notebook. Please see the book as reference."
   ]
  },
  {
   "cell_type": "markdown",
   "metadata": {},
   "source": [
    "## <font style=\"background:#81263f;color:white\">1.5 Concepts and Terms  </font>"
   ]
  },
  {
   "cell_type": "markdown",
   "metadata": {},
   "source": [
    "### <font color = \"#81263f\">1.5.1 Top to Down</font>"
   ]
  },
  {
   "cell_type": "code",
   "execution_count": null,
   "metadata": {},
   "outputs": [],
   "source": [
    "# Run this cell\n",
    "\n",
    "a = 13\n",
    "b = 5\n",
    "c= -12"
   ]
  },
  {
   "cell_type": "code",
   "execution_count": null,
   "metadata": {
    "scrolled": true
   },
   "outputs": [],
   "source": [
    "# Run this cell\n",
    "\n",
    "print(a)"
   ]
  },
  {
   "cell_type": "code",
   "execution_count": null,
   "metadata": {},
   "outputs": [],
   "source": [
    "# Run this cell\n",
    "\n",
    "print(d)"
   ]
  },
  {
   "cell_type": "markdown",
   "metadata": {},
   "source": [
    "### <font color = \"#81263f\">1.5.2 Left to Right</font>"
   ]
  },
  {
   "cell_type": "code",
   "execution_count": null,
   "metadata": {},
   "outputs": [],
   "source": [
    "a = 5\n",
    "if a is not 3:\n",
    "    print(\"Hello World\")"
   ]
  },
  {
   "cell_type": "markdown",
   "metadata": {},
   "source": [
    "### <font color = \"#81263f\">1.5.3 Case Sensitive</font>"
   ]
  },
  {
   "cell_type": "code",
   "execution_count": null,
   "metadata": {},
   "outputs": [],
   "source": [
    "numApple = 5\n",
    "numOrange = 4\n",
    "appleSold = 3\n",
    "print(numApple, numOrange)\n",
    "print(numapple) # this will cause an error due to the wrong name of the variable"
   ]
  },
  {
   "cell_type": "markdown",
   "metadata": {},
   "source": [
    "### <font color = \"#81263f\">1.5.4 Comment : Line Comment #</font>"
   ]
  },
  {
   "cell_type": "code",
   "execution_count": null,
   "metadata": {
    "scrolled": true
   },
   "outputs": [],
   "source": [
    "# This is a comment\n",
    "print(\"Hello World\")"
   ]
  },
  {
   "cell_type": "code",
   "execution_count": null,
   "metadata": {
    "scrolled": false
   },
   "outputs": [],
   "source": [
    "# This line also should be commented.\n",
    "print(\"Great!\")"
   ]
  },
  {
   "cell_type": "code",
   "execution_count": null,
   "metadata": {},
   "outputs": [],
   "source": [
    "print(\"Nice\")    #This line should be commented"
   ]
  },
  {
   "cell_type": "markdown",
   "metadata": {},
   "source": [
    "### <font color = \"#81263f\">1.5.5 Comment : Paragraph Comment \"\"\"</font>"
   ]
  },
  {
   "cell_type": "code",
   "execution_count": null,
   "metadata": {},
   "outputs": [],
   "source": [
    "\"\"\"This is a paragraph that should be commented. Unlike line commenting,\n",
    "users need to type double quotation at both start and end of a paragraph.\"\"\"\n",
    "print(\"Nice work\")\n",
    "\n",
    "'''This is a paragraph that should be commented. Unlike line commenting,\n",
    "users need to type single quotation at both start and end of a paragraph.'''\n",
    "print(\"Nice work too\")\n",
    "\n",
    "\"\"\"be careful single '''apostrophe''' can be inside\n",
    "of double apostrphe\"\"\"\n",
    "print(\"NIce 'work' this\")"
   ]
  },
  {
   "cell_type": "markdown",
   "metadata": {},
   "source": [
    "### <font color = \"#81263f\">1.5.6 Indentation Sensitive</font>"
   ]
  },
  {
   "cell_type": "code",
   "execution_count": null,
   "metadata": {
    "scrolled": true
   },
   "outputs": [],
   "source": [
    "a = 5\n",
    "if a == 5:\n",
    "    print(a)"
   ]
  },
  {
   "cell_type": "code",
   "execution_count": null,
   "metadata": {},
   "outputs": [],
   "source": [
    "a = 5\n",
    "if a == 5:\n",
    "print(a)"
   ]
  },
  {
   "cell_type": "markdown",
   "metadata": {},
   "source": [
    "### <font color = \"#81263f\">1.5.7 Assign Variable</font>"
   ]
  },
  {
   "cell_type": "code",
   "execution_count": null,
   "metadata": {
    "scrolled": true
   },
   "outputs": [],
   "source": [
    "apple = 5      \n",
    "print(apple)  "
   ]
  },
  {
   "cell_type": "code",
   "execution_count": null,
   "metadata": {},
   "outputs": [],
   "source": [
    "orange = 3\n",
    "total = apple + orange\n",
    "print(total)"
   ]
  },
  {
   "cell_type": "code",
   "execution_count": null,
   "metadata": {
    "scrolled": false
   },
   "outputs": [],
   "source": [
    "print(apple, orange, total)"
   ]
  },
  {
   "cell_type": "markdown",
   "metadata": {},
   "source": [
    "### <font color = \"#81263f\">1.5.8 Print</font>"
   ]
  },
  {
   "cell_type": "code",
   "execution_count": null,
   "metadata": {
    "scrolled": false
   },
   "outputs": [],
   "source": [
    "print(\"Hello\")\n",
    "print(\"World\")"
   ]
  },
  {
   "cell_type": "code",
   "execution_count": null,
   "metadata": {},
   "outputs": [],
   "source": [
    "print(\"Hello \", end=\"\")\n",
    "print(\"World\")"
   ]
  },
  {
   "cell_type": "code",
   "execution_count": null,
   "metadata": {},
   "outputs": [],
   "source": [
    "num_apple = 5\n",
    "num_orange = 4\n",
    "print(num_apple, num_orange)\n",
    "print(\"The number of apple is \", num_apple)\n",
    "print(\"The number of orange is \", num_orange)"
   ]
  },
  {
   "cell_type": "markdown",
   "metadata": {},
   "source": [
    "## <font style=\"background:#81263f;color:white\">1.6 Exercise: Print  </font>"
   ]
  },
  {
   "cell_type": "markdown",
   "metadata": {},
   "source": [
    "In this exercise, user will be asked to print a simple phrase, \"Hello World\" in various ways."
   ]
  },
  {
   "cell_type": "markdown",
   "metadata": {},
   "source": [
    "### <font color = \"#81263f\">1.6.1 Simple print</font>"
   ]
  },
  {
   "cell_type": "code",
   "execution_count": null,
   "metadata": {},
   "outputs": [],
   "source": [
    "# 1) type print()\n",
    "# 2) use this phrase: \"Hello World\"\n",
    "# 3) put the phrase between parentheses\n",
    "# 4) run this cell\n",
    "# 5) if you can see Hello World without double-quotes, you got a success"
   ]
  },
  {
   "cell_type": "code",
   "execution_count": null,
   "metadata": {},
   "outputs": [],
   "source": [
    "print(\"Hello World\")"
   ]
  },
  {
   "cell_type": "markdown",
   "metadata": {},
   "source": [
    "### <font color = \"#81263f\">1.6.2 Print through Variables</font>"
   ]
  },
  {
   "cell_type": "code",
   "execution_count": null,
   "metadata": {
    "scrolled": true
   },
   "outputs": [],
   "source": [
    "# 1) set a variable named as A and assign \"Hello \" as its value\n",
    "# 2) set a variable named as B and assign \"World\" as its value\n",
    "# 3) type print()\n",
    "# 4) put A between parentheses\n",
    "# 5) type print() again on the next line\n",
    "# 6) put B between parentheses\n",
    "# 7) type print() again on the next line\n",
    "# 8) put A,B between parentheses\n",
    "# 9) run this cell\n",
    "# 10) if you can see \n",
    "'''\n",
    "Hello\n",
    "World\n",
    "Hello World\n",
    "'''\n",
    "        # then you got a success"
   ]
  },
  {
   "cell_type": "code",
   "execution_count": null,
   "metadata": {},
   "outputs": [],
   "source": [
    "A = \"Hello \"\n",
    "B = \"World\"\n",
    "print(A)\n",
    "print(B)\n",
    "print(A,B)"
   ]
  },
  {
   "cell_type": "markdown",
   "metadata": {},
   "source": [
    "### <font color = \"#81263f\">1.6.3 Print Multiple Items</font>"
   ]
  },
  {
   "cell_type": "code",
   "execution_count": null,
   "metadata": {},
   "outputs": [],
   "source": [
    "# 1) set a variable named as A and assign \"Hello \" as its value\n",
    "# 2) type print()\n",
    "# 3) put A and \"World\" between parentheses\n",
    "# 4) run this cell\n",
    "# 5) if you can see\n",
    "'''Hello World'''\n",
    "    #then you got a success"
   ]
  },
  {
   "cell_type": "code",
   "execution_count": null,
   "metadata": {},
   "outputs": [],
   "source": [
    "A = \"Hello \"\n",
    "print(A, \"World\")"
   ]
  }
 ],
 "metadata": {
  "kernelspec": {
   "display_name": "Python 3 (ipykernel)",
   "language": "python",
   "name": "python3"
  },
  "language_info": {
   "codemirror_mode": {
    "name": "ipython",
    "version": 3
   },
   "file_extension": ".py",
   "mimetype": "text/x-python",
   "name": "python",
   "nbconvert_exporter": "python",
   "pygments_lexer": "ipython3",
   "version": "3.9.12"
  },
  "toc": {
   "base_numbering": 1,
   "nav_menu": {},
   "number_sections": false,
   "sideBar": true,
   "skip_h1_title": false,
   "title_cell": "Table of Contents",
   "title_sidebar": "Contents",
   "toc_cell": false,
   "toc_position": {},
   "toc_section_display": true,
   "toc_window_display": false
  }
 },
 "nbformat": 4,
 "nbformat_minor": 2
}

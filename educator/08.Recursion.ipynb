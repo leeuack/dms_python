{
 "cells": [
  {
   "cell_type": "markdown",
   "metadata": {},
   "source": [
    "# <font color = \"#81263f\" size = \"60\">8. Recursion</font>"
   ]
  },
  {
   "cell_type": "markdown",
   "metadata": {},
   "source": [
    "## <font style=\"background:#81263f;color:white\">8.1 Principle  </font>"
   ]
  },
  {
   "cell_type": "markdown",
   "metadata": {},
   "source": [
    "### <font color = \"#81263f\">8.1.1 Concept of Recursion</font>"
   ]
  },
  {
   "cell_type": "markdown",
   "metadata": {},
   "source": [
    "### <font color = \"#81263f\">8.1.2 Interation vs Recursion</font>"
   ]
  },
  {
   "cell_type": "markdown",
   "metadata": {},
   "source": [
    "### <font color = \"#81263f\">8.1.2 Sturcture</font>"
   ]
  },
  {
   "cell_type": "markdown",
   "metadata": {},
   "source": [
    "## <font style=\"background:#81263f;color:white\">8.2 Exercises  </font>"
   ]
  },
  {
   "cell_type": "markdown",
   "metadata": {},
   "source": [
    "### <font color = \"#81263f\">8.2.1 Factorial</font>"
   ]
  },
  {
   "cell_type": "code",
   "execution_count": null,
   "metadata": {},
   "outputs": [],
   "source": [
    "def factorial(n):\n",
    "    print(\"factorial({})\".format(n))\n",
    "    if (n == 0):\n",
    "        result = 1\n",
    "        print(\"value: \", result)\n",
    "        return result\n",
    "    else: \n",
    "        result = n * factorial(n-1)\n",
    "        print(\"value: \", result)\n",
    "    return result\n",
    "\n",
    "factorial(3)"
   ]
  },
  {
   "cell_type": "markdown",
   "metadata": {},
   "source": [
    "### <font color = \"#81263f\">8.2.2 Length of Numbers</font>"
   ]
  },
  {
   "cell_type": "code",
   "execution_count": null,
   "metadata": {},
   "outputs": [],
   "source": [
    "def lengthN(n):\n",
    "    print(\"lengthN({})\".format(n))\n",
    "    n=abs(n)\n",
    "    if n//10==0:\n",
    "        result = 1\n",
    "        print(\"value: \", result)\n",
    "        return result\n",
    "    else:\n",
    "        result = 1+lengthN(n//10)\n",
    "        print(\"value: \", result)\n",
    "        return result\n",
    "print(lengthN(1036))"
   ]
  },
  {
   "cell_type": "markdown",
   "metadata": {},
   "source": [
    "### <font color = \"#81263f\">8.2.3 Fibonacci</font>"
   ]
  },
  {
   "cell_type": "code",
   "execution_count": null,
   "metadata": {
    "scrolled": true
   },
   "outputs": [],
   "source": [
    "def fib(n):\n",
    "    print(\"fib({})\".format(n))\n",
    "    if n == 0:\n",
    "        result = 0\n",
    "        print(\"value: \", result)\n",
    "    elif n == 1:\n",
    "        result = 1\n",
    "        print(\"value: \", result)\n",
    "    else:\n",
    "        result = fib(n-1) + fib(n-2)\n",
    "        print(\"value: \", result)\n",
    "    return result\n",
    "\n",
    "fib(3)"
   ]
  },
  {
   "cell_type": "markdown",
   "metadata": {},
   "source": [
    "## <font style=\"background:#81263f;color:white\">8.3 Exercise : Sierpinski Triangle  </font>"
   ]
  },
  {
   "cell_type": "code",
   "execution_count": null,
   "metadata": {},
   "outputs": [],
   "source": [
    "#run this cell, it will install ipytcanvas\n",
    "try:\n",
    "    import ipycanvas\n",
    "except ImportError as e:\n",
    "    ! pip install ipycanvas\n",
    "from ipycanvas import Canvas"
   ]
  },
  {
   "cell_type": "markdown",
   "metadata": {},
   "source": [
    "### <font color = \"#81263f\">8.3.1 Fractal Strategy and Create Canvas</font>"
   ]
  },
  {
   "cell_type": "code",
   "execution_count": null,
   "metadata": {},
   "outputs": [],
   "source": [
    "canvas = Canvas(width=650, height=250)"
   ]
  },
  {
   "cell_type": "markdown",
   "metadata": {},
   "source": [
    "### <font color = \"#81263f\">8.3.2 Draw Triangle</font>"
   ]
  },
  {
   "cell_type": "code",
   "execution_count": null,
   "metadata": {},
   "outputs": [],
   "source": [
    "def drawTriangle(canvas,triangle):\n",
    "    point_0, point_1, point_2 = triangle\n",
    "    canvas.begin_path()\n",
    "    canvas.move_to(point_0[0], point_0[1])\n",
    "    canvas.line_to(point_1[0], point_1[1])\n",
    "    canvas.line_to(point_2[0], point_2[1])\n",
    "    canvas.fill_style = '#81263f'\n",
    "    canvas.fill()"
   ]
  },
  {
   "cell_type": "code",
   "execution_count": null,
   "metadata": {
    "scrolled": true
   },
   "outputs": [],
   "source": [
    "t = ((80, 200), (150, 50), (220, 200))\n",
    "drawTriangle(canvas, t)\n",
    "canvas"
   ]
  },
  {
   "cell_type": "markdown",
   "metadata": {},
   "source": [
    "### <font color = \"#81263f\">8.3.3 Other Functions</font>"
   ]
  },
  {
   "cell_type": "code",
   "execution_count": null,
   "metadata": {},
   "outputs": [],
   "source": [
    "def drawSierpinski(canvas, triangles):\n",
    "    for triangle in triangles:\n",
    "        drawTriangle(canvas,triangle)"
   ]
  },
  {
   "cell_type": "code",
   "execution_count": null,
   "metadata": {},
   "outputs": [],
   "source": [
    "def midPoint(pt_0, pt_1):\n",
    "    x = (pt_0[0]+pt_1[0])/2\n",
    "    y = (pt_0[1]+pt_1[1])/2\n",
    "    return (x,y)"
   ]
  },
  {
   "cell_type": "markdown",
   "metadata": {},
   "source": [
    "### <font color = \"#81263f\">8.3.4 Recursive Sierpinski</font>"
   ]
  },
  {
   "cell_type": "code",
   "execution_count": null,
   "metadata": {},
   "outputs": [],
   "source": [
    "def sierpinski(triangle, d):\n",
    "    if d == 0:\n",
    "       #this is list is important... so every recursive return can concatenate a list\n",
    "        return [triangle]\n",
    "    else:\n",
    "        p0 = triangle[0]\n",
    "        p1 = midPoint(triangle[0], triangle[1])\n",
    "        p2 = triangle[1]        \n",
    "        p3 = midPoint(triangle[1], triangle[2])\n",
    "        p4 = triangle[2]\n",
    "        p5 = midPoint(triangle[2], triangle[0])\n",
    "        t1 = [p0, p1, p5]\n",
    "        t2 = [p1, p2, p3]\n",
    "        t3 = [p3, p4, p5]\n",
    "        return sierpinski(t1, d - 1) + sierpinski(t2, d - 1) + sierpinski(t3, d - 1)"
   ]
  },
  {
   "cell_type": "markdown",
   "metadata": {},
   "source": [
    "### <font color = \"#81263f\">8.3.5 Sierpinski Triangles</font>"
   ]
  },
  {
   "cell_type": "code",
   "execution_count": null,
   "metadata": {},
   "outputs": [],
   "source": [
    "t = ((280, 200), (350, 50), (420, 200))\n",
    "sierpinski = sierpinski(t, 3)\n",
    "print(sierpinski[:8])"
   ]
  },
  {
   "cell_type": "code",
   "execution_count": null,
   "metadata": {},
   "outputs": [],
   "source": [
    "drawSierpinski(canvas, sierpinski)\n",
    "canvas"
   ]
  }
 ],
 "metadata": {
  "kernelspec": {
   "display_name": "Python 3 (ipykernel)",
   "language": "python",
   "name": "python3"
  },
  "language_info": {
   "codemirror_mode": {
    "name": "ipython",
    "version": 3
   },
   "file_extension": ".py",
   "mimetype": "text/x-python",
   "name": "python",
   "nbconvert_exporter": "python",
   "pygments_lexer": "ipython3",
   "version": "3.9.12"
  }
 },
 "nbformat": 4,
 "nbformat_minor": 2
}

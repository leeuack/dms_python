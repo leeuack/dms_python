{
 "cells": [
  {
   "cell_type": "markdown",
   "metadata": {},
   "source": [
    "# <font color = \"#81263f\" size = \"60\">2. Basic Dtat Types</font>"
   ]
  },
  {
   "cell_type": "markdown",
   "metadata": {},
   "source": [
    "## <font style=\"background:#81263f;color:white\">2.1 Numbers  </font>"
   ]
  },
  {
   "cell_type": "markdown",
   "metadata": {},
   "source": [
    "# <font color = \"#81263f\">2.1.1 Integer</font>"
   ]
  },
  {
   "cell_type": "code",
   "execution_count": null,
   "metadata": {
    "scrolled": true
   },
   "outputs": [],
   "source": [
    "a = 13\n",
    "b = 5461\n",
    "c = -12235\n",
    "d = 96412\n",
    "print(a, type(a))\n",
    "print(b, type(a))\n",
    "print(c, type(a))\n",
    "print(d, type(a))"
   ]
  },
  {
   "cell_type": "markdown",
   "metadata": {},
   "source": [
    "### <font color = \"#81263f\">2.1.2 Float</font>"
   ]
  },
  {
   "cell_type": "code",
   "execution_count": null,
   "metadata": {
    "scrolled": false
   },
   "outputs": [],
   "source": [
    "a = 3.141562\n",
    "b = -56.2215\n",
    "c = 4.0\n",
    "d = -9.000\n",
    "print(a, type(a))\n",
    "print(b, type(a))\n",
    "print(c, type(a))\n",
    "print(d, type(a))"
   ]
  },
  {
   "cell_type": "markdown",
   "metadata": {},
   "source": [
    "### <font color = \"#81263f\">2.1.3 Fraction</font>"
   ]
  },
  {
   "cell_type": "code",
   "execution_count": null,
   "metadata": {
    "scrolled": true
   },
   "outputs": [],
   "source": [
    "a = 1/4\n",
    "b = 2/3\n",
    "print(a)\n",
    "print(b)"
   ]
  },
  {
   "cell_type": "code",
   "execution_count": null,
   "metadata": {},
   "outputs": [],
   "source": [
    "from fractions import Fraction\n",
    "a = Fraction(1,4)\n",
    "b = Fraction(2,3)\n",
    "print(a)\n",
    "print(b)"
   ]
  },
  {
   "cell_type": "markdown",
   "metadata": {},
   "source": [
    "## <font style=\"background:#81263f;color:white\">2.2 Boolean  </font>"
   ]
  },
  {
   "cell_type": "markdown",
   "metadata": {},
   "source": [
    "### <font color = \"#81263f\">2.2.1 Boolean in Python</font>"
   ]
  },
  {
   "cell_type": "code",
   "execution_count": null,
   "metadata": {},
   "outputs": [],
   "source": [
    "10>9"
   ]
  },
  {
   "cell_type": "code",
   "execution_count": null,
   "metadata": {
    "scrolled": true
   },
   "outputs": [],
   "source": [
    "5>9"
   ]
  },
  {
   "cell_type": "markdown",
   "metadata": {},
   "source": [
    "### <font color = \"#81263f\">2.1.2 True / False</font>"
   ]
  },
  {
   "cell_type": "code",
   "execution_count": null,
   "metadata": {
    "scrolled": true
   },
   "outputs": [],
   "source": [
    "a = 10 > 9\n",
    "b =  5 > 9\n",
    "print(a)\n",
    "print(b)"
   ]
  },
  {
   "cell_type": "code",
   "execution_count": null,
   "metadata": {
    "scrolled": false
   },
   "outputs": [],
   "source": [
    "c = True\n",
    "d = False\n",
    "print(c)\n",
    "print(d)"
   ]
  },
  {
   "cell_type": "markdown",
   "metadata": {},
   "source": [
    "### <font color = \"#81263f\">2.1.3 0 as False, 1 as True</font>"
   ]
  },
  {
   "cell_type": "code",
   "execution_count": null,
   "metadata": {
    "scrolled": true
   },
   "outputs": [],
   "source": [
    "a = 0\n",
    "b = 1\n",
    "c = 12\n",
    "d = -1\n",
    "print(bool(a)) # bool is method to convert a value into Boolean.\n",
    "print(bool(b))\n",
    "print(bool(c))\n",
    "print(bool(d))"
   ]
  },
  {
   "cell_type": "markdown",
   "metadata": {},
   "source": [
    "## <font style=\"background:#81263f;color:white\">2.3 Strings  </font>"
   ]
  },
  {
   "cell_type": "markdown",
   "metadata": {},
   "source": [
    "### <font color = \"#81263f\">2.3.1 Character</font>"
   ]
  },
  {
   "cell_type": "code",
   "execution_count": null,
   "metadata": {
    "scrolled": true
   },
   "outputs": [],
   "source": [
    "a = \"Hello\"      # Hello is string enclosed by \"\"\n",
    "print(a)\n",
    "b = \"Hello World\"\n",
    "print(b)"
   ]
  },
  {
   "cell_type": "code",
   "execution_count": null,
   "metadata": {},
   "outputs": [],
   "source": [
    "bad_b = \"Hello, World!' # Oh no.... the marks are inconsistent!"
   ]
  },
  {
   "cell_type": "markdown",
   "metadata": {},
   "source": [
    "### <font color = \"#81263f\">2.3.2 Special Character : Quotation as Special Character</font>"
   ]
  },
  {
   "cell_type": "code",
   "execution_count": null,
   "metadata": {
    "scrolled": true
   },
   "outputs": [],
   "source": [
    "a = \"Hello World !?#$%^&*/|\"\n",
    "b = 'testing different quotation marks consistently'\n",
    "c = \"testing different quotation marks consistently\"\n",
    "print(a)\n",
    "print(b)\n",
    "print(c)"
   ]
  },
  {
   "cell_type": "code",
   "execution_count": null,
   "metadata": {
    "scrolled": false
   },
   "outputs": [],
   "source": [
    "bad_b = \"Hello, my \"favourite\" world!\" # this will result in error"
   ]
  },
  {
   "cell_type": "markdown",
   "metadata": {},
   "source": [
    "### <font color = \"#81263f\">2.3.3 Special Character : three quotation “ “ “ / ‘ ‘ ‘</font>"
   ]
  },
  {
   "cell_type": "code",
   "execution_count": null,
   "metadata": {},
   "outputs": [],
   "source": [
    "d = \"\"\"Hello, \n",
    "Multi-Line \n",
    "World!\"\"\"\n",
    "print(d)\n",
    "\n",
    "d = '''Hello, \n",
    "Multi-Line \n",
    "World!'''\n",
    "print(d)"
   ]
  },
  {
   "cell_type": "markdown",
   "metadata": {},
   "source": [
    "### <font color = \"#81263f\">2.3.4 Special Character : \\\\</font>"
   ]
  },
  {
   "cell_type": "code",
   "execution_count": null,
   "metadata": {
    "scrolled": false
   },
   "outputs": [],
   "source": [
    "print(\"This book is about \\nPython\")  # \\n is a single newline character"
   ]
  },
  {
   "cell_type": "code",
   "execution_count": null,
   "metadata": {},
   "outputs": [],
   "source": [
    "print(\"This book is about \\tPython\")  # \\t is a single tab character"
   ]
  },
  {
   "cell_type": "code",
   "execution_count": null,
   "metadata": {},
   "outputs": [],
   "source": [
    "print(\"This book is about \\\\Python\")  # \\\\ is a way to represent \\"
   ]
  },
  {
   "cell_type": "code",
   "execution_count": null,
   "metadata": {
    "scrolled": true
   },
   "outputs": [],
   "source": [
    "print(\"This book is about \\\"Python\")  # \\\\ is a way to represent \""
   ]
  },
  {
   "cell_type": "markdown",
   "metadata": {},
   "source": [
    "### <font color = \"#81263f\">2.3.5 String Formatting : %</font>"
   ]
  },
  {
   "cell_type": "code",
   "execution_count": null,
   "metadata": {},
   "outputs": [],
   "source": [
    "maker = \"Pittsburgh\"\n",
    "print(\"The apples were grown inm %s\" % maker)"
   ]
  },
  {
   "cell_type": "code",
   "execution_count": null,
   "metadata": {
    "scrolled": false
   },
   "outputs": [],
   "source": [
    "apple = 5\n",
    "print(\"The number of apple is %d\" % apple)  # d represents integer"
   ]
  },
  {
   "cell_type": "code",
   "execution_count": null,
   "metadata": {},
   "outputs": [],
   "source": [
    "sold = 1\n",
    "sales_ratio = sold / apple\n",
    "print(\"The sales ratio is %f\" % sales_ratio)  # f represents float"
   ]
  },
  {
   "cell_type": "markdown",
   "metadata": {},
   "source": [
    "### <font color = \"#81263f\">2.3.6 String Formatting : Padding and Precision</font>"
   ]
  },
  {
   "cell_type": "code",
   "execution_count": null,
   "metadata": {},
   "outputs": [],
   "source": [
    "apple = 5\n",
    "print(\"The number of apple is %05d\" % apple)"
   ]
  },
  {
   "cell_type": "code",
   "execution_count": null,
   "metadata": {},
   "outputs": [],
   "source": [
    "apple = 5\n",
    "print(\"The number of apple is %05.2f\" % apple)\n",
    "\n",
    "pi = 3.141592\n",
    "print(\"pi is %07.3f\" % pi)"
   ]
  },
  {
   "cell_type": "markdown",
   "metadata": {},
   "source": [
    "### <font color = \"#81263f\">2.3.7 .format</font>"
   ]
  },
  {
   "cell_type": "code",
   "execution_count": null,
   "metadata": {
    "scrolled": true
   },
   "outputs": [],
   "source": [
    "maker = \"Pittsburgh\"\n",
    "apple = 5\n",
    "sold = 1\n",
    "sales_ratio = sold / apple\n",
    "pi = 3.141592\n",
    "print(\"The apples were grown in {} \".format(maker))\n",
    "print(\"The number of apple is {}\".format(apple))\n",
    "print(\"The sales ratio is {}\".format(sales_ratio))"
   ]
  },
  {
   "cell_type": "code",
   "execution_count": null,
   "metadata": {},
   "outputs": [],
   "source": [
    "print(\"The number of apple is {:05d}\".format(apple))\n",
    "print(\"The number of apple is {:05.2f}\".format(apple))\n",
    "print(\"pi is {:07.3f}\".format(pi))"
   ]
  },
  {
   "cell_type": "markdown",
   "metadata": {},
   "source": [
    "## <font style=\"background:#81263f;color:white\">2.4 List  </font>"
   ]
  },
  {
   "cell_type": "markdown",
   "metadata": {},
   "source": [
    "### <font color = \"#81263f\">2.4.1 List</font>"
   ]
  },
  {
   "cell_type": "code",
   "execution_count": null,
   "metadata": {
    "scrolled": false
   },
   "outputs": [],
   "source": [
    "architects = [\"Rossi\", \"Kahn\", \"Ingels\", \"Siza\", \"Chipperfield\"]\n",
    "print(architects)"
   ]
  },
  {
   "cell_type": "code",
   "execution_count": null,
   "metadata": {
    "scrolled": true
   },
   "outputs": [],
   "source": [
    "born = [1931, 1901, 1974, 1933, 1953]\n",
    "print(born)"
   ]
  },
  {
   "cell_type": "code",
   "execution_count": null,
   "metadata": {},
   "outputs": [],
   "source": [
    "architectsborn = [\"Rossi\", 1931, \"Kahn\", 1901, \"Ingels\", 1974, \"Siza\", 1933, \"Chipperfield\", 1953]\n",
    "print(architectsborn)"
   ]
  },
  {
   "cell_type": "markdown",
   "metadata": {},
   "source": [
    "### <font color = \"#81263f\">2.4.2 Index : Forward</font>"
   ]
  },
  {
   "cell_type": "code",
   "execution_count": null,
   "metadata": {
    "scrolled": true
   },
   "outputs": [],
   "source": [
    "first = architects[0]\n",
    "second = architects[1]\n",
    "last = architects[4]\n",
    "print(first)\n",
    "print(second)\n",
    "print(last)"
   ]
  },
  {
   "cell_type": "markdown",
   "metadata": {},
   "source": [
    "### <font color = \"#81263f\">2.4.3 Index : Backward</font>"
   ]
  },
  {
   "cell_type": "code",
   "execution_count": null,
   "metadata": {
    "scrolled": false
   },
   "outputs": [],
   "source": [
    "last_by_negative_integer = architects[-1]\n",
    "print(last, last_by_negative_integer)\n",
    "print(last == last_by_negative_integer)"
   ]
  },
  {
   "cell_type": "code",
   "execution_count": null,
   "metadata": {
    "scrolled": false
   },
   "outputs": [],
   "source": [
    "last_to_second_by_negative_integer = architects[-2]\n",
    "print(architects[3], last_to_second_by_negative_integer)\n",
    "print(architects[3] == last_to_second_by_negative_integer)"
   ]
  },
  {
   "cell_type": "markdown",
   "metadata": {},
   "source": [
    "### <font color = \"#81263f\">2.4.4 Index : Error</font>"
   ]
  },
  {
   "cell_type": "code",
   "execution_count": null,
   "metadata": {
    "scrolled": false
   },
   "outputs": [],
   "source": [
    "error_case_1 = architects[8]\n",
    "print(error_case_1)"
   ]
  },
  {
   "cell_type": "code",
   "execution_count": null,
   "metadata": {
    "scrolled": true
   },
   "outputs": [],
   "source": [
    "error_case_2 = architects[3.5]\n",
    "print(error_case_2)"
   ]
  },
  {
   "cell_type": "markdown",
   "metadata": {},
   "source": [
    "### <font color = \"#81263f\">2.4.5 Nested Lists</font>"
   ]
  },
  {
   "cell_type": "code",
   "execution_count": null,
   "metadata": {},
   "outputs": [],
   "source": [
    "triangle = [[0, 0], [4, 10], [8, 0]]\n",
    "two_triangles = [[[0, 0], [4, 10], [8, 0]], [[4, 0], [12, 0], [8, -10]]]"
   ]
  },
  {
   "cell_type": "markdown",
   "metadata": {},
   "source": [
    "### <font color = \"#81263f\">2.4.6 Index for Nested Lists</font>"
   ]
  },
  {
   "cell_type": "code",
   "execution_count": null,
   "metadata": {},
   "outputs": [],
   "source": [
    "triangle = [[0, 0], [4, 10], [8, 0]]\n",
    "print(triangle[2])\n",
    "print(triangle[2][0])"
   ]
  },
  {
   "cell_type": "code",
   "execution_count": null,
   "metadata": {},
   "outputs": [],
   "source": [
    "two_triangles = [[[0, 0], [4, 10], [8, 0]], [[4, 0], [12, 0], [8, -10]]]\n",
    "print(two_triangles[0])\n",
    "print(two_triangles[0][2])\n",
    "print(two_triangles[0][2][0])"
   ]
  },
  {
   "cell_type": "markdown",
   "metadata": {},
   "source": [
    "### <font color = \"#81263f\">2.4.7 Mutability</font>"
   ]
  },
  {
   "cell_type": "code",
   "execution_count": null,
   "metadata": {
    "scrolled": true
   },
   "outputs": [],
   "source": [
    "floors = [0,1,2,3]\n",
    "print(floors)\n",
    "\n",
    "floors[0] = -1\n",
    "print(floors)\n",
    "\n",
    "string_can_be = \"string is immutable\"\n",
    "string_can_be[0] = \"S\"  # this line will crash becasue string is immutable"
   ]
  },
  {
   "cell_type": "markdown",
   "metadata": {},
   "source": [
    "### <font color = \"#81263f\">2.4.8 List Alias</font>"
   ]
  },
  {
   "cell_type": "code",
   "execution_count": null,
   "metadata": {
    "scrolled": true
   },
   "outputs": [],
   "source": [
    "data = [2009, 1967, 2010, 1996, 2003]\n",
    "new_data = data\n",
    "print(new_data)\n",
    "\n",
    "data[0] = 10          # new_data variable will also be updated\n",
    "new_data[-1] = 20     # data variable will also be updated\n",
    "print(data)\n",
    "print(new_data)"
   ]
  },
  {
   "cell_type": "markdown",
   "metadata": {},
   "source": [
    "### <font color = \"#81263f\">2.4.9 Copy and Deepcopy</font>"
   ]
  },
  {
   "cell_type": "code",
   "execution_count": null,
   "metadata": {},
   "outputs": [],
   "source": [
    "import copy\n",
    "data = [2009, [\"a\", 7], 2010, 1996, 2003]\n",
    "alias = data                    #the alias is not a copy\n",
    "shallow_copy = copy.copy(data)  #this requires the import copy in the first line\n",
    "deep_copy = copy.deepcopy(data) #this requires the import copy in the first line\n",
    "print(alias) \n",
    "print(shallow_copy)\n",
    "print(deep_copy)"
   ]
  },
  {
   "cell_type": "code",
   "execution_count": null,
   "metadata": {},
   "outputs": [],
   "source": [
    "data[0] = 10          # new_date variable will also be updated, but copy_date will not.\n",
    "print(\"data\", data)\n",
    "print(\"alias\", alias) \n",
    "print(\"shallow copy\", shallow_copy)\n",
    "print(\"deep copy\", deep_copy)"
   ]
  },
  {
   "cell_type": "code",
   "execution_count": null,
   "metadata": {},
   "outputs": [],
   "source": [
    "data[1][0] = 5     # all the copies will also be updated, but deepcopy_date will not.\n",
    "print(\"data\", data)\n",
    "print(\"alias\", alias)\n",
    "print(\"shallow copy\", shallow_copy)\n",
    "print(\"deep copy\", deep_copy)"
   ]
  },
  {
   "cell_type": "markdown",
   "metadata": {},
   "source": [
    "## <font style=\"background:#81263f;color:white\">2.5 Tuple  </font>"
   ]
  },
  {
   "cell_type": "markdown",
   "metadata": {},
   "source": [
    "### <font color = \"#81263f\">2.5.1 Tuple</font>"
   ]
  },
  {
   "cell_type": "code",
   "execution_count": null,
   "metadata": {},
   "outputs": [],
   "source": [
    "buildings = (\"Landsberger Arkaden\", \"Fisher House\", \"8House\", \"Church of Santa Maria\", \"Neues Museum\")\n",
    "print(buildings)\n",
    "date = (2009, 1967, 2010, 1996, 2003)\n",
    "print(date)"
   ]
  },
  {
   "cell_type": "code",
   "execution_count": null,
   "metadata": {
    "scrolled": true
   },
   "outputs": [],
   "source": [
    "rossibuilding = (\"Landsberger Arkaden\", 2009)\n",
    "print(rossibuilding)"
   ]
  },
  {
   "cell_type": "code",
   "execution_count": null,
   "metadata": {},
   "outputs": [],
   "source": [
    "rossibuilding = \"Landsberger Arkaden\", 2009\n",
    "print(rossibuilding)"
   ]
  },
  {
   "cell_type": "code",
   "execution_count": null,
   "metadata": {},
   "outputs": [],
   "source": [
    "one_building = (\"Landsberger Arkaden\") #this will be interpreted as a string\n",
    "one_building_in_a_tuple = (\"Landsberger Arkaden\",) #this will be interpreted as a tuple\n",
    "print(one_building)\n",
    "print(one_building_in_a_tuple)"
   ]
  },
  {
   "cell_type": "code",
   "execution_count": null,
   "metadata": {},
   "outputs": [],
   "source": [
    "another_building_in_a_tuple = \"MASP\",\n",
    "print(another_building_in_a_tuple)"
   ]
  },
  {
   "cell_type": "markdown",
   "metadata": {},
   "source": [
    "### <font color = \"#81263f\">2.5.2 List and Tuple</font>"
   ]
  },
  {
   "cell_type": "code",
   "execution_count": null,
   "metadata": {},
   "outputs": [],
   "source": [
    "architects = [\"Bo Bardi\", \"Rossi\", \"Kahn\", \"Ingels\", \"Siza\", \"Hadid\", \"Chipperfield\"]\n",
    "print(architects, architects[2])\n",
    "architects[2] = \"Le Corbusier\"\n",
    "print(architects, architects[2])"
   ]
  },
  {
   "cell_type": "code",
   "execution_count": null,
   "metadata": {},
   "outputs": [],
   "source": [
    "buildings = (\"MASP\", \"Landsberger Arkaden\", \"Fisher House\", \"8House\", \"Church of Santa Maria\", \"Vitra Fire Station\", \"Neues Museum\")\n",
    "print(buildings, buildings[2])\n",
    "buildings[2] = \"Villa Savoye\"\n",
    "print(buildings, buildings[2])"
   ]
  },
  {
   "cell_type": "markdown",
   "metadata": {},
   "source": [
    "### <font color = \"#81263f\">2.5.3 Parallel Assignment</font>"
   ]
  },
  {
   "cell_type": "code",
   "execution_count": null,
   "metadata": {
    "scrolled": true
   },
   "outputs": [],
   "source": [
    "arch_tuple = (\"Ingels\", \"8House\", 2010)\n",
    "architect_2, building_2, date_2 = arch_tuple #parallel assignment\n",
    "print(architect_2)\n",
    "print(building_2)\n",
    "print(date_2)"
   ]
  },
  {
   "cell_type": "code",
   "execution_count": null,
   "metadata": {
    "scrolled": true
   },
   "outputs": [],
   "source": [
    "architect_1, building_1, date_1 = [\"Kahn\", \"Fisher House\", 1967]\n",
    "print(architect_1, building_1, date_1)\n",
    "architect_2, building_2, date_2 = \"Ingels\", \"8House\", 2010\n",
    "print(architect_2, building_2, date_2)"
   ]
  },
  {
   "cell_type": "markdown",
   "metadata": {},
   "source": [
    "### <font color = \"#81263f\">2.5.4 Asterisk Notation</font>"
   ]
  },
  {
   "cell_type": "code",
   "execution_count": null,
   "metadata": {
    "scrolled": true
   },
   "outputs": [],
   "source": [
    "architect_3, *rest = (\"Siza\", \"Church of Santa Maria\", 1996)\n",
    "print(architect_3)\n",
    "print(rest)\n",
    "architect_4, *rest = [\"Chipperfield\", \"Neues Museum\",2003]\n",
    "print(architect_4)\n",
    "print(rest)"
   ]
  },
  {
   "cell_type": "markdown",
   "metadata": {},
   "source": [
    "## <font style=\"background:#81263f;color:white\">2.6 Identifying Type  </font>"
   ]
  },
  {
   "cell_type": "markdown",
   "metadata": {},
   "source": [
    "### <font color = \"#81263f\">2.6.1 type()</font>"
   ]
  },
  {
   "cell_type": "code",
   "execution_count": null,
   "metadata": {
    "scrolled": false
   },
   "outputs": [],
   "source": [
    "print(type(2020>1933))\n",
    "print(type(1933))\n",
    "print(type(87.6))\n",
    "print(type(\"Siza\"))\n",
    "print(type([\"Boa Nova restaurant\", \"Miranda Santos House\", \"Bonjour Tristesse\"]))\n",
    "print(type((\"Alvaro Siza\", \"Porutgal\")))"
   ]
  },
  {
   "cell_type": "markdown",
   "metadata": {},
   "source": [
    "### <font color = \"#81263f\">2.6.2 isinstance()</font>"
   ]
  },
  {
   "cell_type": "code",
   "execution_count": null,
   "metadata": {},
   "outputs": [],
   "source": [
    "print(isinstance(2020>1933,bool))\n",
    "print(isinstance(87.6, int))\n",
    "print(isinstance(\"Siza\", float))\n",
    "print(isinstance(\"Siza\", str))\n",
    "print(isinstance([\"Boa Nova restaurant\", \"Miranda Santos House\", \"Bonjour Tristesse\"], list))\n",
    "print(isinstance((\"Alvaro Siza\", \"Porutgal\"),tuple))"
   ]
  },
  {
   "cell_type": "markdown",
   "metadata": {},
   "source": [
    "## <font style=\"background:#81263f;color:white\">2.7 Type Change  </font>"
   ]
  },
  {
   "cell_type": "markdown",
   "metadata": {},
   "source": [
    "### <font color = \"#81263f\">2.7.1 General Approach</font>"
   ]
  },
  {
   "cell_type": "code",
   "execution_count": null,
   "metadata": {
    "scrolled": true
   },
   "outputs": [],
   "source": [
    "a = 3.141516\n",
    "b = str(a)\n",
    "c = int(a)\n",
    "print(a,type(a),\"\\t\", b,type(b),\"\\t\", c,type(c))\n",
    "\n",
    "d = 13\n",
    "e = str(d)\n",
    "f = float(d)\n",
    "print(d,type(d),\"\\t\", e,type(e),\"\\t\", f,type(f))\n",
    "\n",
    "g = \"1234\"\n",
    "h = float(g)\n",
    "i = int(g)\n",
    "print(g,type(g),\"\\t\", h,type(h),\"\\t\", i,type(i))"
   ]
  },
  {
   "cell_type": "code",
   "execution_count": null,
   "metadata": {
    "scrolled": true
   },
   "outputs": [],
   "source": [
    "short_architects_list = [\"Bo Bardi\", \"Rossi\", \"Hadid\", \"Chipperfield\"]\n",
    "short_architects_tuple = tuple(short_architects_list)\n",
    "print(type(short_architects_tuple))\n",
    "list_buildings = list((\"MASP\", \"Landsberger Arkaden\", \"Vitra Fire Station\", \"Neues Museum\"))\n",
    "print(type(list_buildings))"
   ]
  },
  {
   "cell_type": "markdown",
   "metadata": {},
   "source": [
    "### <font color = \"#81263f\">2.7.2 Exeptional Cases</font>"
   ]
  },
  {
   "cell_type": "code",
   "execution_count": null,
   "metadata": {},
   "outputs": [],
   "source": [
    "zero = 0\n",
    "empty_string = \"\"\n",
    "empty_list = []\n",
    "nothing_here = None\n",
    "a = bool(zero)\n",
    "b = bool(empty_string)\n",
    "c = bool(3.141516)\n",
    "d = bool(short_architects_list)\n",
    "\n",
    "print(a, b, c, d)"
   ]
  },
  {
   "cell_type": "code",
   "execution_count": null,
   "metadata": {},
   "outputs": [],
   "source": [
    "a = int(short_architects_list)\n",
    "print(a)"
   ]
  },
  {
   "cell_type": "code",
   "execution_count": null,
   "metadata": {},
   "outputs": [],
   "source": [
    "b = \"Hadid\"\n",
    "c = int(b)\n",
    "print(b, c)"
   ]
  },
  {
   "cell_type": "markdown",
   "metadata": {},
   "source": [
    "## <font style=\"background:#81263f;color:white\">2.8\tExercise: Simple Plan Drawing  </font>"
   ]
  },
  {
   "cell_type": "markdown",
   "metadata": {},
   "source": [
    "### <font color = \"#81263f\">2.8.1 Install Canvas</font>"
   ]
  },
  {
   "cell_type": "code",
   "execution_count": null,
   "metadata": {
    "scrolled": true
   },
   "outputs": [],
   "source": [
    "#run this cell, it will install ipytcanvas\n",
    "try:\n",
    "    import ipycanvas\n",
    "except ImportError as e:\n",
    "    ! pip install ipycanvas"
   ]
  },
  {
   "cell_type": "markdown",
   "metadata": {},
   "source": [
    "### <font color = \"#81263f\">2.8.2 Importing Libraries</font>"
   ]
  },
  {
   "cell_type": "code",
   "execution_count": null,
   "metadata": {},
   "outputs": [],
   "source": [
    "# importing libraries\n",
    "# run this cell\n",
    "# it should return nothing nor errors\n",
    "from ipycanvas import MultiCanvas\n",
    "from math import pi"
   ]
  },
  {
   "cell_type": "markdown",
   "metadata": {},
   "source": [
    "### <font color = \"#81263f\">2.8.3 Helper Functions</font>"
   ]
  },
  {
   "cell_type": "code",
   "execution_count": null,
   "metadata": {},
   "outputs": [],
   "source": [
    "# helper function\n",
    "# run this cell\n",
    "\n",
    "def initialize(multiCanvas,n_x,n_y):\n",
    "    m_w, m_h = 15,15\n",
    "    c_w,c_h = 100, 100\n",
    "    for m in range(len(multiCanvas._canvases)):\n",
    "        canvas = multiCanvas[m]\n",
    "        canvas.stroke_style = 'gray'\n",
    "        for i in range(n_x):\n",
    "            for j in range(n_y):\n",
    "                canvas.stroke_rect(i*c_w+m_w,j*c_h+m_h,c_w,c_h)\n",
    "        if m ==0:\n",
    "            for i in range(n_x+1):\n",
    "                for j in range(n_y+1):\n",
    "                    canvas.font = '12px calibri'\n",
    "                    canvas.fill_text('{},{}'.format(i,j), i*c_w+m_w,j*c_h+m_h-3)\n",
    "    return c_w,c_h,m_w,m_h\n",
    "\n",
    "def drawColumn(canvas, column):\n",
    "    canvas.fill_arc(column[0]*c_w+m_w, column[1]*c_h+m_h, 10, 0, pi*2)\n",
    "    \n",
    "def drawAllColumns(canvas, n_c, mode = 0):\n",
    "    for i in range(n_c):\n",
    "        column = eval('col_{0}'.format(i))\n",
    "        if mode == 0:\n",
    "            drawColumn(canvas, column)\n",
    "        elif mode == 1:\n",
    "            if column[-1]:\n",
    "                drawColumn(canvas, column[0])\n",
    "                \n",
    "def drawLine(canvas, start, end):\n",
    "    canvas.line_width = 10\n",
    "    canvas.stroke_style = 'black'\n",
    "    canvas.begin_path()\n",
    "    canvas.move_to(start[0], start[1])\n",
    "    canvas.line_to(end[0], end[1])\n",
    "    canvas.stroke()\n",
    "    \n",
    "def grid2coord(grid):\n",
    "    x,y = grid[0]*c_w+m_w, grid[1]*c_h+m_h\n",
    "    return x,y\n",
    "\n",
    "def drawWall(canvas, wall):\n",
    "    position, t = wall\n",
    "    start, end = position\n",
    "    start_coordi, end_coordi = grid2coord(start[0]), grid2coord(end[0])\n",
    "    len_x, len_y = abs(end_coordi[0]-start_coordi[0])*t, abs(end_coordi[1]-start_coordi[1])*t\n",
    "    if end_coordi[0]>=start_coordi[0]:\n",
    "        end_coordi_x = start_coordi[0] +len_x\n",
    "    else: end_coordi_x = start_coordi[0] - len_x\n",
    "    if end_coordi[1]>=start_coordi[1]:\n",
    "        end_coordi_y = start_coordi[1] +len_y\n",
    "    else: end_coordi_y = start_coordi[1] - len_y\n",
    "    end_coordi = (end_coordi_x, end_coordi_y)\n",
    "    drawLine(canvas, start_coordi, end_coordi)\n",
    "    \n",
    "def drawAllWalls(canvas, n_w):\n",
    "    for i in range(n_w):\n",
    "        wall = eval('wall_{0}'.format(i))\n",
    "        drawWall(canvas, wall)"
   ]
  },
  {
   "cell_type": "markdown",
   "metadata": {},
   "source": [
    "### <font color = \"#81263f\">2.8.4 Initializa Canvas</font>"
   ]
  },
  {
   "cell_type": "code",
   "execution_count": null,
   "metadata": {
    "scrolled": false
   },
   "outputs": [],
   "source": [
    "# initialization\n",
    "# run this cell\n",
    "n_x, n_y = 2, 2\n",
    "m = MultiCanvas(5, width=250, height=250)\n",
    "c_w,c_h,m_w,m_h = initialize(m,n_x, n_y)\n",
    "\n",
    "m[0]"
   ]
  },
  {
   "cell_type": "markdown",
   "metadata": {},
   "source": [
    "### <font color = \"#81263f\">2.8.5 Draw Columns in Plan</font>"
   ]
  },
  {
   "cell_type": "code",
   "execution_count": null,
   "metadata": {},
   "outputs": [],
   "source": [
    "col_0 = (0,0)"
   ]
  },
  {
   "cell_type": "code",
   "execution_count": null,
   "metadata": {},
   "outputs": [],
   "source": [
    "# run this codes to see the updated plan\n",
    "drawColumn(m[1], col_0)\n",
    "m[1]"
   ]
  },
  {
   "cell_type": "code",
   "execution_count": null,
   "metadata": {},
   "outputs": [],
   "source": [
    "# Now create all other columns by assigning its grid position.\n",
    "\n",
    "# col_1, col_2 = (),()\n",
    "# col_3, col_4, col_5 = (),(),()\n",
    "# col_6, col_7, col_8 = (),(),()"
   ]
  },
  {
   "cell_type": "code",
   "execution_count": null,
   "metadata": {},
   "outputs": [],
   "source": [
    "col_1, col_2 = (1,0),(2,0)\n",
    "col_3, col_4, col_5 = (0,1),(1,1),(2,1)\n",
    "col_6, col_7, col_8 = (0,2),(1,2),(2,2)"
   ]
  },
  {
   "cell_type": "code",
   "execution_count": null,
   "metadata": {
    "scrolled": true
   },
   "outputs": [],
   "source": [
    "# run this cell to see the updated plan\n",
    "drawAllColumns(m[2],(n_x+1)*(n_y+1))\n",
    "m[2]"
   ]
  },
  {
   "cell_type": "markdown",
   "metadata": {},
   "source": [
    "### <font color = \"#81263f\">2.8.3 Update Columns</font>"
   ]
  },
  {
   "cell_type": "code",
   "execution_count": null,
   "metadata": {},
   "outputs": [],
   "source": [
    "# Update the column representation by adding boolean values\n",
    "\n",
    "# col_0, col_1, col_2 = [col_0,False], [],[]\n",
    "# col_3, col_4, col_5 = [], [], []\n",
    "# col_6, col_7, col_8 = [], [], []"
   ]
  },
  {
   "cell_type": "code",
   "execution_count": null,
   "metadata": {},
   "outputs": [],
   "source": [
    "col_0, col_1, col_2 = [col_0,False], [col_1,True], [col_2,True]\n",
    "col_3, col_4, col_5 = [col_3,False], [col_4,True], [col_5,True]\n",
    "col_6, col_7, col_8 = [col_6,True],  [col_7,True], [col_8,True]"
   ]
  },
  {
   "cell_type": "code",
   "execution_count": null,
   "metadata": {},
   "outputs": [],
   "source": [
    "# run this codes to see the updated plan\n",
    "drawAllColumns(m[3],(n_x+1)*(n_y+1),1)\n",
    "drawAllColumns(m[4],(n_x+1)*(n_y+1),1)\n",
    "m[3]"
   ]
  },
  {
   "cell_type": "markdown",
   "metadata": {},
   "source": [
    "### <font color = \"#81263f\">2.8.4 Draw Walls</font>"
   ]
  },
  {
   "cell_type": "code",
   "execution_count": null,
   "metadata": {},
   "outputs": [],
   "source": [
    "# draw the walls using a tuple of columns and float numbers\n",
    "\n",
    "# wall_0 =  [(col_6, col_8), 0.82]\n",
    "# wall_1 = []\n",
    "# wall_2 = []\n",
    "# wall_3 = []"
   ]
  },
  {
   "cell_type": "code",
   "execution_count": null,
   "metadata": {},
   "outputs": [],
   "source": [
    "# draw the walls using a tuple of columns and float numbers\n",
    "\n",
    "wall_0 = [(col_6, col_8), 0.82]\n",
    "wall_1 = [(col_2, col_8), 1.00]\n",
    "wall_2 = [(col_1, col_2), 1.00]\n",
    "wall_3 = [(col_7, col_1), 0.9]"
   ]
  },
  {
   "cell_type": "code",
   "execution_count": null,
   "metadata": {},
   "outputs": [],
   "source": [
    "# run this codes to see the updated plan\n",
    "drawAllWalls(m[4],4)\n",
    "m[4]"
   ]
  },
  {
   "cell_type": "code",
   "execution_count": null,
   "metadata": {},
   "outputs": [],
   "source": []
  }
 ],
 "metadata": {
  "kernelspec": {
   "display_name": "Python 3 (ipykernel)",
   "language": "python",
   "name": "python3"
  },
  "language_info": {
   "codemirror_mode": {
    "name": "ipython",
    "version": 3
   },
   "file_extension": ".py",
   "mimetype": "text/x-python",
   "name": "python",
   "nbconvert_exporter": "python",
   "pygments_lexer": "ipython3",
   "version": "3.9.12"
  },
  "toc": {
   "base_numbering": 1,
   "nav_menu": {},
   "number_sections": false,
   "sideBar": true,
   "skip_h1_title": false,
   "title_cell": "Table of Contents",
   "title_sidebar": "Contents",
   "toc_cell": false,
   "toc_position": {},
   "toc_section_display": true,
   "toc_window_display": false
  }
 },
 "nbformat": 4,
 "nbformat_minor": 2
}

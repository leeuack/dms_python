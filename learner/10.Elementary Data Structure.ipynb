{
 "cells": [
  {
   "cell_type": "markdown",
   "metadata": {},
   "source": [
    "# <font color = \"#81263f\" size = \"60\">10. Elementary Data Structure</font>"
   ]
  },
  {
   "cell_type": "markdown",
   "metadata": {},
   "source": [
    "## <font style=\"background:#81263f;color:white\">10.1 Stack  </font>"
   ]
  },
  {
   "cell_type": "markdown",
   "metadata": {},
   "source": [
    "### <font color = \"#81263f\">10.1.1 Concept of Stack</font>"
   ]
  },
  {
   "cell_type": "markdown",
   "metadata": {},
   "source": [
    "### <font color = \"#81263f\">10.1.2 Linked Stack</font>"
   ]
  },
  {
   "cell_type": "markdown",
   "metadata": {},
   "source": [
    "### <font color = \"#81263f\">10.1.3 LinkedStackNode</font>"
   ]
  },
  {
   "cell_type": "code",
   "execution_count": null,
   "metadata": {
    "scrolled": false
   },
   "outputs": [],
   "source": [
    "class LinkedStackNode:\n",
    "    def __init__(self, value, nxt=None):\n",
    "        self.value = value\n",
    "        self.nxt = nxt\n",
    "        pass\n",
    "    def __str__(self):\n",
    "        return \"{}\".format(self.value)"
   ]
  },
  {
   "cell_type": "code",
   "execution_count": null,
   "metadata": {},
   "outputs": [],
   "source": [
    "test_node = LinkedStackNode(\"first\")\n",
    "print(test_node)\n",
    "print(test_node.value)\n",
    "print(test_node.nxt) # nxt starts with None until a user updates it"
   ]
  },
  {
   "cell_type": "markdown",
   "metadata": {},
   "source": [
    "### <font color = \"#81263f\">10.1.4 LinkedStack</font>"
   ]
  },
  {
   "cell_type": "code",
   "execution_count": null,
   "metadata": {},
   "outputs": [],
   "source": [
    "class LinkedStack:\n",
    "    def __init__(self):\n",
    "        self.head = None\n",
    "        self.size = 0\n",
    "    def __len__(self):\n",
    "        return self.size"
   ]
  },
  {
   "cell_type": "markdown",
   "metadata": {},
   "source": [
    "### <font color = \"#81263f\">10.1.5 Push and Pop</font>"
   ]
  },
  {
   "cell_type": "code",
   "execution_count": null,
   "metadata": {},
   "outputs": [],
   "source": [
    "class LinkedStack:\n",
    "    def __init__(self):\n",
    "        self.head = None\n",
    "        self.size = 0\n",
    "    def __len__(self):\n",
    "        return self.size\n",
    "        \n",
    "    def push(self,value):\n",
    "        self.head = LinkedStackNode(value,self.head)\n",
    "        self.size +=1\n",
    "        \n",
    "    def pop(self):\n",
    "        if self.head == None:\n",
    "            return None\n",
    "        else:\n",
    "            result = self.head\n",
    "            self.head = self.head.nxt\n",
    "            self.size -= 1\n",
    "            return result"
   ]
  },
  {
   "cell_type": "markdown",
   "metadata": {},
   "source": [
    "### <font color = \"#81263f\">10.1.6 Test Case</font>"
   ]
  },
  {
   "cell_type": "code",
   "execution_count": null,
   "metadata": {},
   "outputs": [],
   "source": [
    "stack = LinkedStack()\n",
    "data = [\"a\",\"b\",\"c\",\"d\"]\n",
    "for datum in data:\n",
    "    stack.push(LinkedStackNode(datum))\n",
    "print(stack.size)\n",
    "print(stack.head)"
   ]
  },
  {
   "cell_type": "code",
   "execution_count": null,
   "metadata": {
    "scrolled": true
   },
   "outputs": [],
   "source": [
    "for i in range(len(data)):\n",
    "    print(stack.head)\n",
    "    stack.pop()"
   ]
  },
  {
   "cell_type": "markdown",
   "metadata": {},
   "source": [
    "## <font style=\"background:#81263f;color:white\">10.2 Queue  </font>"
   ]
  },
  {
   "cell_type": "markdown",
   "metadata": {},
   "source": [
    "### <font color = \"#81263f\">10.2.1 Concept of Queue</font>"
   ]
  },
  {
   "cell_type": "markdown",
   "metadata": {},
   "source": [
    "### <font color = \"#81263f\">10.2.2 Linked Queue</font>"
   ]
  },
  {
   "cell_type": "markdown",
   "metadata": {},
   "source": [
    "### <font color = \"#81263f\">10.2.3 LinkedQueueNode</font>"
   ]
  },
  {
   "cell_type": "code",
   "execution_count": null,
   "metadata": {},
   "outputs": [],
   "source": [
    "class LinkedQueueNode:\n",
    "    def __init__(self, value, prv = None, nxt=None):\n",
    "        self.value = value\n",
    "        self.nxt = nxt\n",
    "        self.prv = prv\n",
    "    def __str__(self):\n",
    "        return str(self.value)"
   ]
  },
  {
   "cell_type": "markdown",
   "metadata": {},
   "source": [
    "### <font color = \"#81263f\">10.2.4 LinkedQueue</font>"
   ]
  },
  {
   "cell_type": "code",
   "execution_count": null,
   "metadata": {},
   "outputs": [],
   "source": [
    "class LinkedQueue:\n",
    "    def __init__(self,head = None, tail = None, size = 0):\n",
    "        self.head = head\n",
    "        self.tail = tail\n",
    "        self.size = size\n",
    "    def __len__(self): return self.size"
   ]
  },
  {
   "cell_type": "markdown",
   "metadata": {},
   "source": [
    "### <font color = \"#81263f\">10.2.5 Enque and Dequeue</font>"
   ]
  },
  {
   "cell_type": "code",
   "execution_count": null,
   "metadata": {},
   "outputs": [],
   "source": [
    "class LinkedQueue:\n",
    "    def __init__(self,head = None, tail = None, size = 0):\n",
    "        self.head = head\n",
    "        self.tail = tail\n",
    "        self.size = size\n",
    "    def __len__(self): return self.size\n",
    "    \n",
    "    def enqueue(self, value):\n",
    "        new = LinkedQueueNode(value, self.tail, None)\n",
    "        if self.head == None:\n",
    "            self.head = new\n",
    "        else:\n",
    "            self.tail.nxt = new\n",
    "        self.tail = new\n",
    "        self.size += 1\n",
    "\n",
    "    def dequeue(self):\n",
    "        if self.head == None:\n",
    "            return None\n",
    "        else:\n",
    "            result = self.head.value\n",
    "            self.head = self.head.nxt\n",
    "            self.size -= 1\n",
    "            return result"
   ]
  },
  {
   "cell_type": "markdown",
   "metadata": {},
   "source": [
    "### <font color = \"#81263f\">10.2.6 Test Case</font>"
   ]
  },
  {
   "cell_type": "code",
   "execution_count": null,
   "metadata": {},
   "outputs": [],
   "source": [
    "queue = LinkedQueue()\n",
    "data = [\"a\",\"b\",\"c\",\"d\"]\n",
    "for datum in data:\n",
    "    queue.enqueue(LinkedQueueNode(datum))\n",
    "print(queue.size)\n",
    "print(queue.head)\n",
    "print(queue.tail)"
   ]
  },
  {
   "cell_type": "code",
   "execution_count": null,
   "metadata": {
    "scrolled": true
   },
   "outputs": [],
   "source": [
    "for i in range(len(data)):\n",
    "    print(queue.head, queue.tail)\n",
    "    queue.dequeue()"
   ]
  },
  {
   "cell_type": "markdown",
   "metadata": {},
   "source": [
    "## <font style=\"background:#81263f;color:white\">10.3 Tree  </font>"
   ]
  },
  {
   "cell_type": "markdown",
   "metadata": {},
   "source": [
    "### <font color = \"#81263f\">10.3.1 Concept of Tree</font>"
   ]
  },
  {
   "cell_type": "markdown",
   "metadata": {},
   "source": [
    "### <font color = \"#81263f\">10.3.2 Binary Tree</font>"
   ]
  },
  {
   "cell_type": "markdown",
   "metadata": {},
   "source": [
    "### <font color = \"#81263f\">10.3.3 BinaryNode</font>"
   ]
  },
  {
   "cell_type": "code",
   "execution_count": null,
   "metadata": {},
   "outputs": [],
   "source": [
    "class BinaryNode():\n",
    "    def __init__(self,  value, left = None, right=None):\n",
    "        self.left = left\n",
    "        self.right = right\n",
    "        self.value = value\n",
    "        self.depth = None\n",
    "        \n",
    "    def __str__(self):\n",
    "        return \"value is {}\".format(self.value)"
   ]
  },
  {
   "cell_type": "markdown",
   "metadata": {},
   "source": [
    "### <font color = \"#81263f\">10.3.4 BinaryTree and Add</font>"
   ]
  },
  {
   "cell_type": "code",
   "execution_count": null,
   "metadata": {},
   "outputs": [],
   "source": [
    "class BinaryTree():\n",
    "    def __init__(self):\n",
    "        self.root = None\n",
    "        \n",
    "    def add(self,node,value):\n",
    "        if node == None:\n",
    "            self.root = BinaryNode(value)\n",
    "        else:\n",
    "            if value < node.value:\n",
    "                if node.left==None:\n",
    "                    node.left = BinaryNode(value)\n",
    "                else:\n",
    "                    self.add(node.left, value)\n",
    "            else:\n",
    "                if node.right==None:\n",
    "                    node.right = BinaryNode(value)\n",
    "                else:\n",
    "                    self.add(node.right, value)"
   ]
  },
  {
   "cell_type": "markdown",
   "metadata": {},
   "source": [
    "### <font color = \"#81263f\">10.3.5 Breadth First Search (BFS)</font>"
   ]
  },
  {
   "cell_type": "code",
   "execution_count": null,
   "metadata": {},
   "outputs": [],
   "source": [
    "class BinaryTree():\n",
    "    def __init__(self):\n",
    "        self.root = None\n",
    "        \n",
    "    def add(self,node,value):\n",
    "        if node == None:\n",
    "            self.root = BinaryNode(value)\n",
    "        else:\n",
    "            if value < node.value:\n",
    "                if node.left==None:\n",
    "                    node.left = BinaryNode(value)\n",
    "                else:\n",
    "                    self.add(node.left, value)\n",
    "            else:\n",
    "                if node.right==None:\n",
    "                    node.right = BinaryNode(value)\n",
    "                else:\n",
    "                    self.add(node.right, value)\n",
    "    \n",
    "    def bfs(self):\n",
    "        self.root.height = 0                              #set bottom level\n",
    "        queue, result, current_height = [self.root], [], self.root.height   #set initial que\n",
    "\n",
    "        while len(queue) > 0:\n",
    "            current_node = queue.pop(0)\n",
    "            if current_node.height > current_height:     #check height and extract node value\n",
    "                current_height += 1\n",
    "            result.append(current_node.value)\n",
    "            if current_node.left != None:                #check left and input the queue\n",
    "                current_node.left.height = current_height + 1\n",
    "                queue.append(current_node.left)\n",
    "            if current_node.right != None:               #check right and input the queue\n",
    "                current_node.right.height = current_height + 1\n",
    "                queue.append(current_node.right)\n",
    "        if result == [None]:                            #default empty root as empty list\n",
    "            return []\n",
    "        else: return result"
   ]
  },
  {
   "cell_type": "markdown",
   "metadata": {},
   "source": [
    "### <font color = \"#81263f\">10.3.6 Test Case</font>"
   ]
  },
  {
   "cell_type": "code",
   "execution_count": null,
   "metadata": {
    "scrolled": true
   },
   "outputs": [],
   "source": [
    "testTree = BinaryTree()\n",
    "testTree.add(testTree.root, 200)\n",
    "testTree.add(testTree.root, 300)\n",
    "testTree.add(testTree.root, 100)\n",
    "testTree.add(testTree.root, 30)\n",
    "\n",
    "print(testTree.root)\n",
    "print(testTree.root.left)\n",
    "print(testTree.root.right)\n",
    "print(testTree.root.left.left)\n",
    "print(testTree.bfs())"
   ]
  },
  {
   "cell_type": "markdown",
   "metadata": {},
   "source": [
    "## <font style=\"background:#81263f;color:white\">10.4 Graph  </font>"
   ]
  },
  {
   "cell_type": "markdown",
   "metadata": {},
   "source": [
    "### <font color = \"#81263f\">10.4.1 Concept of Graph</font>"
   ]
  },
  {
   "cell_type": "markdown",
   "metadata": {},
   "source": [
    "### <font color = \"#81263f\">10.4.2 Simple Graph</font>"
   ]
  },
  {
   "cell_type": "markdown",
   "metadata": {},
   "source": [
    "### <font color = \"#81263f\">10.4.3 SimpleGraph</font>"
   ]
  },
  {
   "cell_type": "code",
   "execution_count": null,
   "metadata": {},
   "outputs": [],
   "source": [
    "class SimpleGraph:\n",
    "    def __init__(self, directed=False):\n",
    "        # It is really important that you understand that the nodes here\n",
    "        # are the keys of a dictionary called self.V\n",
    "        self.V = {}\n",
    "        self.inV = {}\n",
    "        self.outV = {}\n",
    "        self.directed = directed"
   ]
  },
  {
   "cell_type": "markdown",
   "metadata": {},
   "source": [
    "### <font color = \"#81263f\">10.4.4 Add Node and Edge</font>"
   ]
  },
  {
   "cell_type": "code",
   "execution_count": null,
   "metadata": {},
   "outputs": [],
   "source": [
    "class SimpleGraph:\n",
    "    def __init__(self, directed=False):\n",
    "        # It is really important that you understand that the nodes here\n",
    "        # are the keys of a dictionary called self.V\n",
    "        self.V = {}\n",
    "        self.inV = {}\n",
    "        self.outV = {}\n",
    "        self.directed = directed\n",
    "\n",
    "    def addNode(self, v):\n",
    "        if self.directed == False:\n",
    "            if v not in self.V:\n",
    "                self.V[v] = []\n",
    "        else:\n",
    "            if v not in self.V:\n",
    "                self.V[v] = []\n",
    "                self.inV[v] = []\n",
    "                self.outV[v] = []\n",
    "\n",
    "    def addEdge(self, u, v):\n",
    "        if u in self.V and v in self.V:\n",
    "            if self.directed == False:\n",
    "                    self.V[u].append(v)\n",
    "                    self.V[v].append(u)\n",
    "            else:\n",
    "                    self.inV[u].append(v)\n",
    "                    self.outV[v].append(u)"
   ]
  },
  {
   "cell_type": "markdown",
   "metadata": {},
   "source": [
    "### <font color = \"#81263f\">10.4.5 Print Graph</font>"
   ]
  },
  {
   "cell_type": "code",
   "execution_count": null,
   "metadata": {},
   "outputs": [],
   "source": [
    "class SimpleGraph:\n",
    "    def __init__(self, directed=False):\n",
    "        # It is really important that you understand that the nodes here\n",
    "        # are the keys of a dictionary called self.V\n",
    "        self.V = {}\n",
    "        self.inV = {}\n",
    "        self.outV = {}\n",
    "        self.directed = directed\n",
    "\n",
    "    def addNode(self, v):\n",
    "        if self.directed == False:\n",
    "            if v not in self.V:\n",
    "                self.V[v] = []\n",
    "        else:\n",
    "            if v not in self.V:\n",
    "                self.V[v] = []\n",
    "                self.inV[v] = []\n",
    "                self.outV[v] = []\n",
    "\n",
    "    def addEdge(self, u, v):\n",
    "        if u in self.V and v in self.V:\n",
    "            if self.directed == False:\n",
    "                    self.V[u].append(v)\n",
    "                    self.V[v].append(u)\n",
    "            else:\n",
    "                    self.inV[u].append(v)\n",
    "                    self.outV[v].append(u)\n",
    "                    \n",
    "    def __str__(self):\n",
    "        if self.directed == False:\n",
    "            s = \"\"\n",
    "            for v in self.V.keys():\n",
    "                s += \"{} : \".format(v)\n",
    "                for n in self.V[v]:\n",
    "                    s += \" {}--{} \".format(v, n)\n",
    "                s += \"\\n\"\n",
    "            return s\n",
    "        else:\n",
    "            s = \"\"\n",
    "            for v in self.V.keys():\n",
    "                s += \"{} : \".format(v)\n",
    "                for n in self.inV[v]:\n",
    "                    s += \" {}<--{} \".format(v,n)\n",
    "                for m in self.outV[v]:\n",
    "                    s += \" {}-->{} \".format(v,m)\n",
    "                s += \"\\n\"\n",
    "            return s"
   ]
  },
  {
   "cell_type": "markdown",
   "metadata": {},
   "source": [
    "### <font color = \"#81263f\">10.4.6 Test Case</font>"
   ]
  },
  {
   "cell_type": "code",
   "execution_count": null,
   "metadata": {
    "scrolled": true
   },
   "outputs": [],
   "source": [
    "S,DS = SimpleGraph(), SimpleGraph(True)\n",
    "items = [\"u\",\"v\",\"w\",\"z\"]\n",
    "edges = [(\"v\", \"u\"),(\"w\", \"v\"),(\"u\", \"w\"),(\"w\", \"z\")]\n",
    "for item in items:\n",
    "    S.addNode(item)\n",
    "    DS.addNode(item)\n",
    "for edge in edges:\n",
    "    S.addEdge(edge[0],edge[1])\n",
    "    DS.addEdge(edge[0],edge[1])\n",
    "print(S)\n",
    "print(DS)"
   ]
  },
  {
   "cell_type": "markdown",
   "metadata": {},
   "source": [
    "### <font color = \"#81263f\">10.4.7 Street Network Graph</font>"
   ]
  },
  {
   "cell_type": "code",
   "execution_count": null,
   "metadata": {},
   "outputs": [],
   "source": [
    "S = SimpleGraph()\n",
    "items = [\"A\",\"B\",\"C\",\"D\",\"E\",\"F\",\"G\",\"H\",\"I\",\"J\",\"K\",\"L\"]\n",
    "edges = [(\"A\", \"H\"),(\"B\", \"H\"),(\"C\", \"H\"),(\"D\", \"H\"),\n",
    "         (\"A\", \"K\"),(\"B\", \"K\"),(\"C\", \"K\"),(\"D\", \"K\"),\n",
    "         (\"A\", \"J\"),(\"B\", \"J\"),(\"I\", \"J\"),\n",
    "         (\"E\", \"K\"),(\"F\", \"K\"),\n",
    "         (\"L\", \"E\"),(\"L\", \"F\"),(\"L\", \"G\")]\n",
    "for item in items:\n",
    "    S.addNode(item)\n",
    "    \n",
    "for edge in edges:\n",
    "    S.addEdge(edge[0],edge[1])\n",
    "    \n",
    "print(S)"
   ]
  },
  {
   "cell_type": "markdown",
   "metadata": {},
   "source": [
    "## <font style=\"background:#81263f;color:white\">10.5 Exercise: Slicing Rectangle  </font>"
   ]
  },
  {
   "cell_type": "markdown",
   "metadata": {},
   "source": [
    "### <font color = \"#81263f\">10.5.1  Concept</font>"
   ]
  },
  {
   "cell_type": "markdown",
   "metadata": {},
   "source": [
    "### <font color = \"#81263f\">10.5.2  Strategy</font>"
   ]
  },
  {
   "cell_type": "markdown",
   "metadata": {},
   "source": [
    "### <font color = \"#81263f\">10.5.3 Helper Function : Subdivision Point</font>"
   ]
  },
  {
   "cell_type": "code",
   "execution_count": null,
   "metadata": {},
   "outputs": [],
   "source": [
    "def getPointOnLine(line, t):\n",
    "    # Unpack the endpoints of the line\n",
    "    pt0, pt1 = \n",
    "    \n",
    "    # Calculate the new x-coordinate based on the parameter t\n",
    "    if pt0[0] < pt1[0]:\n",
    "        new_x = \n",
    "    else:\n",
    "        new_x = \n",
    "    \n",
    "    # Calculate the new y-coordinate based on the parameter t\n",
    "    if pt0[1] < pt1[1]:\n",
    "        new_y = \n",
    "    else:\n",
    "        new_y = \n",
    "    \n",
    "    # Return the new coordinates as a tuple\n",
    "    return \n"
   ]
  },
  {
   "cell_type": "markdown",
   "metadata": {},
   "source": [
    "### <font color = \"#81263f\">10.5.4 Slicing : Initialize</font>"
   ]
  },
  {
   "cell_type": "markdown",
   "metadata": {},
   "source": [
    "### <font color = \"#81263f\">10.5.5 Slicing : Vertical Division</font>"
   ]
  },
  {
   "cell_type": "markdown",
   "metadata": {},
   "source": [
    "### <font color = \"#81263f\">10.5.6 Slicing : Horizontal Division</font>"
   ]
  },
  {
   "cell_type": "markdown",
   "metadata": {},
   "source": [
    "### <font color = \"#81263f\">Slicing</font>"
   ]
  },
  {
   "cell_type": "code",
   "execution_count": null,
   "metadata": {},
   "outputs": [],
   "source": [
    "# 10.5.4 compelete the construction of a class below. \n",
    "\n",
    "\n",
    "class Slicing():\n",
    "    def __init__(self, top_left, bottom_right):\n",
    "        # Initialize the points list with the top-left, top-right, bottom-right, and bottom-left points\n",
    "        self.points = [\n",
    "            # top-left,\n",
    "            # top-right\n",
    "            # bottom-right\n",
    "            # bottom-left\n",
    "        ]  # The points' order is clockwise\n",
    "        \n",
    "        # Initialize the lines list by connecting the points in order\n",
    "        self.lines = [\n",
    "            # Line from top-left to top-right\n",
    "            # Line from top-right to bottom-right\n",
    "            # Line from bottom-right to bottom-left\n",
    "            # Line from bottom-left to top-left\n",
    "        ]\n",
    "\n",
    "    \n",
    "    # 10.5.5 compelete the method below.    \n",
    "    \n",
    "    def vertical(self, ev):\n",
    "        '''Vertical division, returns dividing points (list) and two rectangles (list)'''\n",
    "        # Define the top and bottom lines of the rectangle\n",
    "        line1, line2 = \n",
    "\n",
    "        # Find the dividing points on the top and bottom lines, using getPointOnLine\n",
    "        sub_pt_1 = \n",
    "        sub_pt_2 = \n",
    "\n",
    "        # Create two new rectangles represented as lists of four points each\n",
    "        q1 =  # First rectangle\n",
    "        q2 =  # Second rectangle\n",
    "\n",
    "        # Make lists of dividing points and rectangles for returning\n",
    "        divPts = \n",
    "        rects = \n",
    "\n",
    "        # Return the dividing points and the two new rectangles\n",
    "        return [divPts, rects]\n",
    "\n",
    "    \n",
    "    # 10.5.6 compelete the method below.    \n",
    "\n",
    "    def horizontal(self, ev):\n",
    "        '''Horizontal division, returns dividing points (list) and two rectangles (list)'''\n",
    "        # Define the right and left lines of the rectangle\n",
    "        line1, line2 = \n",
    "\n",
    "        # Find the dividing points on the right and left lines, using getPointOnLine\n",
    "        sub_pt_1 = \n",
    "        sub_pt_2 = \n",
    "\n",
    "        # Create two new rectangles represented as lists of four points each\n",
    "        q1 =  # First rectangle\n",
    "        q2 =  # Second rectangle\n",
    "\n",
    "        # Make lists of dividing points and rectangles for returning\n",
    "        divPts = \n",
    "        rects = \n",
    "\n",
    "        # Return the dividing points and the two new rectangles\n",
    "        return [divPts, rects]\n"
   ]
  },
  {
   "cell_type": "markdown",
   "metadata": {},
   "source": [
    "### <font color = \"#81263f\">10.5.7 BinaryNode</font>"
   ]
  },
  {
   "cell_type": "code",
   "execution_count": null,
   "metadata": {},
   "outputs": [],
   "source": [
    "# 10.5.7 compelete the construction of a class below. \n",
    "\n",
    "class BinaryNode():\n",
    "    '''This class is only for making Node which is a component of a Binary tree'''\n",
    "    \n",
    "    def __init__(self, points, left=None, right=None):\n",
    "        # Initialize the node with its points\n",
    "        self.points = \n",
    "        \n",
    "        # Initialize the dividing points as None\n",
    "        self.divPts = \n",
    "        \n",
    "        # Initialize the left child node (default is None)\n",
    "        self.left = \n",
    "        \n",
    "        # Initialize the right child node (default is None)\n",
    "        self.right = "
   ]
  },
  {
   "cell_type": "markdown",
   "metadata": {},
   "source": [
    "### <font color = \"#81263f\">10.5.8 BinaryTree : Initialize</font>"
   ]
  },
  {
   "cell_type": "markdown",
   "metadata": {},
   "source": [
    "### <font color = \"#81263f\">10.5.9 BinaryTree : Add Node</font>"
   ]
  },
  {
   "cell_type": "markdown",
   "metadata": {},
   "source": [
    "### <font color = \"#81263f\">10.5.10 BinaryTree : Search</font>"
   ]
  },
  {
   "cell_type": "markdown",
   "metadata": {},
   "source": [
    "### <font color = \"#81263f\">BinaryTree</font>"
   ]
  },
  {
   "cell_type": "code",
   "execution_count": null,
   "metadata": {},
   "outputs": [],
   "source": [
    "# 10.5.8 compelete the construction of a class below. \n",
    "\n",
    "class BinaryTree():\n",
    "    '''This is a real Binary Tree. This class has the method to add nodes to the tree'''\n",
    "    \n",
    "    def __init__(self):\n",
    "        '''Create an empty tree with one empty node'''\n",
    "        # Initialize the root of the tree as an empty BinaryNode\n",
    "        self.root = \n",
    "\n",
    "        \n",
    "    # 10.5.9 compelete the method below. \n",
    "    \n",
    "    def addNode(self, points, depth):\n",
    "        '''Recursively make the tree: connect nodes with .left and .right'''\n",
    "\n",
    "        # Assign points to the root node\n",
    "        self.root.points = \n",
    "\n",
    "        # Base case: if depth is 0, return the points\n",
    "        if \n",
    "            return \n",
    "\n",
    "        # Recursive case\n",
    "        else:\n",
    "            # Randomly generate a dividing parameter\n",
    "            param = \n",
    "\n",
    "            # Randomly select the dividing direction\n",
    "            n = \n",
    "\n",
    "            # If n is 0, perform a vertical slice, using vertical in Slicing\n",
    "            if \n",
    "                divPts, rects = \n",
    "                print(\"vertical!\")\n",
    "                \n",
    "            # If n is 1, perform a horizontal slice, using vertical in Slicing\n",
    "            else:\n",
    "                divPts, rects = \n",
    "                print(\"horizontal!\")\n",
    "\n",
    "            # Update self.root.divPts with the dividing points\n",
    "            self.root.divPts = \n",
    "\n",
    "            # Connect empty nodes to the left and right\n",
    "            self.root.left = \n",
    "            self.root.right = \n",
    "\n",
    "            # Create temporary trees to store and update the current root\n",
    "            tempLeft = \n",
    "            tempRight = \n",
    "            tempLeft.root = \n",
    "            tempRight.root = \n",
    "\n",
    "            # Recursively add nodes to the left and right subtrees\n",
    "        \n",
    "        \n",
    "        # 10.5.10 compelete the method below. \n",
    "    \n",
    "        def search(self):\n",
    "            '''Breadth-First Search (BFS) Order'''\n",
    "\n",
    "            # Initialize the result list to store the points\n",
    "            result = \n",
    "\n",
    "            # Initialize the current list with the root node\n",
    "            current = \n",
    "\n",
    "            # Check if the current list is empty\n",
    "            if current is None:\n",
    "                return result\n",
    "\n",
    "            else:\n",
    "                # Iterate while there are nodes to process\n",
    "                while current:\n",
    "                    # Initialize a list to store the child nodes of the current level\n",
    "                    current_child = \n",
    "\n",
    "                    # Iterate over each node in the current level\n",
    "                    for n in current:\n",
    "                        if n is not None:\n",
    "                            # Append the points of the current node to the result list; self\n",
    "\n",
    "                            # If the current node has a left child, add it to current_child; left\n",
    "\n",
    "                            # If the current node has a right child, add it to current_child; right\n",
    "\n",
    "\n",
    "                    # Update current to the list of child nodes for the next level\n",
    "                    current = \n",
    "\n",
    "                # Return the list of points found in BFS order\n",
    "            return result"
   ]
  },
  {
   "cell_type": "markdown",
   "metadata": {},
   "source": [
    "### <font color = \"#81263f\">10.5.11 Run</font>"
   ]
  },
  {
   "cell_type": "code",
   "execution_count": null,
   "metadata": {},
   "outputs": [],
   "source": [
    "import random\n",
    "pts = [(100,50), (550,50), (550,250), (100,250)]\n",
    "depth = 3\n",
    "slice_tree = BinaryTree()\n",
    "slice_tree.addNode(pts, depth)\n",
    "rectangles = slice_tree.search()"
   ]
  },
  {
   "cell_type": "markdown",
   "metadata": {},
   "source": [
    "### <font color = \"#81263f\">10.5.12 Visualization</font>"
   ]
  },
  {
   "cell_type": "code",
   "execution_count": null,
   "metadata": {},
   "outputs": [],
   "source": [
    "from ipycanvas import Canvas\n",
    "canvas = Canvas(width=650, height=600)\n",
    "\n",
    "def drawRect(canvas,rect_vertices):\n",
    "    pt0,pt1,pt2,pt3 = rect_vertices\n",
    "\n",
    "    canvas.begin_path()\n",
    "    canvas.move_to(pt0[0], pt0[1])\n",
    "    canvas.line_to(pt1[0], pt1[1])\n",
    "    canvas.line_to(pt2[0], pt2[1])\n",
    "    canvas.line_to(pt3[0], pt3[1])\n",
    "    canvas.line_to(pt0[0], pt0[1])\n",
    "    canvas.stroke_style = '#81263f'\n",
    "    canvas.stroke()\n",
    "    \n",
    "def drawRects(canvas,rects):\n",
    "    for rect in rects:\n",
    "        drawRect(canvas,rect)"
   ]
  },
  {
   "cell_type": "markdown",
   "metadata": {},
   "source": [
    "### <font color = \"#81263f\">10.5.13 Results</font>"
   ]
  },
  {
   "cell_type": "code",
   "execution_count": null,
   "metadata": {},
   "outputs": [],
   "source": [
    "drawRects(canvas,rectangles)\n",
    "canvas"
   ]
  }
 ],
 "metadata": {
  "kernelspec": {
   "display_name": "Python 3 (ipykernel)",
   "language": "python",
   "name": "python3"
  },
  "language_info": {
   "codemirror_mode": {
    "name": "ipython",
    "version": 3
   },
   "file_extension": ".py",
   "mimetype": "text/x-python",
   "name": "python",
   "nbconvert_exporter": "python",
   "pygments_lexer": "ipython3",
   "version": "3.9.12"
  }
 },
 "nbformat": 4,
 "nbformat_minor": 2
}

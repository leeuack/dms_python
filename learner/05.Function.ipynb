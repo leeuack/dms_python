{
 "cells": [
  {
   "cell_type": "markdown",
   "metadata": {},
   "source": [
    "# <font color = \"#81263f\" size = \"60\">5. Function</font>"
   ]
  },
  {
   "cell_type": "markdown",
   "metadata": {},
   "source": [
    "## <font style=\"background:#81263f;color:white\">5.1 Features and Construction of Function  </font>"
   ]
  },
  {
   "cell_type": "markdown",
   "metadata": {},
   "source": [
    "### <font color = \"#81263f\">5.1.1 Features of Function</font>"
   ]
  },
  {
   "cell_type": "markdown",
   "metadata": {},
   "source": [
    "### <font color = \"#81263f\">5.1.2 Structure</font>"
   ]
  },
  {
   "cell_type": "code",
   "execution_count": null,
   "metadata": {},
   "outputs": [],
   "source": [
    "def f(x):         #the keyword def declares the function, f is the name, x is argument \n",
    "    y = x + 45    # | this is the function body.. notice the indentation\n",
    "    return y      # | it contains a return statement"
   ]
  },
  {
   "cell_type": "code",
   "execution_count": null,
   "metadata": {},
   "outputs": [],
   "source": [
    "# calling the function\n",
    "z = f(32)         # 32 will be the x in the function\n",
    "print(z)\n",
    "\n",
    "x = 10\n",
    "w = f(x)          #now we will use 10 as the x\n",
    "print(x, w)"
   ]
  },
  {
   "cell_type": "markdown",
   "metadata": {},
   "source": [
    "### <font color = \"#81263f\">5.1.3 Function and Argument</font>"
   ]
  },
  {
   "cell_type": "code",
   "execution_count": null,
   "metadata": {},
   "outputs": [],
   "source": [
    "def g(a, b):         # more than one argument can be assigned         \n",
    "    c = a * 34\n",
    "    d = b % 3\n",
    "    return c ** d\n",
    "t1 = g(5,17)\n",
    "print(t1)"
   ]
  },
  {
   "cell_type": "code",
   "execution_count": null,
   "metadata": {},
   "outputs": [],
   "source": [
    "def h():         # no argument can be assigned         \n",
    "    return 100\n",
    "t2 = h()\n",
    "print(t2)"
   ]
  },
  {
   "cell_type": "markdown",
   "metadata": {},
   "source": [
    "### <font color = \"#81263f\">5.1.4 Default Argument</font>"
   ]
  },
  {
   "cell_type": "code",
   "execution_count": null,
   "metadata": {},
   "outputs": [],
   "source": [
    "def g(a, b = 10):         # default b is 10        \n",
    "    c = a * 34\n",
    "    d = b % 3\n",
    "    return c ** d\n",
    "\n",
    "t1 = g(5,17)\n",
    "print(t1)\n",
    "t2 = g(5)                 # one argument is input, then argument b is set as default, 10\n",
    "print(t2)"
   ]
  },
  {
   "cell_type": "markdown",
   "metadata": {},
   "source": [
    "### <font color = \"#81263f\">5.1.5 Function and Return</font>"
   ]
  },
  {
   "cell_type": "code",
   "execution_count": null,
   "metadata": {},
   "outputs": [],
   "source": [
    "def cels2Fahr(c):      \n",
    "    f = c*1.8+32                \n",
    "    return f                   # this function will return f\n",
    "\n",
    "temperature = cels2Fahr(29)    # when call the function it returns f and teperature variable holds it\n",
    "print(temperature)"
   ]
  },
  {
   "cell_type": "code",
   "execution_count": null,
   "metadata": {
    "scrolled": true
   },
   "outputs": [],
   "source": [
    "def cels2Fahr(c):      \n",
    "    f = c*1.8+32                \n",
    "    print(\"{} degree in celsius is same as {} degree in fahrenheit\".format(c,f))\n",
    "    # no return\n",
    "\n",
    "temperature = cels2Fahr(29)    # when call the function it returns none\n",
    "print(temperature)             "
   ]
  },
  {
   "cell_type": "markdown",
   "metadata": {},
   "source": [
    "### <font color = \"#81263f\">5.1.6 Pass Statement</font>"
   ]
  },
  {
   "cell_type": "code",
   "execution_count": null,
   "metadata": {},
   "outputs": [],
   "source": [
    "def cels2Fahr(c):      \n",
    "    pass \n",
    "\n",
    "temperature = cels2Fahr(29)    # when call the function it returns none\n",
    "print(temperature)   "
   ]
  },
  {
   "cell_type": "code",
   "execution_count": null,
   "metadata": {
    "scrolled": true
   },
   "outputs": [],
   "source": [
    "def cels2Fahr(c):       \n",
    "\n",
    "temperature = cels2Fahr(29)    # when call the function it returns none\n",
    "print(temperature) "
   ]
  },
  {
   "cell_type": "markdown",
   "metadata": {},
   "source": [
    "### <font color = \"#81263f\">5.1.7 Local and Global Variables 1</font>"
   ]
  },
  {
   "cell_type": "code",
   "execution_count": null,
   "metadata": {
    "scrolled": true
   },
   "outputs": [],
   "source": [
    "def functionWithLocalZ(x, y):\n",
    "    z = (x + 10) * y         # here, this z is local z\n",
    "    return z\n",
    "\n",
    "z = 5                        # here, this z is global z\n",
    "a = functionWithLocalZ(3, 2) # here, the local z is 26\n",
    "print(z,a)                   # here, z is global z which value is 5, \n",
    "                             #a is returned value of the local Z"
   ]
  },
  {
   "cell_type": "markdown",
   "metadata": {},
   "source": [
    "### <font color = \"#81263f\">5.1.8 Local and Global Variables 2</font>"
   ]
  },
  {
   "cell_type": "code",
   "execution_count": null,
   "metadata": {
    "scrolled": true
   },
   "outputs": [],
   "source": [
    "def functionWithExplicitGlobalZ(x, y):\n",
    "    global z            # bring the global variable z \n",
    "    z = (x + 10) * y    # it will update the global variable z\n",
    "    return z\n",
    " \n",
    "z = 50\n",
    "b = functionWithExplicitGlobalZ(3, 2)\n",
    "print(z,b)"
   ]
  },
  {
   "cell_type": "markdown",
   "metadata": {},
   "source": [
    "### <font color = \"#81263f\">5.1.9 Local and Global Variables 3</font>"
   ]
  },
  {
   "cell_type": "code",
   "execution_count": null,
   "metadata": {},
   "outputs": [],
   "source": [
    "def functionWithImplicitGlobalZ(x, y):\n",
    "    k =  x + y + z      # here, this z is automatically imported from the global variable z\n",
    "                        # however, still cannot update the global z without global statement\n",
    "    return k\n",
    " \n",
    "z = 100\n",
    "b = functionWithImplicitGlobalZ(3, 2)\n",
    "print(z, b)"
   ]
  },
  {
   "cell_type": "markdown",
   "metadata": {},
   "source": [
    "## <font style=\"background:#81263f;color:white\">5.2 Advanced  </font>"
   ]
  },
  {
   "cell_type": "markdown",
   "metadata": {},
   "source": [
    "### <font color = \"#81263f\">5.2.1 Use Function in Function</font>"
   ]
  },
  {
   "cell_type": "code",
   "execution_count": null,
   "metadata": {},
   "outputs": [],
   "source": [
    "def cels2Fahr(c):      \n",
    "    f = c*1.8+32                \n",
    "    return f\n",
    "\n",
    "def tmrTemp(t):\n",
    "    current = cels2Fahr(t)        #users can call a function in another function\n",
    "    tomorrow = current-10\n",
    "    return tomorrow\n",
    "\n",
    "z = tmrTemp(28)\n",
    "print(z)"
   ]
  },
  {
   "cell_type": "markdown",
   "metadata": {},
   "source": [
    "### <font color = \"#81263f\">5.2.2 Import 1</font>"
   ]
  },
  {
   "cell_type": "code",
   "execution_count": null,
   "metadata": {
    "scrolled": true
   },
   "outputs": [],
   "source": [
    "import random                     # bring random library into this document\n",
    "\n",
    "numbers = random.randint(0,9)     # .randint is a function in random library to create a random int\n",
    "print(numbers)\n",
    "\n",
    "original = [0,55,66,77,11,33,88]\n",
    "random.shuffle(original)          # .shuffle is a function in random library to shuffle a list \n",
    "print(original)\n",
    "\n",
    "param_t = random.uniform(0,1)     # .uniform is a function in random library to create a random float\n",
    "print(param_t)"
   ]
  },
  {
   "cell_type": "markdown",
   "metadata": {},
   "source": [
    "### <font color = \"#81263f\">5.2.3 Import 2</font>"
   ]
  },
  {
   "cell_type": "code",
   "execution_count": null,
   "metadata": {},
   "outputs": [],
   "source": [
    "import random                     # bring random library into this document\n",
    "\n",
    "numbers = random.randint(0,9)     # .randint is a function in random library to create a random int\n",
    "print(numbers)"
   ]
  },
  {
   "cell_type": "markdown",
   "metadata": {},
   "source": [
    "### <font color = \"#81263f\">5.2.4 Import As</font>"
   ]
  },
  {
   "cell_type": "code",
   "execution_count": null,
   "metadata": {
    "scrolled": true
   },
   "outputs": [],
   "source": [
    "import random as rd\n",
    "\n",
    "numbers = rd.randint(0,9)     # rd, not random anymore\n",
    "print(numbers)\n",
    "\n",
    "error = random.randint(0,9)   # will crash, no library named random anymore\n"
   ]
  },
  {
   "cell_type": "markdown",
   "metadata": {},
   "source": [
    "### <font color = \"#81263f\">5.2.5 From</font>"
   ]
  },
  {
   "cell_type": "code",
   "execution_count": null,
   "metadata": {
    "scrolled": true
   },
   "outputs": [],
   "source": [
    "from random import randint\n",
    "\n",
    "numbers = randint(0,9)     # rd, not random anymore\n",
    "print(numbers)\n",
    "\n",
    "error = uniform(0,9)   # will crash, no library named random anymore"
   ]
  },
  {
   "cell_type": "markdown",
   "metadata": {},
   "source": [
    "### <font color = \"#81263f\">5.2.6 Import Custom Function</font>"
   ]
  },
  {
   "cell_type": "code",
   "execution_count": null,
   "metadata": {
    "scrolled": false
   },
   "outputs": [],
   "source": [
    "import ImportCustomFunction\n",
    "pt_0, pt_1 = [3,0], [0,4]\n",
    "dist_1 = ImportCustomFunction.distance(pt_0, pt_1)\n",
    "print(dist_1)"
   ]
  },
  {
   "cell_type": "code",
   "execution_count": null,
   "metadata": {},
   "outputs": [],
   "source": [
    "import ImportCustomFunction as cf        # custom alias\n",
    "pt_2, pt_3 = [6,0], [0,8]\n",
    "dist_2 = cf.distance(pt_2, pt_3)\n",
    "print(dist_2)"
   ]
  },
  {
   "cell_type": "code",
   "execution_count": null,
   "metadata": {},
   "outputs": [],
   "source": [
    "from ImportCustomFunction import circleArea       # specific function\n",
    "circle = (0,0,5)\n",
    "area = circleArea(circle)\n",
    "print(area)"
   ]
  },
  {
   "cell_type": "markdown",
   "metadata": {},
   "source": [
    "### <font color = \"#81263f\">5.2.7 Zip-Unzip Arguments with *args</font>"
   ]
  },
  {
   "cell_type": "code",
   "execution_count": null,
   "metadata": {
    "scrolled": true
   },
   "outputs": [],
   "source": [
    "n0, n1, n2, n3 = 1,2,3,4\n",
    "\n",
    "def getMean(a, b, c):  \n",
    "    return (a+b+c)/3      # this is hard coding, not recommended\n",
    "\n",
    "def mean(*args):\n",
    "    print(\"these are arguments\", args)\n",
    "    return sum(args)/len(args)\n",
    "\n",
    "hard_mean = getMean(n0, n1, n2)\n",
    "good_mean = mean(n0,n1,n2)\n",
    "othe_mean = mean(n0,n1,n2,n3)\n",
    "\n",
    "print(hard_mean,good_mean,othe_mean)"
   ]
  },
  {
   "cell_type": "markdown",
   "metadata": {},
   "source": [
    "### <font color = \"#81263f\">5.2.8  Zip-Unzip Arguments with **kwargs</font>"
   ]
  },
  {
   "cell_type": "code",
   "execution_count": null,
   "metadata": {
    "scrolled": true
   },
   "outputs": [],
   "source": [
    "def printGrades(name, **kwargs):\n",
    "    print(\"{}\\'s socre is\".format(name), kwargs)\n",
    "    \n",
    "printGrades(\"DMS\", rhino=5.0, grasshopper=4.2, python = 3.8)\n",
    "printGrades(\"DMS\", rhino=5.0, grasshopper=4.2, python = 3.8, pytorch= 4.1)"
   ]
  },
  {
   "cell_type": "markdown",
   "metadata": {},
   "source": [
    "## <font style=\"background:#81263f;color:white\">5.3 Exercise : Relation Between Two Circles</font>"
   ]
  },
  {
   "cell_type": "code",
   "execution_count": null,
   "metadata": {},
   "outputs": [],
   "source": [
    "# helper functions\n",
    "# run this cell and please do not edit this cell\n",
    "\n",
    "try:\n",
    "    import ipycanvas\n",
    "except ImportError as e:\n",
    "    ! pip install ipycanvas\n",
    "    \n",
    "from ipycanvas import MultiCanvas\n",
    "from math import pi\n",
    "\n",
    "def initialize(num_canvas, canv_width, canv_height):\n",
    "    m = MultiCanvas(num_canvas, width=canv_width, height=canv_height)\n",
    "    for i in range(num_canvas):\n",
    "        canvas = m[i]\n",
    "        canvas.stroke_style = 'gray'\n",
    "        canvas.stroke_rect(0,0,canv_width,canv_height)\n",
    "    return m\n",
    "\n",
    "def drawCircle(canvas, circle):\n",
    "    canvas.stroke_style = \"#81263f\"\n",
    "    canvas.stroke_arc(circle[0], circle[1], circle[2], 0, pi*2)"
   ]
  },
  {
   "cell_type": "code",
   "execution_count": null,
   "metadata": {},
   "outputs": [],
   "source": [
    "# initialization\n",
    "# run this cell\n",
    "m = initialize(2, 650, 280)\n",
    "cur_canvas = m[0]"
   ]
  },
  {
   "cell_type": "markdown",
   "metadata": {},
   "source": [
    "### <font color = \"#81263f\">5.3.1 Overview</font>"
   ]
  },
  {
   "cell_type": "markdown",
   "metadata": {},
   "source": [
    "### <font color = \"#81263f\">5.3.2 Circle Representation</font>"
   ]
  },
  {
   "cell_type": "code",
   "execution_count": null,
   "metadata": {},
   "outputs": [],
   "source": [
    "# define two circles; as a list of the center point of x and y with radius r\n",
    "# circle_1 = \n",
    "# circle_2 = "
   ]
  },
  {
   "cell_type": "markdown",
   "metadata": {},
   "source": [
    "### <font color = \"#81263f\">5.3.3 Draw Two Circle</font>"
   ]
  },
  {
   "cell_type": "code",
   "execution_count": null,
   "metadata": {},
   "outputs": [],
   "source": [
    "drawCircle(cur_canvas,circle_1)\n",
    "drawCircle(cur_canvas,circle_2)\n",
    "cur_canvas"
   ]
  },
  {
   "cell_type": "markdown",
   "metadata": {},
   "source": [
    "### <font color = \"#81263f\">5.3.4 Distance between Two Points</font>"
   ]
  },
  {
   "cell_type": "code",
   "execution_count": null,
   "metadata": {},
   "outputs": [],
   "source": [
    "def getDist(pt1, pt2):\n",
    "    '''pt1 and pt2 means points and are represented by [x,y]'''\n",
    "    dist = ((pt2[0]-pt1[0])**2 + (pt2[1]-pt1[1])**2)**0.5\n",
    "    return dist"
   ]
  },
  {
   "cell_type": "markdown",
   "metadata": {},
   "source": [
    "### <font color = \"#81263f\">5.3.5 Circle Relation 1</font>"
   ]
  },
  {
   "cell_type": "code",
   "execution_count": null,
   "metadata": {},
   "outputs": [],
   "source": [
    "# create a fucntion to evaluate the relation between two circles.\n",
    "\n",
    "# def circleCircleReation(circle1, circle2):\n",
    "#     if # invalid circle cases\n",
    "#         return \"invalid\"\n",
    "#     else:\n",
    "#         dist = # get distance bewteen two center of the circles\n",
    "#         standard1 = # calculate the sum of radii of circle1 and circle2\n",
    "#         standard2 = # calculate absolute difference of radii of circle1 and circle2\n",
    "    \n",
    "#         if # same centers\n",
    "#             if # but differen radii\n",
    "#                 return \"containing\"\n",
    "#             else:  # same circle\n",
    "#                 return \"overlapping\"\n",
    "#         else:  # different centers\n",
    "#             if # no intersection\n",
    "#                 return \"separated\"\n",
    "#             elif # one intersection\n",
    "#                 return \"1 point\"\n",
    "#             elif # two intersection\n",
    "#                 return \"2 points\"\n",
    "#             else: # no intersection\n",
    "#                 return \"containing\""
   ]
  },
  {
   "cell_type": "markdown",
   "metadata": {},
   "source": [
    "### <font color = \"#81263f\">5.3.6 Circle Relation 2</font>"
   ]
  },
  {
   "cell_type": "code",
   "execution_count": null,
   "metadata": {},
   "outputs": [],
   "source": [
    "relation = circleCircleReation(circle_1, circle_2)\n",
    "print(relation)"
   ]
  },
  {
   "cell_type": "markdown",
   "metadata": {},
   "source": [
    "### <font color = \"#81263f\">5.3.7 Visualization</font>"
   ]
  },
  {
   "cell_type": "code",
   "execution_count": null,
   "metadata": {},
   "outputs": [],
   "source": [
    "cur_canvas = m[1]"
   ]
  },
  {
   "cell_type": "code",
   "execution_count": null,
   "metadata": {},
   "outputs": [],
   "source": [
    "circle_3,circle_4 = [220,150,100], [350,150,30]\n",
    "drawCircle(cur_canvas,circle_3)\n",
    "drawCircle(cur_canvas,circle_4)\n",
    "relation = circleCircleReation(circle_3, circle_4)\n",
    "print(relation)\n",
    "m[1]"
   ]
  }
 ],
 "metadata": {
  "kernelspec": {
   "display_name": "Python 3 (ipykernel)",
   "language": "python",
   "name": "python3"
  },
  "language_info": {
   "codemirror_mode": {
    "name": "ipython",
    "version": 3
   },
   "file_extension": ".py",
   "mimetype": "text/x-python",
   "name": "python",
   "nbconvert_exporter": "python",
   "pygments_lexer": "ipython3",
   "version": "3.9.12"
  }
 },
 "nbformat": 4,
 "nbformat_minor": 2
}

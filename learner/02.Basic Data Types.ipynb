{
 "cells": [
  {
   "cell_type": "markdown",
   "metadata": {},
   "source": [
    "# <font color = \"#81263f\" size = \"60\">2. Basic Dtat Types</font>"
   ]
  },
  {
   "cell_type": "markdown",
   "metadata": {},
   "source": [
    "## <font style=\"background:#81263f;color:white\">2.1 Numbers  </font>"
   ]
  },
  {
   "cell_type": "markdown",
   "metadata": {},
   "source": [
    "# <font color = \"#81263f\">2.1.1 Integer</font>"
   ]
  },
  {
   "cell_type": "code",
   "execution_count": 22,
   "metadata": {
    "scrolled": true
   },
   "outputs": [
    {
     "name": "stdout",
     "output_type": "stream",
     "text": [
      "13 <class 'int'>\n",
      "5461 <class 'int'>\n",
      "-12235 <class 'int'>\n",
      "96412 <class 'int'>\n"
     ]
    }
   ],
   "source": [
    "a = 13\n",
    "b = 5461\n",
    "c = -12235\n",
    "d = 96412\n",
    "print(a, type(a))\n",
    "print(b, type(a))\n",
    "print(c, type(a))\n",
    "print(d, type(a))"
   ]
  },
  {
   "cell_type": "markdown",
   "metadata": {},
   "source": [
    "### <font color = \"#81263f\">2.1.2 Float</font>"
   ]
  },
  {
   "cell_type": "code",
   "execution_count": 1,
   "metadata": {
    "scrolled": false
   },
   "outputs": [
    {
     "name": "stdout",
     "output_type": "stream",
     "text": [
      "3.141562 <class 'float'>\n",
      "-56.2215 <class 'float'>\n",
      "4.0 <class 'float'>\n",
      "-9.0 <class 'float'>\n"
     ]
    }
   ],
   "source": [
    "a = 3.141562\n",
    "b = -56.2215\n",
    "c = 4.0\n",
    "d = -9.000\n",
    "print(a, type(a))\n",
    "print(b, type(a))\n",
    "print(c, type(a))\n",
    "print(d, type(a))"
   ]
  },
  {
   "cell_type": "markdown",
   "metadata": {},
   "source": [
    "### <font color = \"#81263f\">2.1.3 Fraction</font>"
   ]
  },
  {
   "cell_type": "code",
   "execution_count": 2,
   "metadata": {
    "scrolled": true
   },
   "outputs": [
    {
     "name": "stdout",
     "output_type": "stream",
     "text": [
      "0.25\n",
      "0.6666666666666666\n"
     ]
    }
   ],
   "source": [
    "a = 1/4\n",
    "b = 2/3\n",
    "print(a)\n",
    "print(b)"
   ]
  },
  {
   "cell_type": "code",
   "execution_count": 3,
   "metadata": {},
   "outputs": [
    {
     "name": "stdout",
     "output_type": "stream",
     "text": [
      "1/4\n",
      "2/3\n"
     ]
    }
   ],
   "source": [
    "from fractions import Fraction\n",
    "a = Fraction(1,4)\n",
    "b = Fraction(2,3)\n",
    "print(a)\n",
    "print(b)"
   ]
  },
  {
   "cell_type": "markdown",
   "metadata": {},
   "source": [
    "## <font style=\"background:#81263f;color:white\">2.2 Boolean  </font>"
   ]
  },
  {
   "cell_type": "markdown",
   "metadata": {},
   "source": [
    "### <font color = \"#81263f\">2.2.1 Boolean in Python</font>"
   ]
  },
  {
   "cell_type": "code",
   "execution_count": 3,
   "metadata": {},
   "outputs": [
    {
     "data": {
      "text/plain": [
       "True"
      ]
     },
     "execution_count": 3,
     "metadata": {},
     "output_type": "execute_result"
    }
   ],
   "source": [
    "10>9"
   ]
  },
  {
   "cell_type": "code",
   "execution_count": 4,
   "metadata": {
    "scrolled": true
   },
   "outputs": [
    {
     "data": {
      "text/plain": [
       "False"
      ]
     },
     "execution_count": 4,
     "metadata": {},
     "output_type": "execute_result"
    }
   ],
   "source": [
    "5>9"
   ]
  },
  {
   "cell_type": "markdown",
   "metadata": {},
   "source": [
    "### <font color = \"#81263f\">2.1.2 True / False</font>"
   ]
  },
  {
   "cell_type": "code",
   "execution_count": 9,
   "metadata": {
    "scrolled": true
   },
   "outputs": [
    {
     "name": "stdout",
     "output_type": "stream",
     "text": [
      "True\n",
      "False\n"
     ]
    }
   ],
   "source": [
    "a = 10 > 9\n",
    "b =  5 > 9\n",
    "print(a)\n",
    "print(b)"
   ]
  },
  {
   "cell_type": "code",
   "execution_count": 10,
   "metadata": {
    "scrolled": false
   },
   "outputs": [
    {
     "name": "stdout",
     "output_type": "stream",
     "text": [
      "True\n",
      "False\n"
     ]
    }
   ],
   "source": [
    "c = True\n",
    "d = False\n",
    "print(c)\n",
    "print(d)"
   ]
  },
  {
   "cell_type": "markdown",
   "metadata": {},
   "source": [
    "### <font color = \"#81263f\">2.1.3 0 as False, 1 as True</font>"
   ]
  },
  {
   "cell_type": "code",
   "execution_count": 14,
   "metadata": {
    "scrolled": true
   },
   "outputs": [
    {
     "name": "stdout",
     "output_type": "stream",
     "text": [
      "False\n",
      "True\n",
      "True\n",
      "True\n"
     ]
    }
   ],
   "source": [
    "a = 0\n",
    "b = 1\n",
    "c = 12\n",
    "d = -1\n",
    "print(bool(a)) # bool is method to convert a value into Boolean.\n",
    "print(bool(b))\n",
    "print(bool(c))\n",
    "print(bool(d))"
   ]
  },
  {
   "cell_type": "markdown",
   "metadata": {},
   "source": [
    "## <font style=\"background:#81263f;color:white\">2.3 Strings  </font>"
   ]
  },
  {
   "cell_type": "markdown",
   "metadata": {},
   "source": [
    "### <font color = \"#81263f\">2.3.1 Character</font>"
   ]
  },
  {
   "cell_type": "code",
   "execution_count": 4,
   "metadata": {
    "scrolled": true
   },
   "outputs": [
    {
     "name": "stdout",
     "output_type": "stream",
     "text": [
      "Hello\n",
      "Hello World\n"
     ]
    }
   ],
   "source": [
    "a = \"Hello\"      # Hello is string enclosed by \"\"\n",
    "print(a)\n",
    "b = \"Hello World\"\n",
    "print(b)"
   ]
  },
  {
   "cell_type": "code",
   "execution_count": 5,
   "metadata": {},
   "outputs": [
    {
     "ename": "SyntaxError",
     "evalue": "EOL while scanning string literal (<ipython-input-5-36181fbacc52>, line 1)",
     "output_type": "error",
     "traceback": [
      "\u001b[1;36m  File \u001b[1;32m\"<ipython-input-5-36181fbacc52>\"\u001b[1;36m, line \u001b[1;32m1\u001b[0m\n\u001b[1;33m    bad_b = \"Hello, World!' # Oh no.... the marks are inconsistent!\u001b[0m\n\u001b[1;37m                                                                   ^\u001b[0m\n\u001b[1;31mSyntaxError\u001b[0m\u001b[1;31m:\u001b[0m EOL while scanning string literal\n"
     ]
    }
   ],
   "source": [
    "bad_b = \"Hello, World!' # Oh no.... the marks are inconsistent!"
   ]
  },
  {
   "cell_type": "markdown",
   "metadata": {},
   "source": [
    "### <font color = \"#81263f\">2.3.2 Special Character : Quotation as Special Character</font>"
   ]
  },
  {
   "cell_type": "code",
   "execution_count": 10,
   "metadata": {
    "scrolled": true
   },
   "outputs": [
    {
     "name": "stdout",
     "output_type": "stream",
     "text": [
      "Hello World !?#$%^&*/|\n",
      "single quotation cannot include \"double\" quoataion\n",
      "single quotation cannot include 'double' quoataion\n"
     ]
    }
   ],
   "source": [
    "a = \"Hello World !?#$%^&*/|\"\n",
    "b = 'single quotation cannot include \"double\" quoataion'\n",
    "c = \"single quotation cannot include 'double' quoataion\"\n",
    "print(a)\n",
    "print(b)\n",
    "print(c)"
   ]
  },
  {
   "cell_type": "code",
   "execution_count": 12,
   "metadata": {
    "scrolled": false
   },
   "outputs": [
    {
     "ename": "SyntaxError",
     "evalue": "invalid syntax (<ipython-input-12-68a7b00d8253>, line 1)",
     "output_type": "error",
     "traceback": [
      "\u001b[1;36m  File \u001b[1;32m\"<ipython-input-12-68a7b00d8253>\"\u001b[1;36m, line \u001b[1;32m1\u001b[0m\n\u001b[1;33m    bad_b = \"Hello, my \"favourite\" world!\" # this will result in error\u001b[0m\n\u001b[1;37m                        ^\u001b[0m\n\u001b[1;31mSyntaxError\u001b[0m\u001b[1;31m:\u001b[0m invalid syntax\n"
     ]
    }
   ],
   "source": [
    "bad_b = \"Hello, my \"favourite\" world!\" # this will result in error"
   ]
  },
  {
   "cell_type": "markdown",
   "metadata": {},
   "source": [
    "### <font color = \"#81263f\">2.3.3 Special Character : three quotation “ “ “ / ‘ ‘ ‘</font>"
   ]
  },
  {
   "cell_type": "code",
   "execution_count": 13,
   "metadata": {},
   "outputs": [
    {
     "name": "stdout",
     "output_type": "stream",
     "text": [
      "Hello, \n",
      "Multi-Line \n",
      "World!\n",
      "Hello, \n",
      "Multi-Line \n",
      "World!\n"
     ]
    }
   ],
   "source": [
    "d = \"\"\"Hello, \n",
    "Multi-Line \n",
    "World!\"\"\"\n",
    "print(d)\n",
    "\n",
    "d = '''Hello, \n",
    "Multi-Line \n",
    "World!'''\n",
    "print(d)"
   ]
  },
  {
   "cell_type": "markdown",
   "metadata": {},
   "source": [
    "### <font color = \"#81263f\">2.3.4 Special Character : \\\\</font>"
   ]
  },
  {
   "cell_type": "code",
   "execution_count": 68,
   "metadata": {
    "scrolled": false
   },
   "outputs": [
    {
     "name": "stdout",
     "output_type": "stream",
     "text": [
      "This book is about \n",
      "Python\n"
     ]
    }
   ],
   "source": [
    "print(\"This book is about \\nPython\")  # \\n is a single newline character"
   ]
  },
  {
   "cell_type": "code",
   "execution_count": 69,
   "metadata": {},
   "outputs": [
    {
     "name": "stdout",
     "output_type": "stream",
     "text": [
      "This book is about \tPython\n"
     ]
    }
   ],
   "source": [
    "print(\"This book is about \\tPython\")  # \\t is a single tab character"
   ]
  },
  {
   "cell_type": "code",
   "execution_count": 70,
   "metadata": {},
   "outputs": [
    {
     "name": "stdout",
     "output_type": "stream",
     "text": [
      "This book is about \\Python\n"
     ]
    }
   ],
   "source": [
    "print(\"This book is about \\\\Python\")  # \\\\ is a way to represent \\"
   ]
  },
  {
   "cell_type": "code",
   "execution_count": 71,
   "metadata": {
    "scrolled": true
   },
   "outputs": [
    {
     "name": "stdout",
     "output_type": "stream",
     "text": [
      "This book is about \"Python\n"
     ]
    }
   ],
   "source": [
    "print(\"This book is about \\\"Python\")  # \\\\ is a way to represent \""
   ]
  },
  {
   "cell_type": "markdown",
   "metadata": {},
   "source": [
    "### <font color = \"#81263f\">2.3.5 String Formatting : %</font>"
   ]
  },
  {
   "cell_type": "code",
   "execution_count": 82,
   "metadata": {},
   "outputs": [
    {
     "name": "stdout",
     "output_type": "stream",
     "text": [
      "The apples were grown in Pittsburgh\n"
     ]
    }
   ],
   "source": [
    "maker = \"Pittsburgh\"\n",
    "print(\"The apples were grown in %s\" % maker)"
   ]
  },
  {
   "cell_type": "code",
   "execution_count": 79,
   "metadata": {
    "scrolled": false
   },
   "outputs": [
    {
     "name": "stdout",
     "output_type": "stream",
     "text": [
      "The number of apple is 5\n"
     ]
    }
   ],
   "source": [
    "apple = 5\n",
    "print(\"The number of apple is %d\" % apple)  # d represents integer"
   ]
  },
  {
   "cell_type": "code",
   "execution_count": 80,
   "metadata": {},
   "outputs": [
    {
     "name": "stdout",
     "output_type": "stream",
     "text": [
      "The sales ratio is 0.200000\n"
     ]
    }
   ],
   "source": [
    "sold = 1\n",
    "sales_ratio = sold / apple\n",
    "print(\"The sales ratio is %f\" % sales_ratio)  # f represents float"
   ]
  },
  {
   "cell_type": "markdown",
   "metadata": {},
   "source": [
    "### <font color = \"#81263f\">2.3.7 String Formatting : Padding and Precision</font>"
   ]
  },
  {
   "cell_type": "code",
   "execution_count": 14,
   "metadata": {},
   "outputs": [
    {
     "name": "stdout",
     "output_type": "stream",
     "text": [
      "The number of apple is 00005\n"
     ]
    }
   ],
   "source": [
    "apple = 5\n",
    "print(\"The number of apple is %05d\" % apple)"
   ]
  },
  {
   "cell_type": "code",
   "execution_count": 15,
   "metadata": {},
   "outputs": [
    {
     "name": "stdout",
     "output_type": "stream",
     "text": [
      "The number of apple is 05.00\n",
      "pi is 003.142\n"
     ]
    }
   ],
   "source": [
    "apple = 5\n",
    "print(\"The number of apple is %05.2f\" % apple)\n",
    "\n",
    "pi = 3.141592\n",
    "print(\"pi is %07.3f\" % pi)"
   ]
  },
  {
   "cell_type": "markdown",
   "metadata": {},
   "source": [
    "### <font color = \"#81263f\">2.3.6 .format</font>"
   ]
  },
  {
   "cell_type": "code",
   "execution_count": 16,
   "metadata": {
    "scrolled": true
   },
   "outputs": [
    {
     "name": "stdout",
     "output_type": "stream",
     "text": [
      "The apples were grown in Pittsburgh \n",
      "The number of apple is 5\n",
      "The sales ratio is 0.2\n"
     ]
    }
   ],
   "source": [
    "maker = \"Pittsburgh\"\n",
    "apple = 5\n",
    "sold = 1\n",
    "sales_ratio = sold / apple\n",
    "pi = 3.141592\n",
    "print(\"The apples were grown in {} \".format(maker))\n",
    "print(\"The number of apple is {}\".format(apple))\n",
    "print(\"The sales ratio is {}\".format(sales_ratio))"
   ]
  },
  {
   "cell_type": "code",
   "execution_count": 17,
   "metadata": {},
   "outputs": [
    {
     "name": "stdout",
     "output_type": "stream",
     "text": [
      "The number of apple is 00005\n",
      "The number of apple is 05.00\n",
      "pi is 003.142\n"
     ]
    }
   ],
   "source": [
    "print(\"The number of apple is {:05d}\".format(apple))\n",
    "print(\"The number of apple is {:05.2f}\".format(apple))\n",
    "print(\"pi is {:07.3f}\".format(pi))"
   ]
  },
  {
   "cell_type": "markdown",
   "metadata": {},
   "source": [
    "## <font style=\"background:#81263f;color:white\">2.4 List  </font>"
   ]
  },
  {
   "cell_type": "markdown",
   "metadata": {},
   "source": [
    "### <font color = \"#81263f\">2.4.1 List</font>"
   ]
  },
  {
   "cell_type": "code",
   "execution_count": 19,
   "metadata": {
    "scrolled": false
   },
   "outputs": [
    {
     "name": "stdout",
     "output_type": "stream",
     "text": [
      "['Rossi', 'Kahn', 'Ingels', 'Siza', 'Chipperfield']\n"
     ]
    }
   ],
   "source": [
    "architects = [\"Rossi\", \"Kahn\", \"Ingels\", \"Siza\", \"Chipperfield\"]\n",
    "print(architects)"
   ]
  },
  {
   "cell_type": "code",
   "execution_count": 20,
   "metadata": {
    "scrolled": true
   },
   "outputs": [
    {
     "name": "stdout",
     "output_type": "stream",
     "text": [
      "[1931, 1901, 1974, 1933, 1953]\n"
     ]
    }
   ],
   "source": [
    "born = [1931, 1901, 1974, 1933, 1953]\n",
    "print(born)"
   ]
  },
  {
   "cell_type": "code",
   "execution_count": 21,
   "metadata": {},
   "outputs": [
    {
     "name": "stdout",
     "output_type": "stream",
     "text": [
      "['Rossi', 1931, 'Kahn', 1901, 'Ingels', 1974, 'Siza', 1933, 'Chipperfield', 1953]\n"
     ]
    }
   ],
   "source": [
    "architectsborn = [\"Rossi\", 1931, \"Kahn\", 1901, \"Ingels\", 1974, \"Siza\", 1933, \"Chipperfield\", 1953]\n",
    "print(architectsborn)"
   ]
  },
  {
   "cell_type": "markdown",
   "metadata": {},
   "source": [
    "### <font color = \"#81263f\">2.4.2 Index : Forward</font>"
   ]
  },
  {
   "cell_type": "code",
   "execution_count": 22,
   "metadata": {
    "scrolled": true
   },
   "outputs": [
    {
     "name": "stdout",
     "output_type": "stream",
     "text": [
      "Rossi\n",
      "Kahn\n",
      "Chipperfield\n"
     ]
    }
   ],
   "source": [
    "first = architects[0]\n",
    "second = architects[1]\n",
    "last = architects[4]\n",
    "print(first)\n",
    "print(second)\n",
    "print(last)"
   ]
  },
  {
   "cell_type": "markdown",
   "metadata": {},
   "source": [
    "Since the list named as 'architects' has five items, the range of index number is 0 to 4."
   ]
  },
  {
   "cell_type": "code",
   "execution_count": 22,
   "metadata": {},
   "outputs": [
    {
     "name": "stdout",
     "output_type": "stream",
     "text": [
      "Chipperfield\n"
     ]
    }
   ],
   "source": []
  },
  {
   "cell_type": "markdown",
   "metadata": {},
   "source": [
    "### <font color = \"#81263f\">2.4.3 Index : Backward</font>"
   ]
  },
  {
   "cell_type": "markdown",
   "metadata": {},
   "source": [
    "Users can assign -1 as index number to select the last item of the list."
   ]
  },
  {
   "cell_type": "code",
   "execution_count": 23,
   "metadata": {
    "scrolled": false
   },
   "outputs": [
    {
     "name": "stdout",
     "output_type": "stream",
     "text": [
      "Chipperfield Chipperfield\n",
      "True\n"
     ]
    }
   ],
   "source": [
    "last_by_negative_integer = architects[-1]\n",
    "print(last, last_by_negative_integer)\n",
    "print(last == last_by_negative_integer)"
   ]
  },
  {
   "cell_type": "code",
   "execution_count": 24,
   "metadata": {
    "scrolled": false
   },
   "outputs": [
    {
     "name": "stdout",
     "output_type": "stream",
     "text": [
      "Siza Siza\n",
      "True\n"
     ]
    }
   ],
   "source": [
    "last_to_second_by_negative_integer = architects[-2]\n",
    "print(architects[3], last_to_second_by_negative_integer)\n",
    "print(architects[3] == last_to_second_by_negative_integer)"
   ]
  },
  {
   "cell_type": "markdown",
   "metadata": {},
   "source": [
    "### <font color = \"#81263f\">2.4.4 Index : Error</font>"
   ]
  },
  {
   "cell_type": "markdown",
   "metadata": {},
   "source": [
    "Trying to access indexes other than the proper range, 0 to 4 in here, will raise an IndexError."
   ]
  },
  {
   "cell_type": "code",
   "execution_count": 28,
   "metadata": {
    "scrolled": false
   },
   "outputs": [
    {
     "ename": "IndexError",
     "evalue": "list index out of range",
     "output_type": "error",
     "traceback": [
      "\u001b[1;31m---------------------------------------------------------------------------\u001b[0m",
      "\u001b[1;31mIndexError\u001b[0m                                Traceback (most recent call last)",
      "\u001b[1;32m<ipython-input-28-d76175acae9d>\u001b[0m in \u001b[0;36m<module>\u001b[1;34m\u001b[0m\n\u001b[1;32m----> 1\u001b[1;33m \u001b[0merror_case_1\u001b[0m \u001b[1;33m=\u001b[0m \u001b[0marchitects\u001b[0m\u001b[1;33m[\u001b[0m\u001b[1;36m8\u001b[0m\u001b[1;33m]\u001b[0m\u001b[1;33m\u001b[0m\u001b[1;33m\u001b[0m\u001b[0m\n\u001b[0m\u001b[0;32m      2\u001b[0m \u001b[0mprint\u001b[0m\u001b[1;33m(\u001b[0m\u001b[0merror_case_1\u001b[0m\u001b[1;33m)\u001b[0m\u001b[1;33m\u001b[0m\u001b[1;33m\u001b[0m\u001b[0m\n",
      "\u001b[1;31mIndexError\u001b[0m: list index out of range"
     ]
    }
   ],
   "source": [
    "error_case_1 = architects[8]\n",
    "print(error_case_1)"
   ]
  },
  {
   "cell_type": "markdown",
   "metadata": {},
   "source": [
    "Trying to access indexes other than the proper range, 0 to 4 in here, will raise an IndexError. Moreover, if users assign not an integer for indexing number, Python will raise an TypeError."
   ]
  },
  {
   "cell_type": "code",
   "execution_count": 29,
   "metadata": {
    "scrolled": true
   },
   "outputs": [
    {
     "ename": "TypeError",
     "evalue": "list indices must be integers or slices, not float",
     "output_type": "error",
     "traceback": [
      "\u001b[1;31m---------------------------------------------------------------------------\u001b[0m",
      "\u001b[1;31mTypeError\u001b[0m                                 Traceback (most recent call last)",
      "\u001b[1;32m<ipython-input-29-3a8cf7796107>\u001b[0m in \u001b[0;36m<module>\u001b[1;34m\u001b[0m\n\u001b[1;32m----> 1\u001b[1;33m \u001b[0merror_case_2\u001b[0m \u001b[1;33m=\u001b[0m \u001b[0marchitects\u001b[0m\u001b[1;33m[\u001b[0m\u001b[1;36m3.5\u001b[0m\u001b[1;33m]\u001b[0m\u001b[1;33m\u001b[0m\u001b[1;33m\u001b[0m\u001b[0m\n\u001b[0m\u001b[0;32m      2\u001b[0m \u001b[0mprint\u001b[0m\u001b[1;33m(\u001b[0m\u001b[0merror_case_2\u001b[0m\u001b[1;33m)\u001b[0m\u001b[1;33m\u001b[0m\u001b[1;33m\u001b[0m\u001b[0m\n",
      "\u001b[1;31mTypeError\u001b[0m: list indices must be integers or slices, not float"
     ]
    }
   ],
   "source": [
    "error_case_2 = architects[3.5]\n",
    "print(error_case_2)"
   ]
  },
  {
   "cell_type": "markdown",
   "metadata": {},
   "source": [
    "### <font color = \"#81263f\">2.4.5 Nested Lists</font>"
   ]
  },
  {
   "cell_type": "code",
   "execution_count": 25,
   "metadata": {},
   "outputs": [],
   "source": [
    "triangle = [[0, 0], [4, 10], [8, 0]]\n",
    "two_triangles = [[[0, 0], [4, 10], [8, 0]], [[4, 0], [12, 0], [8, -10]]]"
   ]
  },
  {
   "cell_type": "markdown",
   "metadata": {},
   "source": [
    "### <font color = \"#81263f\">2.4.6 Index for Nested Lists</font>"
   ]
  },
  {
   "cell_type": "code",
   "execution_count": 26,
   "metadata": {},
   "outputs": [
    {
     "name": "stdout",
     "output_type": "stream",
     "text": [
      "[8, 0]\n",
      "8\n"
     ]
    }
   ],
   "source": [
    "triangle = [[0, 0], [4, 10], [8, 0]]\n",
    "print(triangle[2])\n",
    "print(triangle[2][0])"
   ]
  },
  {
   "cell_type": "code",
   "execution_count": 27,
   "metadata": {},
   "outputs": [
    {
     "name": "stdout",
     "output_type": "stream",
     "text": [
      "[[0, 0], [4, 10], [8, 0]]\n",
      "[[4, 0], [12, 0], [8, -10]]\n",
      "[8, 0]\n",
      "8\n"
     ]
    }
   ],
   "source": [
    "two_triangles = [[[0, 0], [4, 10], [8, 0]], [[4, 0], [12, 0], [8, -10]]]\n",
    "print(two_triangles[0])\n",
    "print(two_triangles[1])\n",
    "print(two_triangles[0][2])\n",
    "print(two_triangles[0][2][0])"
   ]
  },
  {
   "cell_type": "markdown",
   "metadata": {},
   "source": [
    "### <font color = \"#81263f\">2.4.7 Mutability</font>"
   ]
  },
  {
   "cell_type": "code",
   "execution_count": 28,
   "metadata": {
    "scrolled": true
   },
   "outputs": [
    {
     "name": "stdout",
     "output_type": "stream",
     "text": [
      "[0, 1, 2, 3]\n",
      "[-1, 1, 2, 3]\n"
     ]
    },
    {
     "ename": "TypeError",
     "evalue": "'str' object does not support item assignment",
     "output_type": "error",
     "traceback": [
      "\u001b[1;31m---------------------------------------------------------------------------\u001b[0m",
      "\u001b[1;31mTypeError\u001b[0m                                 Traceback (most recent call last)",
      "\u001b[1;32m<ipython-input-28-9a8853c5db2d>\u001b[0m in \u001b[0;36m<module>\u001b[1;34m\u001b[0m\n\u001b[0;32m      6\u001b[0m \u001b[1;33m\u001b[0m\u001b[0m\n\u001b[0;32m      7\u001b[0m \u001b[0mstring_can_be\u001b[0m \u001b[1;33m=\u001b[0m \u001b[1;34m\"string is immutable\"\u001b[0m\u001b[1;33m\u001b[0m\u001b[1;33m\u001b[0m\u001b[0m\n\u001b[1;32m----> 8\u001b[1;33m \u001b[0mstring_can_be\u001b[0m\u001b[1;33m[\u001b[0m\u001b[1;36m0\u001b[0m\u001b[1;33m]\u001b[0m \u001b[1;33m=\u001b[0m \u001b[1;34m\"S\"\u001b[0m  \u001b[1;31m# this line will crash becasue string is immutable\u001b[0m\u001b[1;33m\u001b[0m\u001b[1;33m\u001b[0m\u001b[0m\n\u001b[0m",
      "\u001b[1;31mTypeError\u001b[0m: 'str' object does not support item assignment"
     ]
    }
   ],
   "source": [
    "floors = [0,1,2,3]\n",
    "print(floors)\n",
    "\n",
    "floors[0] = -1\n",
    "print(floors)\n",
    "\n",
    "string_can_be = \"string is immutable\"\n",
    "string_can_be[0] = \"S\"  # this line will crash becasue string is immutable"
   ]
  },
  {
   "cell_type": "markdown",
   "metadata": {},
   "source": [
    "### <font color = \"#81263f\">2.4.8 List Alias</font>"
   ]
  },
  {
   "cell_type": "code",
   "execution_count": 29,
   "metadata": {
    "scrolled": true
   },
   "outputs": [
    {
     "name": "stdout",
     "output_type": "stream",
     "text": [
      "[2009, 1967, 2010, 1996, 2003]\n",
      "[10, 1967, 2010, 1996, 20]\n",
      "[10, 1967, 2010, 1996, 20]\n"
     ]
    }
   ],
   "source": [
    "data = [2009, 1967, 2010, 1996, 2003]\n",
    "new_data = data\n",
    "print(new_data)\n",
    "\n",
    "data[0] = 10          # new_data variable will also be updated\n",
    "new_data[-1] = 20     # data variable will also be updated\n",
    "print(data)\n",
    "print(new_data)"
   ]
  },
  {
   "cell_type": "markdown",
   "metadata": {},
   "source": [
    "### <font color = \"#81263f\">2.4.9 Copy and Deepcopy</font>"
   ]
  },
  {
   "cell_type": "code",
   "execution_count": 38,
   "metadata": {},
   "outputs": [
    {
     "name": "stdout",
     "output_type": "stream",
     "text": [
      "[2009, ['a', 7], 2010, 1996, 2003]\n",
      "[2009, ['a', 7], 2010, 1996, 2003]\n",
      "[2009, ['a', 7], 2010, 1996, 2003]\n"
     ]
    }
   ],
   "source": [
    "import copy\n",
    "data = [2009, [\"a\", 7], 2010, 1996, 2003]\n",
    "alias = data                    #the alias is not a copy\n",
    "shallow_copy = copy.copy(data)  #this requires the import copy in the first line\n",
    "deep_copy = copy.deepcopy(data) #this requires the import copy in the first line\n",
    "print(alias) \n",
    "print(shallow_copy)\n",
    "print(deep_copy)"
   ]
  },
  {
   "cell_type": "code",
   "execution_count": 39,
   "metadata": {},
   "outputs": [
    {
     "name": "stdout",
     "output_type": "stream",
     "text": [
      "data [10, ['a', 7], 2010, 1996, 2003]\n",
      "alias [10, ['a', 7], 2010, 1996, 2003]\n",
      "shallow copy [2009, ['a', 7], 2010, 1996, 2003]\n",
      "deep copy [2009, ['a', 7], 2010, 1996, 2003]\n"
     ]
    }
   ],
   "source": [
    "data[0] = 10          # new_date variable will also be updated, but copy_date will not.\n",
    "print(\"data\", data)\n",
    "print(\"alias\", alias) \n",
    "print(\"shallow copy\", shallow_copy)\n",
    "print(\"deep copy\", deep_copy)"
   ]
  },
  {
   "cell_type": "code",
   "execution_count": 40,
   "metadata": {},
   "outputs": [
    {
     "name": "stdout",
     "output_type": "stream",
     "text": [
      "data [10, [5, 7], 2010, 1996, 2003]\n",
      "alias [10, [5, 7], 2010, 1996, 2003]\n",
      "shallow copy [2009, [5, 7], 2010, 1996, 2003]\n",
      "deep copy [2009, ['a', 7], 2010, 1996, 2003]\n"
     ]
    }
   ],
   "source": [
    "data[1][0] = 5     # all the copies will also be updated, but deepcopy_date will not.\n",
    "print(\"data\", data)\n",
    "print(\"alias\", alias)\n",
    "print(\"shallow copy\", shallow_copy)\n",
    "print(\"deep copy\", deep_copy)"
   ]
  },
  {
   "cell_type": "markdown",
   "metadata": {},
   "source": [
    "## <font style=\"background:#81263f;color:white\">2.5 Tuple  </font>"
   ]
  },
  {
   "cell_type": "markdown",
   "metadata": {},
   "source": [
    "### <font color = \"#81263f\">2.5.1 Tuple</font>"
   ]
  },
  {
   "cell_type": "code",
   "execution_count": 41,
   "metadata": {},
   "outputs": [
    {
     "name": "stdout",
     "output_type": "stream",
     "text": [
      "('Landsberger Arkaden', 'Fisher House', '8House', 'Church of Santa Maria', 'Neues Museum')\n",
      "(2009, 1967, 2010, 1996, 2003)\n"
     ]
    }
   ],
   "source": [
    "buildings = (\"Landsberger Arkaden\", \"Fisher House\", \"8House\", \"Church of Santa Maria\", \"Neues Museum\")\n",
    "print(buildings)\n",
    "date = (2009, 1967, 2010, 1996, 2003)\n",
    "print(date)"
   ]
  },
  {
   "cell_type": "code",
   "execution_count": 39,
   "metadata": {
    "scrolled": true
   },
   "outputs": [
    {
     "name": "stdout",
     "output_type": "stream",
     "text": [
      "('Landsberger Arkaden', 2009)\n"
     ]
    }
   ],
   "source": [
    "rossibuilding = (\"Landsberger Arkaden\", 2009)\n",
    "print(rossibuilding)"
   ]
  },
  {
   "cell_type": "code",
   "execution_count": 42,
   "metadata": {},
   "outputs": [
    {
     "name": "stdout",
     "output_type": "stream",
     "text": [
      "('Landsberger Arkaden', 2009)\n"
     ]
    }
   ],
   "source": [
    "rossibuilding = \"Landsberger Arkaden\", 2009\n",
    "print(rossibuilding)"
   ]
  },
  {
   "cell_type": "code",
   "execution_count": 43,
   "metadata": {},
   "outputs": [
    {
     "name": "stdout",
     "output_type": "stream",
     "text": [
      "Landsberger Arkaden\n",
      "('Landsberger Arkaden',)\n"
     ]
    }
   ],
   "source": [
    "one_building = (\"Landsberger Arkaden\") #this will be interpreted as a string\n",
    "one_building_in_a_tuple = (\"Landsberger Arkaden\",) #this will be interpreted as a tuple\n",
    "print(one_building)\n",
    "print(one_building_in_a_tuple)"
   ]
  },
  {
   "cell_type": "code",
   "execution_count": 44,
   "metadata": {},
   "outputs": [
    {
     "name": "stdout",
     "output_type": "stream",
     "text": [
      "('MASP',)\n"
     ]
    }
   ],
   "source": [
    "another_building_in_a_tuple = \"MASP\",\n",
    "print(another_building_in_a_tuple)"
   ]
  },
  {
   "cell_type": "markdown",
   "metadata": {},
   "source": [
    "### <font color = \"#81263f\">2.5.2 List and Tuple</font>"
   ]
  },
  {
   "cell_type": "code",
   "execution_count": 45,
   "metadata": {},
   "outputs": [
    {
     "name": "stdout",
     "output_type": "stream",
     "text": [
      "['Bo Bardi', 'Rossi', 'Kahn', 'Ingels', 'Siza', 'Hadid', 'Chipperfield'] Kahn\n",
      "['Bo Bardi', 'Rossi', 'Le Corbusier', 'Ingels', 'Siza', 'Hadid', 'Chipperfield'] Le Corbusier\n"
     ]
    }
   ],
   "source": [
    "architects = [\"Bo Bardi\", \"Rossi\", \"Kahn\", \"Ingels\", \"Siza\", \"Hadid\", \"Chipperfield\"]\n",
    "print(architects, architects[2])\n",
    "architects[2] = \"Le Corbusier\"\n",
    "print(architects, architects[2])"
   ]
  },
  {
   "cell_type": "code",
   "execution_count": 46,
   "metadata": {},
   "outputs": [
    {
     "name": "stdout",
     "output_type": "stream",
     "text": [
      "('MASP', 'Landsberger Arkaden', 'Fisher House', '8House', 'Church of Santa Maria', 'Vitra Fire Station', 'Neues Museum') Fisher House\n"
     ]
    },
    {
     "ename": "TypeError",
     "evalue": "'tuple' object does not support item assignment",
     "output_type": "error",
     "traceback": [
      "\u001b[1;31m---------------------------------------------------------------------------\u001b[0m",
      "\u001b[1;31mTypeError\u001b[0m                                 Traceback (most recent call last)",
      "\u001b[1;32m<ipython-input-46-5ba4a0bc3509>\u001b[0m in \u001b[0;36m<module>\u001b[1;34m\u001b[0m\n\u001b[0;32m      1\u001b[0m \u001b[0mbuildings\u001b[0m \u001b[1;33m=\u001b[0m \u001b[1;33m(\u001b[0m\u001b[1;34m\"MASP\"\u001b[0m\u001b[1;33m,\u001b[0m \u001b[1;34m\"Landsberger Arkaden\"\u001b[0m\u001b[1;33m,\u001b[0m \u001b[1;34m\"Fisher House\"\u001b[0m\u001b[1;33m,\u001b[0m \u001b[1;34m\"8House\"\u001b[0m\u001b[1;33m,\u001b[0m \u001b[1;34m\"Church of Santa Maria\"\u001b[0m\u001b[1;33m,\u001b[0m \u001b[1;34m\"Vitra Fire Station\"\u001b[0m\u001b[1;33m,\u001b[0m \u001b[1;34m\"Neues Museum\"\u001b[0m\u001b[1;33m)\u001b[0m\u001b[1;33m\u001b[0m\u001b[1;33m\u001b[0m\u001b[0m\n\u001b[0;32m      2\u001b[0m \u001b[0mprint\u001b[0m\u001b[1;33m(\u001b[0m\u001b[0mbuildings\u001b[0m\u001b[1;33m,\u001b[0m \u001b[0mbuildings\u001b[0m\u001b[1;33m[\u001b[0m\u001b[1;36m2\u001b[0m\u001b[1;33m]\u001b[0m\u001b[1;33m)\u001b[0m\u001b[1;33m\u001b[0m\u001b[1;33m\u001b[0m\u001b[0m\n\u001b[1;32m----> 3\u001b[1;33m \u001b[0mbuildings\u001b[0m\u001b[1;33m[\u001b[0m\u001b[1;36m2\u001b[0m\u001b[1;33m]\u001b[0m \u001b[1;33m=\u001b[0m \u001b[1;34m\"Villa Savoye\"\u001b[0m\u001b[1;33m\u001b[0m\u001b[1;33m\u001b[0m\u001b[0m\n\u001b[0m\u001b[0;32m      4\u001b[0m \u001b[0mprint\u001b[0m\u001b[1;33m(\u001b[0m\u001b[0mbuildings\u001b[0m\u001b[1;33m,\u001b[0m \u001b[0mbuildings\u001b[0m\u001b[1;33m[\u001b[0m\u001b[1;36m2\u001b[0m\u001b[1;33m]\u001b[0m\u001b[1;33m)\u001b[0m\u001b[1;33m\u001b[0m\u001b[1;33m\u001b[0m\u001b[0m\n",
      "\u001b[1;31mTypeError\u001b[0m: 'tuple' object does not support item assignment"
     ]
    }
   ],
   "source": [
    "buildings = (\"MASP\", \"Landsberger Arkaden\", \"Fisher House\", \"8House\", \"Church of Santa Maria\", \"Vitra Fire Station\", \"Neues Museum\")\n",
    "print(buildings, buildings[2])\n",
    "buildings[2] = \"Villa Savoye\"\n",
    "print(buildings, buildings[2])"
   ]
  },
  {
   "cell_type": "markdown",
   "metadata": {},
   "source": [
    "### <font color = \"#81263f\">2.5.3 Parallel Assignment</font>"
   ]
  },
  {
   "cell_type": "code",
   "execution_count": 48,
   "metadata": {
    "scrolled": true
   },
   "outputs": [
    {
     "name": "stdout",
     "output_type": "stream",
     "text": [
      "Ingels\n",
      "8House\n",
      "2010\n"
     ]
    }
   ],
   "source": [
    "arch_tuple = (\"Ingels\", \"8House\", 2010)\n",
    "architect_2, building_2, date_2 = arch_tuple #parallel assignment\n",
    "print(architect_2)\n",
    "print(building_2)\n",
    "print(date_2)"
   ]
  },
  {
   "cell_type": "code",
   "execution_count": 49,
   "metadata": {
    "scrolled": true
   },
   "outputs": [
    {
     "name": "stdout",
     "output_type": "stream",
     "text": [
      "Kahn Fisher House 1967\n",
      "Ingels 8House 2010\n"
     ]
    }
   ],
   "source": [
    "architect_1, building_1, date_1 = [\"Kahn\", \"Fisher House\", 1967]\n",
    "print(architect_1, building_1, date_1)\n",
    "architect_2, building_2, date_2 = \"Ingels\", \"8House\", 2010\n",
    "print(architect_2, building_2, date_2)"
   ]
  },
  {
   "cell_type": "markdown",
   "metadata": {},
   "source": [
    "### <font color = \"#81263f\">2.5.4 Asterisk Notation</font>"
   ]
  },
  {
   "cell_type": "code",
   "execution_count": 50,
   "metadata": {
    "scrolled": true
   },
   "outputs": [
    {
     "name": "stdout",
     "output_type": "stream",
     "text": [
      "Siza\n",
      "['Church of Santa Maria', 1996]\n",
      "Chipperfield\n",
      "['Neues Museum', 2003]\n"
     ]
    }
   ],
   "source": [
    "architect_3, *rest = (\"Siza\", \"Church of Santa Maria\", 1996)\n",
    "print(architect_3)\n",
    "print(rest)\n",
    "architect_4, *rest = [\"Chipperfield\", \"Neues Museum\",2003]\n",
    "print(architect_4)\n",
    "print(rest)"
   ]
  },
  {
   "cell_type": "markdown",
   "metadata": {},
   "source": [
    "## <font style=\"background:#81263f;color:white\">2.6 Identifying Type  </font>"
   ]
  },
  {
   "cell_type": "markdown",
   "metadata": {},
   "source": [
    "### <font color = \"#81263f\">2.6.1 type()</font>"
   ]
  },
  {
   "cell_type": "code",
   "execution_count": 79,
   "metadata": {
    "scrolled": false
   },
   "outputs": [
    {
     "name": "stdout",
     "output_type": "stream",
     "text": [
      "<class 'bool'>\n",
      "<class 'int'>\n",
      "<class 'float'>\n",
      "<class 'str'>\n",
      "<class 'list'>\n",
      "<class 'tuple'>\n"
     ]
    }
   ],
   "source": [
    "print(type(2020>1933))\n",
    "print(type(1933))\n",
    "print(type(87.6))\n",
    "print(type(\"Siza\"))\n",
    "print(type([\"Boa Nova restaurant\", \"Miranda Santos House\", \"Bonjour Tristesse\"]))\n",
    "print(type((\"Alvaro Siza\", \"Porutgal\")))"
   ]
  },
  {
   "cell_type": "markdown",
   "metadata": {},
   "source": [
    "### <font color = \"#81263f\">2.6.2 isinstance()</font>"
   ]
  },
  {
   "cell_type": "code",
   "execution_count": 51,
   "metadata": {},
   "outputs": [
    {
     "name": "stdout",
     "output_type": "stream",
     "text": [
      "True\n",
      "False\n",
      "False\n",
      "True\n",
      "True\n",
      "True\n"
     ]
    }
   ],
   "source": [
    "print(isinstance(2020>1933,bool))\n",
    "print(isinstance(87.6, int))\n",
    "print(isinstance(\"Siza\", float))\n",
    "print(isinstance(\"Siza\", str))\n",
    "print(isinstance([\"Boa Nova restaurant\", \"Miranda Santos House\", \"Bonjour Tristesse\"], list))\n",
    "print(isinstance((\"Alvaro Siza\", \"Porutgal\"),tuple))"
   ]
  },
  {
   "cell_type": "markdown",
   "metadata": {},
   "source": [
    "## <font style=\"background:#81263f;color:white\">2.7 Type Change  </font>"
   ]
  },
  {
   "cell_type": "markdown",
   "metadata": {},
   "source": [
    "### <font color = \"#81263f\">2.7.1 General Approach</font>"
   ]
  },
  {
   "cell_type": "code",
   "execution_count": 52,
   "metadata": {
    "scrolled": true
   },
   "outputs": [
    {
     "name": "stdout",
     "output_type": "stream",
     "text": [
      "3.141516 <class 'float'> \t 3.141516 <class 'str'> \t 3 <class 'int'>\n",
      "13 <class 'int'> \t 13 <class 'str'> \t 13.0 <class 'float'>\n",
      "1234 <class 'str'> \t 1234.0 <class 'float'> \t 1234 <class 'int'>\n"
     ]
    }
   ],
   "source": [
    "a = 3.141516\n",
    "b = str(a)\n",
    "c = int(a)\n",
    "print(a,type(a),\"\\t\", b,type(b),\"\\t\", c,type(c))\n",
    "\n",
    "d = 13\n",
    "e = str(d)\n",
    "f = float(d)\n",
    "print(d,type(d),\"\\t\", e,type(e),\"\\t\", f,type(f))\n",
    "\n",
    "g = \"1234\"\n",
    "h = float(g)\n",
    "i = int(g)\n",
    "print(g,type(g),\"\\t\", h,type(h),\"\\t\", i,type(i))"
   ]
  },
  {
   "cell_type": "code",
   "execution_count": 54,
   "metadata": {
    "scrolled": true
   },
   "outputs": [
    {
     "name": "stdout",
     "output_type": "stream",
     "text": [
      "<class 'tuple'>\n",
      "<class 'list'>\n"
     ]
    }
   ],
   "source": [
    "short_architects_list = [\"Bo Bardi\", \"Rossi\", \"Hadid\", \"Chipperfield\"]\n",
    "short_architects_tuple = tuple(short_architects_list)\n",
    "print(type(short_architects_tuple))\n",
    "list_buildings = list((\"MASP\", \"Landsberger Arkaden\", \"Vitra Fire Station\", \"Neues Museum\"))\n",
    "print(type(list_buildings))"
   ]
  },
  {
   "cell_type": "markdown",
   "metadata": {},
   "source": [
    "### <font color = \"#81263f\">2.7.2 Exeptional Cases</font>"
   ]
  },
  {
   "cell_type": "code",
   "execution_count": 55,
   "metadata": {},
   "outputs": [
    {
     "name": "stdout",
     "output_type": "stream",
     "text": [
      "False False True True\n"
     ]
    }
   ],
   "source": [
    "zero = 0\n",
    "empty_string = \"\"\n",
    "empty_list = []\n",
    "nothing_here = None\n",
    "a = bool(zero)\n",
    "b = bool(empty_string)\n",
    "c = bool(3.141516)\n",
    "d = bool(short_architects_list)\n",
    "\n",
    "print(a, b, c, d)"
   ]
  },
  {
   "cell_type": "code",
   "execution_count": 56,
   "metadata": {},
   "outputs": [
    {
     "ename": "TypeError",
     "evalue": "int() argument must be a string, a bytes-like object or a number, not 'list'",
     "output_type": "error",
     "traceback": [
      "\u001b[1;31m---------------------------------------------------------------------------\u001b[0m",
      "\u001b[1;31mTypeError\u001b[0m                                 Traceback (most recent call last)",
      "\u001b[1;32m<ipython-input-56-a07e4c81b0ec>\u001b[0m in \u001b[0;36m<module>\u001b[1;34m\u001b[0m\n\u001b[1;32m----> 1\u001b[1;33m \u001b[0ma\u001b[0m \u001b[1;33m=\u001b[0m \u001b[0mint\u001b[0m\u001b[1;33m(\u001b[0m\u001b[0mshort_architects_list\u001b[0m\u001b[1;33m)\u001b[0m\u001b[1;33m\u001b[0m\u001b[1;33m\u001b[0m\u001b[0m\n\u001b[0m\u001b[0;32m      2\u001b[0m \u001b[0mprint\u001b[0m\u001b[1;33m(\u001b[0m\u001b[0ma\u001b[0m\u001b[1;33m)\u001b[0m\u001b[1;33m\u001b[0m\u001b[1;33m\u001b[0m\u001b[0m\n",
      "\u001b[1;31mTypeError\u001b[0m: int() argument must be a string, a bytes-like object or a number, not 'list'"
     ]
    }
   ],
   "source": [
    "a = int(short_architects_list)\n",
    "print(a)"
   ]
  },
  {
   "cell_type": "code",
   "execution_count": 57,
   "metadata": {},
   "outputs": [
    {
     "ename": "ValueError",
     "evalue": "invalid literal for int() with base 10: 'Hadid'",
     "output_type": "error",
     "traceback": [
      "\u001b[1;31m---------------------------------------------------------------------------\u001b[0m",
      "\u001b[1;31mValueError\u001b[0m                                Traceback (most recent call last)",
      "\u001b[1;32m<ipython-input-57-2500cc0bbbc4>\u001b[0m in \u001b[0;36m<module>\u001b[1;34m\u001b[0m\n\u001b[0;32m      1\u001b[0m \u001b[0mb\u001b[0m \u001b[1;33m=\u001b[0m \u001b[1;34m\"Hadid\"\u001b[0m\u001b[1;33m\u001b[0m\u001b[1;33m\u001b[0m\u001b[0m\n\u001b[1;32m----> 2\u001b[1;33m \u001b[0mc\u001b[0m \u001b[1;33m=\u001b[0m \u001b[0mint\u001b[0m\u001b[1;33m(\u001b[0m\u001b[0mb\u001b[0m\u001b[1;33m)\u001b[0m\u001b[1;33m\u001b[0m\u001b[1;33m\u001b[0m\u001b[0m\n\u001b[0m\u001b[0;32m      3\u001b[0m \u001b[0mprint\u001b[0m\u001b[1;33m(\u001b[0m\u001b[0mb\u001b[0m\u001b[1;33m,\u001b[0m \u001b[0mc\u001b[0m\u001b[1;33m)\u001b[0m\u001b[1;33m\u001b[0m\u001b[1;33m\u001b[0m\u001b[0m\n",
      "\u001b[1;31mValueError\u001b[0m: invalid literal for int() with base 10: 'Hadid'"
     ]
    }
   ],
   "source": [
    "b = \"Hadid\"\n",
    "c = int(b)\n",
    "print(b, c)"
   ]
  },
  {
   "cell_type": "markdown",
   "metadata": {},
   "source": [
    "## <font style=\"background:#81263f;color:white\">2.8\tExercise: Simple Plan Drawing  </font>"
   ]
  },
  {
   "cell_type": "markdown",
   "metadata": {},
   "source": [
    "### <font color = \"#81263f\">2.8.1 Install Canvas</font>"
   ]
  },
  {
   "cell_type": "code",
   "execution_count": 58,
   "metadata": {
    "scrolled": true
   },
   "outputs": [],
   "source": [
    "#run this cell, it will install ipytcanvas\n",
    "try:\n",
    "    import ipycanvas\n",
    "except ImportError as e:\n",
    "    ! pip install ipycanvas"
   ]
  },
  {
   "cell_type": "markdown",
   "metadata": {},
   "source": [
    "### <font color = \"#81263f\">2.8.2 Importing Libraries</font>"
   ]
  },
  {
   "cell_type": "code",
   "execution_count": 59,
   "metadata": {},
   "outputs": [],
   "source": [
    "# importing libraries\n",
    "# run this cell\n",
    "# it should return nothing nor errors\n",
    "from ipycanvas import MultiCanvas\n",
    "from math import pi"
   ]
  },
  {
   "cell_type": "markdown",
   "metadata": {},
   "source": [
    "### <font color = \"#81263f\">2.8.3 Helper Functions</font>"
   ]
  },
  {
   "cell_type": "code",
   "execution_count": 76,
   "metadata": {},
   "outputs": [],
   "source": [
    "# helper function\n",
    "# run this cell\n",
    "\n",
    "def initialize(multiCanvas,n_x,n_y):\n",
    "    m_w, m_h = 15,15\n",
    "    c_w,c_h = 100, 100\n",
    "    for m in range(len(multiCanvas._canvases)):\n",
    "        canvas = multiCanvas[m]\n",
    "        canvas.stroke_style = 'gray'\n",
    "        for i in range(n_x):\n",
    "            for j in range(n_y):\n",
    "                canvas.stroke_rect(i*c_w+m_w,j*c_h+m_h,c_w,c_h)\n",
    "        if m ==0:\n",
    "            for i in range(n_x+1):\n",
    "                for j in range(n_y+1):\n",
    "                    canvas.font = '12px calibri'\n",
    "                    canvas.fill_text('{},{}'.format(i,j), i*c_w+m_w,j*c_h+m_h-3)\n",
    "    return c_w,c_h,m_w,m_h\n",
    "\n",
    "def drawColumn(canvas, column):\n",
    "    canvas.fill_arc(column[0]*c_w+m_w, column[1]*c_h+m_h, 10, 0, pi*2)\n",
    "    \n",
    "def drawAllColumns(canvas, n_c, mode = 0):\n",
    "    for i in range(n_c):\n",
    "        column = eval('col_{0}'.format(i))\n",
    "        if mode == 0:\n",
    "            drawColumn(canvas, column)\n",
    "        elif mode == 1:\n",
    "            if column[-1]:\n",
    "                drawColumn(canvas, column[0])\n",
    "                \n",
    "def drawLine(canvas, start, end):\n",
    "    canvas.line_width = 10\n",
    "    canvas.stroke_style = 'black'\n",
    "    canvas.begin_path()\n",
    "    canvas.move_to(start[0], start[1])\n",
    "    canvas.line_to(end[0], end[1])\n",
    "    canvas.stroke()\n",
    "    \n",
    "def grid2coord(grid):\n",
    "    x,y = grid[0]*c_w+m_w, grid[1]*c_h+m_h\n",
    "    return x,y\n",
    "\n",
    "def drawWall(canvas, wall):\n",
    "    position, t = wall\n",
    "    start, end = position\n",
    "    start_coordi, end_coordi = grid2coord(start[0]), grid2coord(end[0])\n",
    "    len_x, len_y = abs(end_coordi[0]-start_coordi[0])*t, abs(end_coordi[1]-start_coordi[1])*t\n",
    "    if end_coordi[0]>=start_coordi[0]:\n",
    "        end_coordi_x = start_coordi[0] +len_x\n",
    "    else: end_coordi_x = start_coordi[0] - len_x\n",
    "    if end_coordi[1]>=start_coordi[1]:\n",
    "        end_coordi_y = start_coordi[1] +len_y\n",
    "    else: end_coordi_y = start_coordi[1] - len_y\n",
    "    end_coordi = (end_coordi_x, end_coordi_y)\n",
    "    drawLine(canvas, start_coordi, end_coordi)\n",
    "    \n",
    "def drawAllWalls(canvas, n_w):\n",
    "    for i in range(n_w):\n",
    "        wall = eval('wall_{0}'.format(i))\n",
    "        drawWall(canvas, wall)"
   ]
  },
  {
   "cell_type": "markdown",
   "metadata": {},
   "source": [
    "### <font color = \"#81263f\">2.8.4 Initializa Canvas</font>"
   ]
  },
  {
   "cell_type": "code",
   "execution_count": 77,
   "metadata": {
    "scrolled": false
   },
   "outputs": [
    {
     "data": {
      "application/vnd.jupyter.widget-view+json": {
       "model_id": "77bf36b47b3943aa905e547291672dec",
       "version_major": 2,
       "version_minor": 0
      },
      "text/plain": [
       "Canvas(height=250, width=250)"
      ]
     },
     "metadata": {},
     "output_type": "display_data"
    }
   ],
   "source": [
    "# initialization\n",
    "# run this cell\n",
    "n_x, n_y = 2, 2\n",
    "m = MultiCanvas(5, width=250, height=250)\n",
    "c_w,c_h,m_w,m_h = initialize(m,n_x, n_y)\n",
    "\n",
    "m[0]"
   ]
  },
  {
   "cell_type": "markdown",
   "metadata": {},
   "source": [
    "### <font color = \"#81263f\">2.8.5 Draw Columns in Plan</font>"
   ]
  },
  {
   "cell_type": "code",
   "execution_count": 78,
   "metadata": {},
   "outputs": [],
   "source": [
    "col_0 = (0,0)"
   ]
  },
  {
   "cell_type": "code",
   "execution_count": 79,
   "metadata": {},
   "outputs": [
    {
     "data": {
      "application/vnd.jupyter.widget-view+json": {
       "model_id": "02513311aec342d79c64b528a57ff612",
       "version_major": 2,
       "version_minor": 0
      },
      "text/plain": [
       "Canvas(height=250, width=250)"
      ]
     },
     "metadata": {},
     "output_type": "display_data"
    }
   ],
   "source": [
    "# run this codes to see the updated plan\n",
    "drawColumn(m[1], col_0)\n",
    "m[1]"
   ]
  },
  {
   "cell_type": "code",
   "execution_count": 80,
   "metadata": {},
   "outputs": [],
   "source": [
    "# Now create all other columns by assigning its grid position.\n",
    "\n",
    "# col_1, col_2 = (),()\n",
    "# col_3, col_4, col_5 = (),(),()\n",
    "# col_6, col_7, col_8 = (),(),()"
   ]
  },
  {
   "cell_type": "code",
   "execution_count": 82,
   "metadata": {
    "scrolled": true
   },
   "outputs": [
    {
     "data": {
      "application/vnd.jupyter.widget-view+json": {
       "model_id": "5430f56d95844ed6b9abebd4b1bce7cd",
       "version_major": 2,
       "version_minor": 0
      },
      "text/plain": [
       "Canvas(height=250, width=250)"
      ]
     },
     "metadata": {},
     "output_type": "display_data"
    }
   ],
   "source": [
    "# run this cell to see the updated plan\n",
    "drawAllColumns(m[2],(n_x+1)*(n_y+1))\n",
    "m[2]"
   ]
  },
  {
   "cell_type": "markdown",
   "metadata": {},
   "source": [
    "### <font color = \"#81263f\">2.8.3 Update Columns</font>"
   ]
  },
  {
   "cell_type": "code",
   "execution_count": 85,
   "metadata": {},
   "outputs": [],
   "source": [
    "# Update the column representation by adding boolean values\n",
    "\n",
    "# col_0, col_1, col_2 = [col_0,False], [],[]\n",
    "# col_3, col_4, col_5 = [], [], []\n",
    "# col_6, col_7, col_8 = [], [], []"
   ]
  },
  {
   "cell_type": "code",
   "execution_count": 86,
   "metadata": {},
   "outputs": [
    {
     "data": {
      "application/vnd.jupyter.widget-view+json": {
       "model_id": "70a72016a6114c3b996f2e5fb6fd5d27",
       "version_major": 2,
       "version_minor": 0
      },
      "text/plain": [
       "Canvas(height=250, width=250)"
      ]
     },
     "metadata": {},
     "output_type": "display_data"
    }
   ],
   "source": [
    "# run this codes to see the updated plan\n",
    "drawAllColumns(m[3],(n_x+1)*(n_y+1),1)\n",
    "drawAllColumns(m[4],(n_x+1)*(n_y+1),1)\n",
    "m[3]"
   ]
  },
  {
   "cell_type": "markdown",
   "metadata": {},
   "source": [
    "### <font color = \"#81263f\">2.8.4 Draw Walls</font>"
   ]
  },
  {
   "cell_type": "code",
   "execution_count": 87,
   "metadata": {},
   "outputs": [],
   "source": [
    "# draw the walls using a tuple of columns and float numbers\n",
    "\n",
    "# wall_0 =  [(col_6, col_8), 0.82]\n",
    "# wall_1 = []\n",
    "# wall_2 = []\n",
    "# wall_3 = []"
   ]
  },
  {
   "cell_type": "code",
   "execution_count": 88,
   "metadata": {},
   "outputs": [
    {
     "data": {
      "application/vnd.jupyter.widget-view+json": {
       "model_id": "21c009a78c1d41a7a507d873aca5ed99",
       "version_major": 2,
       "version_minor": 0
      },
      "text/plain": [
       "Canvas(height=250, width=250)"
      ]
     },
     "metadata": {},
     "output_type": "display_data"
    }
   ],
   "source": [
    "# run this codes to see the updated plan\n",
    "drawAllWalls(m[4],4)\n",
    "m[4]"
   ]
  }
 ],
 "metadata": {
  "kernelspec": {
   "display_name": "Python 3 (ipykernel)",
   "language": "python",
   "name": "python3"
  },
  "language_info": {
   "codemirror_mode": {
    "name": "ipython",
    "version": 3
   },
   "file_extension": ".py",
   "mimetype": "text/x-python",
   "name": "python",
   "nbconvert_exporter": "python",
   "pygments_lexer": "ipython3",
   "version": "3.9.12"
  },
  "toc": {
   "base_numbering": 1,
   "nav_menu": {},
   "number_sections": false,
   "sideBar": true,
   "skip_h1_title": false,
   "title_cell": "Table of Contents",
   "title_sidebar": "Contents",
   "toc_cell": false,
   "toc_position": {},
   "toc_section_display": true,
   "toc_window_display": false
  }
 },
 "nbformat": 4,
 "nbformat_minor": 2
}

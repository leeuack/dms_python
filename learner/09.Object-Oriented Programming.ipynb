{
 "cells": [
  {
   "cell_type": "markdown",
   "metadata": {},
   "source": [
    "# <font color = \"#81263f\" size = \"60\">9. Object-Oriented Programming</font>"
   ]
  },
  {
   "cell_type": "markdown",
   "metadata": {},
   "source": [
    "## <font style=\"background:#81263f;color:white\">9.1 Concept  </font>"
   ]
  },
  {
   "cell_type": "markdown",
   "metadata": {},
   "source": [
    "### <font color = \"#81263f\">9.1.1 What is Object-Oriented Programming?</font>"
   ]
  },
  {
   "cell_type": "markdown",
   "metadata": {},
   "source": [
    "### <font color = \"#81263f\">9.1.2 Features and Why?</font>"
   ]
  },
  {
   "cell_type": "markdown",
   "metadata": {},
   "source": [
    "### <font color = \"#81263f\">9.1.3 Everything is an Object in Python</font>"
   ]
  },
  {
   "cell_type": "code",
   "execution_count": null,
   "metadata": {
    "scrolled": true
   },
   "outputs": [],
   "source": [
    "a = 2\n",
    "b = True\n",
    "l = [1, 2, 3.0, \"hello\"]\n",
    "\n",
    "def f(x):\n",
    "    a = 3 \n",
    "    return x**3-a\n",
    "g = f\n",
    "\n",
    "print(type(a), type(b), type(l), type(g))\n",
    "print(g.__name__)   # g is in function class, and __name__ method can return the name of the fucntion\n",
    "print(f.__code__.co_varnames)"
   ]
  },
  {
   "cell_type": "markdown",
   "metadata": {},
   "source": [
    "## <font style=\"background:#81263f;color:white\">9.2 Class  </font>"
   ]
  },
  {
   "cell_type": "markdown",
   "metadata": {},
   "source": [
    "### <font color = \"#81263f\">9.2.1 Initialization</font>"
   ]
  },
  {
   "cell_type": "code",
   "execution_count": null,
   "metadata": {},
   "outputs": [],
   "source": [
    "class Wall():\n",
    "    def __init__(self):\n",
    "        pass"
   ]
  },
  {
   "cell_type": "code",
   "execution_count": null,
   "metadata": {},
   "outputs": [],
   "source": [
    "wall_0 = Wall()\n",
    "print(type(wall_0), wall_0)"
   ]
  },
  {
   "cell_type": "code",
   "execution_count": null,
   "metadata": {},
   "outputs": [],
   "source": [
    "wall_1 = Wall()\n",
    "print(type(wall_1), wall_1)"
   ]
  },
  {
   "cell_type": "markdown",
   "metadata": {},
   "source": [
    "### <font color = \"#81263f\">9.2.2 Attributes</font>"
   ]
  },
  {
   "cell_type": "code",
   "execution_count": null,
   "metadata": {},
   "outputs": [],
   "source": [
    "class Wall():\n",
    "    status = True    # class atttributes\n",
    "    def __init__(self, start, end, height):\n",
    "        self.start = start    # instance attributes\n",
    "        self.end = end        # instance attributes\n",
    "        self.height = height  # instance attributes"
   ]
  },
  {
   "cell_type": "code",
   "execution_count": null,
   "metadata": {},
   "outputs": [],
   "source": [
    "wall_0 = Wall((0,0), (20,0), 5)\n",
    "wall_1 = Wall((30,0), (0,40), 4.6)\n",
    "print(wall_0.start, wall_0.end)\n",
    "print(wall_0.height, wall_1.height)\n",
    "print(wall_0.status, wall_1.status)"
   ]
  },
  {
   "cell_type": "markdown",
   "metadata": {},
   "source": [
    "### <font color = \"#81263f\">9.2.3 Methods</font>"
   ]
  },
  {
   "cell_type": "code",
   "execution_count": null,
   "metadata": {},
   "outputs": [],
   "source": [
    "class Wall():\n",
    "    def __init__(self, start, end, height):\n",
    "        self.start = start    # instance attributes\n",
    "        self.end = end        # instance attributes\n",
    "        self.height = height  # instance attributes\n",
    "        self.status = True    # class atttributes\n",
    "    \n",
    "    def wallLength(self):\n",
    "        length = ((self.start[0]-self.end[0])**2 + (self.start[1]-self.end[1])**2)**0.5\n",
    "        return length"
   ]
  },
  {
   "cell_type": "code",
   "execution_count": null,
   "metadata": {},
   "outputs": [],
   "source": [
    "wall_0 = Wall((0,0), (20,0), 5)\n",
    "print(wall_0.wallLength())"
   ]
  },
  {
   "cell_type": "code",
   "execution_count": null,
   "metadata": {},
   "outputs": [],
   "source": [
    "wall_1 = Wall((30,0), (0,40), 4.6)\n",
    "print(wall_1.wallLength())"
   ]
  },
  {
   "cell_type": "markdown",
   "metadata": {},
   "source": [
    "### <font color = \"#81263f\">9.2.4 Function and Method</font>"
   ]
  },
  {
   "cell_type": "markdown",
   "metadata": {},
   "source": [
    "The main difference between a function and a method is how they are accessed. While a built-in or user-defined function can be accessed directly—function(), a method belongs to a class and is typically accessed through its objects using the dot notation—object.method()."
   ]
  },
  {
   "cell_type": "code",
   "execution_count": null,
   "metadata": {},
   "outputs": [],
   "source": [
    "class Wall():\n",
    "    def __init__(self, start, end, height):\n",
    "        self.start = start  \n",
    "        self.end = end       \n",
    "        self.height = height  \n",
    "        self.status = True\n",
    "    \n",
    "    def wallLength(self):   # this is a method of Wall class\n",
    "        length = ((self.start[0]-self.end[0])**2 + (self.start[1]-self.end[1])**2)**0.5\n",
    "        return length\n",
    "\n",
    "def getWallLength(wall):    # this is a function\n",
    "    length = ((wall.start[0]-wall.end[0])**2 + (wall.start[1]-wall.end[1])**2)**0.5\n",
    "    return length"
   ]
  },
  {
   "cell_type": "code",
   "execution_count": null,
   "metadata": {},
   "outputs": [],
   "source": [
    "wall_0 = Wall((0,0), (20,0), 5)\n",
    "method = wall_0.wallLength()\n",
    "func = getWallLength(wall_0)\n",
    "print(method, func)"
   ]
  },
  {
   "cell_type": "markdown",
   "metadata": {},
   "source": [
    "## <font style=\"background:#81263f;color:white\">9.3 Inheritance  </font>"
   ]
  },
  {
   "cell_type": "markdown",
   "metadata": {},
   "source": [
    "### <font color = \"#81263f\">9.3.1 The Concept of Inheritance</font>"
   ]
  },
  {
   "cell_type": "markdown",
   "metadata": {},
   "source": [
    "### <font color = \"#81263f\">9.3.2 Object from Parents</font>"
   ]
  },
  {
   "cell_type": "code",
   "execution_count": null,
   "metadata": {},
   "outputs": [],
   "source": [
    "class LoadBearing(Wall):\n",
    "    def __init__(self):\n",
    "        pass\n",
    "\n",
    "class Partition(Wall):\n",
    "    def __init__(self):\n",
    "        pass"
   ]
  },
  {
   "cell_type": "code",
   "execution_count": null,
   "metadata": {},
   "outputs": [],
   "source": [
    "wall_0 = LoadBearing()\n",
    "wall_1 = Partition()\n",
    "\n",
    "print(type(wall_0), wall_0.__class__.__bases__)\n",
    "print(type(wall_1), wall_1.__class__.__bases__)"
   ]
  },
  {
   "cell_type": "markdown",
   "metadata": {},
   "source": [
    "### <font color = \"#81263f\">9.3.3 Inherited Attributes</font>"
   ]
  },
  {
   "cell_type": "code",
   "execution_count": null,
   "metadata": {},
   "outputs": [],
   "source": [
    "class LoadBearing(Wall):\n",
    "    def __init__(self, start, end, height, window):\n",
    "        Wall.__init__(self, start, end, height)\n",
    "        self.window = window\n",
    "\n",
    "class Partition(Wall):\n",
    "    def __init__(self, start, end, height, window):\n",
    "        super().__init__(start, end, height)\n",
    "        self.window = window"
   ]
  },
  {
   "cell_type": "code",
   "execution_count": null,
   "metadata": {},
   "outputs": [],
   "source": [
    "wall_0 = LoadBearing((0,0), (20,0), 5, True)\n",
    "wall_1 = Partition((30,0), (0,40), 4.6, False)\n",
    "\n",
    "print(wall_0.start, wall_0.end, wall_0.height, wall_0.window)\n",
    "print(wall_1.start, wall_1.end, wall_1.height, wall_1.window)"
   ]
  },
  {
   "cell_type": "markdown",
   "metadata": {},
   "source": [
    "### <font color = \"#81263f\">9.3.4 Inherited Methods</font>"
   ]
  },
  {
   "cell_type": "code",
   "execution_count": null,
   "metadata": {},
   "outputs": [],
   "source": [
    "class LoadBearing(Wall):\n",
    "    def __init__(self, start, end, height, window):\n",
    "        Wall.__init__(self, start, end, height)\n",
    "        self.window = window\n",
    "    def wallLength(self):\n",
    "        return Wall.wallLength(self)\n",
    "\n",
    "class Partition(Wall):\n",
    "    def __init__(self, start, end, height, window):\n",
    "        super().__init__(start, end, height)\n",
    "        self.window = window\n",
    "    def wallLength(self):\n",
    "        return super().wallLength()"
   ]
  },
  {
   "cell_type": "code",
   "execution_count": null,
   "metadata": {},
   "outputs": [],
   "source": [
    "wall_0 = LoadBearing((0,0), (20,0), 5, True)\n",
    "wall_1 = Partition((30,0), (0,40), 4.6, False)\n",
    "print(wall_0.wallLength())\n",
    "print(wall_1.wallLength())"
   ]
  },
  {
   "cell_type": "markdown",
   "metadata": {},
   "source": [
    "## <font style=\"background:#81263f;color:white\">9.4 Exercise: qGrowth Grammar  </font>"
   ]
  },
  {
   "cell_type": "markdown",
   "metadata": {},
   "source": [
    "### <font color = \"#81263f\">9.4.1  Concept</font>"
   ]
  },
  {
   "cell_type": "markdown",
   "metadata": {},
   "source": [
    "### <font color = \"#81263f\">9.4.2  Rules : Rule 1</font>"
   ]
  },
  {
   "cell_type": "markdown",
   "metadata": {},
   "source": [
    "### <font color = \"#81263f\">9.4.3  Rules : Rule 2 and Rule 3</font>"
   ]
  },
  {
   "cell_type": "markdown",
   "metadata": {},
   "source": [
    "### <font color = \"#81263f\">9.4.4  Strategy</font>"
   ]
  },
  {
   "cell_type": "markdown",
   "metadata": {},
   "source": [
    "### <font color = \"#81263f\">9.4.5 Helper Function : Distance</font>"
   ]
  },
  {
   "cell_type": "code",
   "execution_count": null,
   "metadata": {},
   "outputs": [],
   "source": [
    "import random\n",
    "from math import pi,cos,sin"
   ]
  },
  {
   "cell_type": "code",
   "execution_count": null,
   "metadata": {},
   "outputs": [],
   "source": [
    "def getDist(pt0,pt1):\n",
    "    dist = ((pt1[0]-pt0[0])**2+(pt1[1]-pt0[1])**2)**0.5\n",
    "    return dist"
   ]
  },
  {
   "cell_type": "markdown",
   "metadata": {},
   "source": [
    "### <font color = \"#81263f\">9.4.6 Helper Function : Generate Square</font>"
   ]
  },
  {
   "cell_type": "code",
   "execution_count": null,
   "metadata": {},
   "outputs": [],
   "source": [
    "# compelete the functions below.\n",
    "\n",
    "def getRotatedCoord(pt0, pt1, angle):\n",
    "    # Calculate the vector from pt0 to pt1\n",
    "    vec = \n",
    "    \n",
    "    # Rotate the vector by the given angle\n",
    "    rotated_vec = ()\n",
    "    \n",
    "    # Calculate the new coordinates by adding the rotated vector to pt0 and rounding to 2 decimal places\n",
    "    coordinates = ()\n",
    "    \n",
    "    # Return the new coordinates\n",
    "    return \n",
    "\n",
    "def genSquare(pt0, pt1, angle):\n",
    "    # Get the second point of the square by rotating pt1 around pt0 using getRotatedCoord\n",
    "    pt2 = \n",
    "    \n",
    "    # Get the third point of the square by rotating pt0 around pt1 \n",
    "    # in the opposite direction using getRotatedCoord\n",
    "    pt3 = \n",
    "    \n",
    "    # Define the square using the four points in a list\n",
    "    square = \n",
    "    \n",
    "    # Return the square\n",
    "    return \n"
   ]
  },
  {
   "cell_type": "markdown",
   "metadata": {},
   "source": [
    "### <font color = \"#81263f\">9.4.7 Helper Function : Subdivision Point</font>"
   ]
  },
  {
   "cell_type": "code",
   "execution_count": null,
   "metadata": {},
   "outputs": [],
   "source": [
    "# compelete the function below.\n",
    "\n",
    "def getPointOnLine(line, t):\n",
    "    # Unpack the endpoints of the line\n",
    "    pt0, pt1 = \n",
    "    \n",
    "    # Calculate the new x-coordinate\n",
    "    if pt0[0] < pt1[0]:\n",
    "        new_x = \n",
    "    else:\n",
    "        new_x = \n",
    "    \n",
    "    # Calculate the new y-coordinate\n",
    "    if pt0[1] < pt1[1]:\n",
    "        new_y = \n",
    "    else:\n",
    "        new_y = \n",
    "    \n",
    "    # Return the new coordinates as a tuple\n",
    "    return \n"
   ]
  },
  {
   "cell_type": "markdown",
   "metadata": {},
   "source": [
    "### <font color = \"#81263f\">9.4.8 Line Intersection : Same Lines</font>"
   ]
  },
  {
   "cell_type": "code",
   "execution_count": null,
   "metadata": {},
   "outputs": [],
   "source": [
    "# compelete the functions below.\n",
    "\n",
    "def isSamePoint(pt0, pt1):\n",
    "    # Check if the x-coordinates are almost the same (difference less than 0.001)\n",
    "    almost_same_x = \n",
    "    \n",
    "    # Check if the y-coordinates are almost the same (difference less than 0.001)\n",
    "    almost_same_y = \n",
    "    \n",
    "    # If both x and y coordinates are almost the same, return True, otherwise return False\n",
    "    if \n",
    "        return\n",
    "    else:\n",
    "        return\n",
    "    \n",
    "def isSameLine(line0, line1):\n",
    "    # Unpack the points of the first line\n",
    "    pt0, pt1 = \n",
    "    \n",
    "    # Unpack the points of the second line\n",
    "    pt2, pt3 = \n",
    "    \n",
    "    # Check if pt0 is the same as pt2 or pt3 using isSamePoint\n",
    "    case_0 = \n",
    "    \n",
    "    # Check if pt1 is the same as pt2 or pt3 using isSamePoint\n",
    "    case_1 = \n",
    "    \n",
    "    # Return True if both case_0 and case_1 are True, indicating the lines are the same\n",
    "    return \n"
   ]
  },
  {
   "cell_type": "markdown",
   "metadata": {},
   "source": [
    "### <font color = \"#81263f\">9.4.9 Line Intersection : Joined Lines</font>"
   ]
  },
  {
   "cell_type": "code",
   "execution_count": null,
   "metadata": {},
   "outputs": [],
   "source": [
    "# compelete the function below.\n",
    "\n",
    "def isJoined(line0, line1):\n",
    "    # Unpack the points of the first line\n",
    "    pt0, pt1 = \n",
    "    \n",
    "    # Unpack the points of the second line\n",
    "    pt2, pt3 = \n",
    "    \n",
    "    # Check if pt0 is the same as pt2 or pt3 using isSamePoint\n",
    "    case_0 = \n",
    "    \n",
    "    # Check if pt1 is the same as pt2 or pt3 using isSamePoint\n",
    "    case_1 = \n",
    "    \n",
    "    # Return True if the lines share exactly one point, and False if they share both points\n",
    "    return \n"
   ]
  },
  {
   "cell_type": "markdown",
   "metadata": {},
   "source": [
    "### <font color = \"#81263f\">9.4.10 Line Intersection : Crossed Lines</font>"
   ]
  },
  {
   "cell_type": "code",
   "execution_count": null,
   "metadata": {},
   "outputs": [],
   "source": [
    "def det(a, b):\n",
    "    return a[0] * b[1] - a[1] * b[0]"
   ]
  },
  {
   "cell_type": "code",
   "execution_count": null,
   "metadata": {},
   "outputs": [],
   "source": [
    "# compelete the function below.\n",
    "\n",
    "def isCrossing(line0, line1):\n",
    "    # Calculate the differences in x-coordinates and y-coordinates between the endpoints of each line\n",
    "    xdiff = \n",
    "    ydiff = \n",
    "    \n",
    "    # Calculate the determinant of the differences using det\n",
    "    div = \n",
    "    \n",
    "    # If the determinant is 0, the lines are parallel and do not cross\n",
    "    if \n",
    "        return \n",
    "\n",
    "    # Calculate the determinants of the line endpoints\n",
    "    d = \n",
    "    \n",
    "    # Calculate the intersection point (x, y) using the determinants\n",
    "    x, y = \n",
    "    \n",
    "    # Check if the intersection point lies within the bounds of both lines\n",
    "    check_0 = \n",
    "    check_1 = \n",
    "    check_2 = \n",
    "    check_3 = \n",
    "\n",
    "    # Return True if the intersection point lies within the bounds of both lines, otherwise return False\n",
    "    return \n"
   ]
  },
  {
   "cell_type": "markdown",
   "metadata": {},
   "source": [
    "### <font color = \"#81263f\">9.4.11 Line Intersection</font>"
   ]
  },
  {
   "cell_type": "markdown",
   "metadata": {},
   "source": [
    "The function lineIntersection receives two line segments as arguments and uses the previously defined functions (isSameLine, isJoined, and isCrossing) to identify their geometric relationship. If both segments are the same, lineIntersection returns -1. If the two segments share a vertex, it returns 1. If the two line segments intersect at a single point, it returns 2. Otherwise, it returns 0."
   ]
  },
  {
   "cell_type": "code",
   "execution_count": null,
   "metadata": {},
   "outputs": [],
   "source": [
    "# compelete the function below.\n",
    "\n",
    "def lineIntersection(line0, line1):\n",
    "    '''line0 = [pt0, pt1], line1 = [pt2, pt3]'''\n",
    "    \n",
    "    # Case 0: Check if the lines are the same, return -1\n",
    "    if \n",
    "        return \n",
    "    \n",
    "    # Case 1: Check if the lines share a common vertex, return 1\n",
    "    if \n",
    "        return\n",
    "    \n",
    "    # Case 2: Check if the lines are crossing each other, return 2\n",
    "    if \n",
    "        return 2\n",
    "    \n",
    "    # Case 3: No intersection, return 0\n",
    "    return 0\n"
   ]
  },
  {
   "cell_type": "markdown",
   "metadata": {},
   "source": [
    "### <font color = \"#81263f\">9.4.12 Quad : Initialization</font>"
   ]
  },
  {
   "cell_type": "markdown",
   "metadata": {},
   "source": [
    "### <font color = \"#81263f\">9.4.13 Quad : Containment</font>"
   ]
  },
  {
   "cell_type": "markdown",
   "metadata": {},
   "source": [
    "### <font color = \"#81263f\">9.4.14 Quad : Intersection</font>"
   ]
  },
  {
   "cell_type": "markdown",
   "metadata": {},
   "source": [
    "### <font color = \"#81263f\">9.4.15 Quad : Rule 1</font>"
   ]
  },
  {
   "cell_type": "markdown",
   "metadata": {},
   "source": [
    "### <font color = \"#81263f\">Quad</font>"
   ]
  },
  {
   "cell_type": "code",
   "execution_count": null,
   "metadata": {},
   "outputs": [],
   "source": [
    "# 9.4.12 compelete the construction of a class below. \n",
    "\n",
    "class Quad():\n",
    "    def __init__(self, vertices):\n",
    "        '''vertices = [pt0, pt1, pt2, pt3]'''\n",
    "        # Initialize the Quad with its vertices\n",
    "        self.vertices = \n",
    "        \n",
    "        # Generate the edges of the Quad\n",
    "        self.edges = \n",
    "        \n",
    "    def genEdges(self):\n",
    "        '''edge = [pt0, pt1]'''\n",
    "        # Create edges by connecting consecutive vertices\n",
    "        edges = [\n",
    "            [], # Edge from pt0 to pt1\n",
    "            [], # Edge from pt1 to pt2\n",
    "            [], # Edge from pt2 to pt3\n",
    "            []  # Edge from pt3 to pt0\n",
    "        ]\n",
    "        # Return the list of edges\n",
    "        return \n",
    "    \n",
    "   # 9.4.13 compelete the method below.\n",
    "\n",
    "    \n",
    "    def containedBy(self, another_quad):\n",
    "        # Unpack the vertices of the other quad\n",
    "        pt0, pt1, pt2, pt3 = \n",
    "\n",
    "        # Calculate the minimum x-coordinate among the vertices of the other quad\n",
    "        min_x = \n",
    "\n",
    "        # Calculate the maximum x-coordinate among the vertices of the other quad\n",
    "        max_x = \n",
    "\n",
    "        # Check if each vertex of this quad is within the x-coordinate bounds of the other quad\n",
    "        for  in :\n",
    "            if \n",
    "                return False\n",
    "\n",
    "        # Return True if all vertices are within the bounds\n",
    "        return True\n",
    "    \n",
    "    \n",
    "    # 9.4.14 compelete the method below.\n",
    "    \n",
    "    def intersectWith(self, another_quad):\n",
    "        # Initialize the result as False\n",
    "        result = \n",
    "\n",
    "        # Initialize the score as 0\n",
    "        score = \n",
    "\n",
    "        # Initialize a dictionary to count the types of intersections\n",
    "        intersects = \n",
    "\n",
    "        # Iterate over each edge of this quad\n",
    "        for  in :\n",
    "            # Iterate over each edge of the other quad\n",
    "            for  in :\n",
    "                # Test for intersection between the current edge and the test edge\n",
    "                test = \n",
    "\n",
    "                # Update the count for the type of intersection\n",
    "\n",
    "                # Update the score with the intersection result\n",
    "\n",
    "        # Return the dictionary of intersection counts\n",
    "        return intersects\n",
    "    \n",
    "    \n",
    "    # 9.4.15 compelete the method below.\n",
    "\n",
    "    def rule1(self):\n",
    "        '''Generate a new quad, no intersection, oriented outside'''\n",
    "        # Initialize a list to store candidate quads\n",
    "        candidates = \n",
    "\n",
    "        # Iterate over each edge of the current quad\n",
    "        for  in :\n",
    "            # Generate a new quad by rotating 0.5*pi and add to candidates\n",
    "\n",
    "            # Generate a new quad by rotating -0.5*pi and add to candidates\n",
    "\n",
    "        # Randomly select one quad from the candidates\n",
    "        new_quad = \n",
    "\n",
    "        # Return the selected new quad\n",
    "        return new_quad"
   ]
  },
  {
   "cell_type": "markdown",
   "metadata": {},
   "source": [
    "### <font color = \"#81263f\">9.4.16 SGQuad : Inheritance</font>"
   ]
  },
  {
   "cell_type": "markdown",
   "metadata": {},
   "source": [
    "### <font color = \"#81263f\">9.4.17 SGQuad : Rule 2 and Rule 3</font>"
   ]
  },
  {
   "cell_type": "markdown",
   "metadata": {},
   "source": [
    "### <font color = \"#81263f\">SGQuad</font>"
   ]
  },
  {
   "cell_type": "code",
   "execution_count": null,
   "metadata": {},
   "outputs": [],
   "source": [
    "# 9.4.16 compelete the construction of an inherited class below. \n",
    "\n",
    "class SGQuad(Quad):\n",
    "    def __init__(self, vertices):\n",
    "        '''vertices = [pt0, pt1, pt2, pt3]'''\n",
    "        # Initialize the SGQuad with its vertices using the parent class constructor\n",
    "        \n",
    "    def genEdges(self):\n",
    "        # Generate and return the edges using the method from the parent class\n",
    "        return \n",
    "    \n",
    "    def containedBy(self, another_quad):\n",
    "        # reutnr the results of evaluation whether this quad is contained by \n",
    "        # another quad using the parent class method\n",
    "        return \n",
    "    \n",
    "    def intersectWith(self, another_quad):\n",
    "        # another quad using the parent class method\n",
    "        return \n",
    "\n",
    "    \n",
    "    # 9.4.17 compelete the methods below.\n",
    "\n",
    "    def rule2(self):\n",
    "        # Calculate a new point on the second edge at a parameter of 1.25, using getPointOnLine\n",
    "        new_pt_0 = \n",
    "\n",
    "        # Calculate a new point on the last edge at a parameter of 0.75, using getPointOnLine\n",
    "        new_pt_1 = \n",
    "\n",
    "        # Update the third vertex with the new point\n",
    "        self.vertices[2] = \n",
    "\n",
    "        # Update the fourth vertex with the new point\n",
    "        self.vertices[3] = \n",
    "\n",
    "        # Regenerate the edges based on the updated vertices\n",
    "        self.edges = \n",
    "        \n",
    "\n",
    "    def rule3(self):\n",
    "        # Calculate a new point on the second edge at a parameter of 0.25, using getPointOnLine\n",
    "        new_pt_0 = \n",
    "\n",
    "        # Calculate a new point on the last edge at a parameter of 0.25, using getPointOnLine\n",
    "        new_pt_1 = \n",
    "\n",
    "        # Update the third vertex with the new point\n",
    "        self.vertices[2] = \n",
    "        \n",
    "        # Update the fourth vertex with the new point\n",
    "        self.vertices[3] = \n",
    "\n",
    "        # Regenerate the edges based on the updated vertices\n",
    "        self.edges = \n"
   ]
  },
  {
   "cell_type": "markdown",
   "metadata": {},
   "source": [
    "### <font color = \"#81263f\">9.4.18 Solver : Initialization</font>"
   ]
  },
  {
   "cell_type": "markdown",
   "metadata": {},
   "source": [
    "### <font color = \"#81263f\">9.4.19 Solver : Intersect and Applying Rules</font>"
   ]
  },
  {
   "cell_type": "markdown",
   "metadata": {},
   "source": [
    "### <font color = \"#81263f\">9.4.20 Solver : Growth</font>"
   ]
  },
  {
   "cell_type": "markdown",
   "metadata": {},
   "source": [
    "### <font color = \"#81263f\">Solver</font>"
   ]
  },
  {
   "cell_type": "code",
   "execution_count": null,
   "metadata": {},
   "outputs": [],
   "source": [
    "# 9.4.18 compelete the construction of an inherited class below. \n",
    "\n",
    "class Solver():\n",
    "    def __init__(self, init_quad):\n",
    "        # Initialize the Solver with a list containing the initial quad\n",
    "        self.quads = \n",
    "        \n",
    "    \n",
    "    # 9.4.19 compelete the methods below.\n",
    "    \n",
    "    def intersect(self, cur_quad):\n",
    "        # Iterate over each quad in the list of quads\n",
    "        for  in :\n",
    "            # Check the intersection score between cur_quad and the current quad\n",
    "            score = \n",
    "\n",
    "            # Check if cur_quad is contained by the current quad\n",
    "            contain = \n",
    "\n",
    "            # If cur_quad is contained by the current quad, return True\n",
    "            if :\n",
    "                return True\n",
    "\n",
    "            # If there are intersections or if score indicates four intersections, return True\n",
    "            if :\n",
    "                return True\n",
    "\n",
    "        # Return False if no intersections or containment are found\n",
    "        return False\n",
    "\n",
    "    \n",
    "    def applyRandomRule(self, new_quad):\n",
    "        # Randomly choose an integer between 2 and 3\n",
    "        rule = \n",
    "\n",
    "        # Apply rule 2 if selected\n",
    "        if :\n",
    "            return \n",
    "\n",
    "        # Apply rule 3 if selected\n",
    "        elif :\n",
    "            return  \n",
    "        \n",
    "        \n",
    "    # 9.4.20 compelete the method below.\n",
    "    \n",
    "    def growth(self, iteration):\n",
    "        # Initialize the number of quads as 0\n",
    "        num_quad = \n",
    "\n",
    "        # Loop until the number of quads reaches the specified iteration count\n",
    "        while :\n",
    "            # Get the most recent quad in the list\n",
    "            cur_quad = s\n",
    "\n",
    "            # Generate a new quad using rule1\n",
    "            new_quad = \n",
    "\n",
    "            # Check if the new quad intersects with any existing quads\n",
    "            intersect = \n",
    "\n",
    "            # If there is no intersection\n",
    "            if :\n",
    "                # Convert the new quad to an SGQuad\n",
    "                new_quad = \n",
    "\n",
    "                # Apply a random rule to the new quad\n",
    "                \n",
    "                # Add the new quad to the list of quads\n",
    "                \n",
    "                # Increment the number of quads\n"
   ]
  },
  {
   "cell_type": "markdown",
   "metadata": {},
   "source": [
    "### <font color = \"#81263f\">9.4.21 Run</font>"
   ]
  },
  {
   "cell_type": "code",
   "execution_count": null,
   "metadata": {
    "scrolled": true
   },
   "outputs": [],
   "source": [
    "test_quad = Quad([(200,100),(240,100),(260,180),(200,120)])\n",
    "run = Solver(test_quad)\n",
    "run.growth(8)"
   ]
  },
  {
   "cell_type": "markdown",
   "metadata": {},
   "source": [
    "### <font color = \"#81263f\">9.4.22 Visualization</font>"
   ]
  },
  {
   "cell_type": "code",
   "execution_count": null,
   "metadata": {
    "scrolled": true
   },
   "outputs": [],
   "source": [
    "from ipycanvas import Canvas\n",
    "canvas = Canvas(width=650, height=300)\n",
    "\n",
    "def drawQuad(canvas,quad):\n",
    "    pt0,pt1,pt2,pt3 = quad\n",
    "\n",
    "    canvas.begin_path()\n",
    "    canvas.move_to(pt0[0], pt0[1])\n",
    "    canvas.line_to(pt1[0], pt1[1])\n",
    "    canvas.line_to(pt2[0], pt2[1])\n",
    "    canvas.line_to(pt3[0], pt3[1])\n",
    "    canvas.line_to(pt0[0], pt0[1])\n",
    "    canvas.stroke_style = '#81263f'\n",
    "    canvas.stroke()\n",
    "    \n",
    "def drawQuads(canvas,quads):\n",
    "    for quad in quads:\n",
    "        drawQuad(canvas,quad.vertices)"
   ]
  },
  {
   "cell_type": "markdown",
   "metadata": {},
   "source": [
    "### <font color = \"#81263f\">9.4.23 Results</font>"
   ]
  },
  {
   "cell_type": "code",
   "execution_count": null,
   "metadata": {
    "scrolled": true
   },
   "outputs": [],
   "source": [
    "drawQuads(canvas,run.quads)\n",
    "canvas"
   ]
  }
 ],
 "metadata": {
  "kernelspec": {
   "display_name": "Python 3 (ipykernel)",
   "language": "python",
   "name": "python3"
  },
  "language_info": {
   "codemirror_mode": {
    "name": "ipython",
    "version": 3
   },
   "file_extension": ".py",
   "mimetype": "text/x-python",
   "name": "python",
   "nbconvert_exporter": "python",
   "pygments_lexer": "ipython3",
   "version": "3.9.12"
  }
 },
 "nbformat": 4,
 "nbformat_minor": 2
}

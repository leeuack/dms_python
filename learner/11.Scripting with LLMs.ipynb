{
 "cells": [
  {
   "cell_type": "markdown",
   "id": "c5aa83df",
   "metadata": {},
   "source": [
    "# <font color = \"#81263f\" size = \"60\">11. Scripting with LLMs</font>"
   ]
  },
  {
   "cell_type": "markdown",
   "id": "1315885e",
   "metadata": {},
   "source": [
    "## <font style=\"background:#81263f;color:white\">11.1 Exercise: Cutting Polyline</font>"
   ]
  },
  {
   "cell_type": "markdown",
   "id": "dee769e8",
   "metadata": {},
   "source": [
    "### <font color = \"#81263f\">11.1.1 Concepts</font>"
   ]
  },
  {
   "cell_type": "markdown",
   "id": "7be4e0f1",
   "metadata": {},
   "source": [
    "### <font color = \"#81263f\">11.1.2 An Existing Function</font>"
   ]
  },
  {
   "cell_type": "code",
   "execution_count": null,
   "id": "95db03d4",
   "metadata": {},
   "outputs": [],
   "source": [
    "def draw_polyline(canvas,vertices, line_width = 20, color = '#81263f'):\n",
    "    canvas.line_width = line_width\n",
    "    canvas.line_cap = 'square'\n",
    "    canvas.begin_path()\n",
    "    for i in range(len(vertices)):\n",
    "        if i==0:\n",
    "            canvas.move_to(vertices[i][0], vertices[i][1])\n",
    "        else:\n",
    "            canvas.line_to(vertices[i][0], vertices[i][1])\n",
    "    canvas.stroke_style = color\n",
    "    canvas.stroke()"
   ]
  },
  {
   "cell_type": "markdown",
   "id": "f387fb13",
   "metadata": {},
   "source": [
    "### <font color = \"#81263f\">11.1.3 Existing Conditions</font>"
   ]
  },
  {
   "cell_type": "code",
   "execution_count": null,
   "id": "cb28bb82",
   "metadata": {
    "scrolled": false
   },
   "outputs": [],
   "source": [
    "from ipycanvas import Canvas\n",
    "canvas = Canvas(width=650, height=350)\n",
    "verts = [[50,40], [150,45], [200,90], [250,290], [50,290], [50,40]]\n",
    "\n",
    "draw_polyline(canvas, verts)\n",
    "canvas"
   ]
  },
  {
   "cell_type": "markdown",
   "id": "1b2cb616",
   "metadata": {},
   "source": [
    "### <font color = \"#81263f\">11.1.4 ChatGPT</font>"
   ]
  },
  {
   "cell_type": "markdown",
   "id": "3e969e34",
   "metadata": {},
   "source": [
    "### <font color = \"#81263f\">11.1.5 Point on Polyline</font>"
   ]
  },
  {
   "cell_type": "code",
   "execution_count": null,
   "id": "939cb2fb",
   "metadata": {},
   "outputs": [],
   "source": [
    "def compute_distance(p1, p2):\n",
    "    return ((p2[0] - p1[0])**2 + (p2[1] - p1[1])**2)**0.5\n",
    "\n",
    "def point_on_polyline(vertices, t):\n",
    "    total_length = sum(compute_distance(vertices[i], vertices[i+1]) for i in range(len(vertices)-1))\n",
    "    target_distance = t * total_length\n",
    "\n",
    "    accumulated_length = 0.0\n",
    "\n",
    "    for i in range(len(vertices)-1):\n",
    "        segment_length = compute_distance(vertices[i], vertices[i+1])\n",
    "        \n",
    "        if accumulated_length + segment_length >= target_distance:\n",
    "            fraction = (target_distance - accumulated_length) / segment_length\n",
    "            x = vertices[i][0] + fraction * (vertices[i+1][0] - vertices[i][0])\n",
    "            y = vertices[i][1] + fraction * (vertices[i+1][1] - vertices[i][1])\n",
    "            \n",
    "            return [x, y], i  # Return point and segment index\n",
    "        \n",
    "        accumulated_length += segment_length\n",
    "    return None, None\n",
    "\n",
    "# Test\n",
    "vertices = [[50,40], [150,45], [200,90], [250,290], [50,290], [50,40]]\n",
    "t = 0.35\n",
    "print(point_on_polyline(vertices, t))"
   ]
  },
  {
   "cell_type": "markdown",
   "id": "50165a8a",
   "metadata": {},
   "source": [
    "### <font color = \"#81263f\">11.1.6 Draw Point</font>"
   ]
  },
  {
   "cell_type": "code",
   "execution_count": null,
   "id": "810b76dd",
   "metadata": {},
   "outputs": [],
   "source": [
    "def draw_point(canvas, x, y, thickness=2, color='black'):\n",
    "    # Set the color for the point\n",
    "    canvas.fill_style = color\n",
    "    \n",
    "    # Draw the point\n",
    "    canvas.fill_arc(x, y, thickness / 2, 0, 2 * 3.141592653589793)  # The last two arguments define the start and end angles for a full circle"
   ]
  },
  {
   "cell_type": "code",
   "execution_count": null,
   "id": "654e85a5",
   "metadata": {
    "scrolled": true
   },
   "outputs": [],
   "source": [
    "pt, idx = point_on_polyline(vertices, t)\n",
    "draw_point(canvas, pt[0], pt[1], thickness=20, color='black')\n",
    "canvas"
   ]
  },
  {
   "cell_type": "markdown",
   "id": "0d8af44d",
   "metadata": {},
   "source": [
    "### <font color = \"#81263f\">11.1.7 Cut Polyline 1</font>"
   ]
  },
  {
   "cell_type": "code",
   "execution_count": null,
   "id": "6a05971b",
   "metadata": {},
   "outputs": [],
   "source": [
    "def cut_polyline(vertices, t1, t2):\n",
    "    if t1 > t2:\n",
    "        t1, t2 = t2, t1  # Swap if t1 is greater than t2\n",
    "\n",
    "    point1, index1 = point_on_polyline(vertices, t1)\n",
    "    point2, index2 = point_on_polyline(vertices, t2)\n",
    "    print(index1, index2)\n",
    "    # Construct the new polyline\n",
    "    new_polyline = []\n",
    "\n",
    "    # Add the starting segment\n",
    "    if index1 == index2:\n",
    "        new_polyline.extend([point1, point2])\n",
    "    else:\n",
    "        new_polyline.append(point1)\n",
    "        for i in range(index1 + 1, index2):\n",
    "            new_polyline.append(vertices[i])\n",
    "        new_polyline.append(point2)\n",
    "\n",
    "    return new_polyline\n",
    "\n",
    "canvas.clear()\n",
    "new_polyline = cut_polyline(vertices, 0.2, 0.4)\n",
    "draw_polyline(canvas, new_polyline)\n",
    "canvas"
   ]
  },
  {
   "cell_type": "markdown",
   "id": "0b527df7",
   "metadata": {},
   "source": [
    "### <font color = \"#81263f\">11.1.8 Cut Polyline 2</font>"
   ]
  },
  {
   "cell_type": "code",
   "execution_count": null,
   "id": "026b3a83",
   "metadata": {},
   "outputs": [],
   "source": [
    "def cut_polyline(vertices, t1, t2):\n",
    "    if t1 > t2:\n",
    "        t1, t2 = t2, t1  # Swap if t1 is greater than t2\n",
    "\n",
    "    point1, index1 = point_on_polyline(vertices, t1)\n",
    "    point2, index2 = point_on_polyline(vertices, t2)\n",
    "\n",
    "    # Construct the new polyline\n",
    "    new_polyline = []\n",
    "\n",
    "    # Add vertices up to t1\n",
    "    new_polyline.extend(vertices[:index1])\n",
    "    new_polyline.append(point1)\n",
    "    \n",
    "    # Add point from t2 and then remaining vertices\n",
    "    new_polyline.append(point2)\n",
    "    new_polyline.extend(vertices[index2+1:])\n",
    "\n",
    "    return new_polyline\n",
    "\n",
    "# Test\n",
    "canvas.clear()\n",
    "new_polyline = cut_polyline(vertices, 0.2, 0.4)\n",
    "draw_polyline(canvas, new_polyline)\n",
    "canvas"
   ]
  },
  {
   "cell_type": "markdown",
   "id": "50630a78",
   "metadata": {},
   "source": [
    "### <font color = \"#81263f\">11.1.9 Cut Polyline 3</font>"
   ]
  },
  {
   "cell_type": "code",
   "execution_count": null,
   "id": "11130a66",
   "metadata": {
    "scrolled": true
   },
   "outputs": [],
   "source": [
    "def cut_polyline(vertices, t1, t2):\n",
    "    if t1 > t2:\n",
    "        t1, t2 = t2, t1  # Swap if t1 is greater than t2\n",
    "\n",
    "    point1, index1 = point_on_polyline(vertices, t1)\n",
    "    point2, index2 = point_on_polyline(vertices, t2)\n",
    "\n",
    "    # Construct the new polyline\n",
    "    new_polyline = []\n",
    "\n",
    "    # If both points are on the same segment, just create a segment between them\n",
    "    if index1 == index2:\n",
    "        return [point1, point2]\n",
    "\n",
    "    # Add vertices from t2 to the end\n",
    "    new_polyline.append(point2)\n",
    "    new_polyline.extend(vertices[index2+1:])\n",
    "    \n",
    "    # Close loop to start and continue up to t1\n",
    "    new_polyline.extend(vertices[:index1])\n",
    "    new_polyline.append(point1)\n",
    "\n",
    "    return new_polyline\n",
    "\n",
    "canvas.clear()\n",
    "new_polyline = cut_polyline(vertices, 0.2, 0.4)\n",
    "draw_polyline(canvas, new_polyline)\n",
    "canvas"
   ]
  },
  {
   "cell_type": "markdown",
   "id": "53aaf3a6",
   "metadata": {},
   "source": [
    "### <font color = \"#81263f\">11.1.10 Cut Polyline 4</font>"
   ]
  },
  {
   "cell_type": "code",
   "execution_count": null,
   "id": "2f1ac331",
   "metadata": {
    "scrolled": true
   },
   "outputs": [],
   "source": [
    "from ipycanvas import Canvas\n",
    "canvas = Canvas(width=650, height=350)\n",
    "\n",
    "verts0 = [[600,10], [630,50], [610,250], [640,130], [620,5], [600,10]]\n",
    "verts1 = [[10,10], [100,120], [150,80], [210,30], [260,5], [10,10]]\n",
    "verts2 = [[10,310], [100,290], [150,320], [210,130], [260,315], [10,310]]\n",
    "verts3 = [[300,10], [370,50], [420,20], [480,30], [520,5], [300,10]]\n",
    "verts4 = [[300,310], [370,290], [420,320], [480,230], [520,315], [300,310]]\n",
    "polyline = [verts0, verts1, verts2, verts3, verts4]\n",
    "\n",
    "for poly in polyline:\n",
    "    draw_polyline(canvas, cut_polyline(poly, 0.4, 0.5), line_width=2)\n",
    "canvas"
   ]
  },
  {
   "cell_type": "markdown",
   "id": "aa114ba4",
   "metadata": {},
   "source": [
    "### <font color = \"#81263f\">11.1.11 Random Polyline Cutting in a Grid 1</font>"
   ]
  },
  {
   "cell_type": "code",
   "execution_count": null,
   "id": "ed955334",
   "metadata": {},
   "outputs": [],
   "source": [
    "import random\n",
    "from ipycanvas import Canvas\n",
    "\n",
    "def perturb_vertex(vertex, bounds, max_offset=10): # max_offset = 1/3 of 30\n",
    "    x, y = vertex\n",
    "    x_min, y_min, x_max, y_max = bounds\n",
    "\n",
    "    dx = random.uniform(-max_offset, max_offset)\n",
    "    dy = random.uniform(-max_offset, max_offset)\n",
    "\n",
    "    # Ensure the perturbed vertex does not move outside its cell\n",
    "    x = min(max(x + dx, x_min), x_max)\n",
    "    y = min(max(y + dy, y_min), y_max)\n",
    "\n",
    "    return [x, y]\n",
    "\n",
    "def generate_grid(rows=10, cols=15, cell_size=30):\n",
    "    grid = []\n",
    "    for i in range(rows):\n",
    "        row = []\n",
    "        for j in range(cols):\n",
    "            top_left_x = j * cell_size\n",
    "            top_left_y = i * cell_size\n",
    "            \n",
    "            top_left = [top_left_x, top_left_y]\n",
    "            top_right = [top_left_x + cell_size, top_left_y]\n",
    "            bottom_left = [top_left_x, top_left_y + cell_size]\n",
    "            bottom_right = [top_left_x + cell_size, top_left_y + cell_size]\n",
    "            \n",
    "            bounds = (top_left_x, top_left_y, top_right[0], bottom_left[1])\n",
    "\n",
    "            cell = [\n",
    "                perturb_vertex(top_left, bounds),\n",
    "                perturb_vertex(top_right, bounds),\n",
    "                perturb_vertex(bottom_right, bounds),\n",
    "                perturb_vertex(bottom_left, bounds),\n",
    "                perturb_vertex(top_left, bounds)  # Close the loop\n",
    "            ]\n",
    "            row.append(cell)\n",
    "        grid.append(row)\n",
    "    return grid\n",
    "\n",
    "def draw_grid(grid, canvas, color='black'):\n",
    "    for row in grid:\n",
    "        for quad in row:\n",
    "            draw_polyline(canvas, quad, 2)\n"
   ]
  },
  {
   "cell_type": "code",
   "execution_count": null,
   "id": "24ee0e49",
   "metadata": {
    "scrolled": false
   },
   "outputs": [],
   "source": [
    "# Test\n",
    "canvas = Canvas(width=650, height=350)  # Based on 20x15 grid with cell_size=30\n",
    "grid = generate_grid()\n",
    "draw_grid(grid, canvas)\n",
    "canvas"
   ]
  },
  {
   "cell_type": "markdown",
   "id": "73ca5fae",
   "metadata": {},
   "source": [
    "### <font color = \"#81263f\">11.1.12 Random Polyline Cutting in a Grid 2</font>"
   ]
  },
  {
   "cell_type": "code",
   "execution_count": null,
   "id": "94095e19",
   "metadata": {},
   "outputs": [],
   "source": [
    "import random\n",
    "from ipycanvas import Canvas\n",
    "\n",
    "def perturb_vertex(vertex, bounds, max_offset=10): # max_offset = 1/3 of 30\n",
    "    x, y = vertex\n",
    "    x_min, y_min, x_max, y_max = bounds\n",
    "\n",
    "    dx = random.uniform(-max_offset, max_offset)\n",
    "    dy = random.uniform(-max_offset, max_offset)\n",
    "\n",
    "    # Ensure the perturbed vertex does not move outside its cell\n",
    "    x = min(max(x + dx, x_min), x_max)\n",
    "    y = min(max(y + dy, y_min), y_max)\n",
    "\n",
    "    return [x, y]\n",
    "\n",
    "def generate_grid(rows=10, cols=20, cell_size=30):\n",
    "    grid = []\n",
    "    for i in range(rows):\n",
    "        row = []\n",
    "        for j in range(cols):\n",
    "            top_left_x = j * cell_size\n",
    "            top_left_y = i * cell_size\n",
    "            \n",
    "            top_left = [top_left_x, top_left_y]\n",
    "            top_right = [top_left_x + cell_size, top_left_y]\n",
    "            bottom_left = [top_left_x, top_left_y + cell_size]\n",
    "            bottom_right = [top_left_x + cell_size, top_left_y + cell_size]\n",
    "            \n",
    "            bounds = (top_left_x, top_left_y, top_right[0], bottom_left[1])\n",
    "\n",
    "            # Perturb each vertex\n",
    "            perturbed_top_left = perturb_vertex(top_left, bounds)\n",
    "            perturbed_top_right = perturb_vertex(top_right, bounds)\n",
    "            perturbed_bottom_right = perturb_vertex(bottom_right, bounds)\n",
    "            perturbed_bottom_left = perturb_vertex(bottom_left, bounds)\n",
    "\n",
    "            # Construct the closed quad\n",
    "            quad = [perturbed_top_left, perturbed_top_right, perturbed_bottom_right, perturbed_bottom_left, perturbed_top_left]\n",
    "            row.append(quad)\n",
    "        grid.append(row)\n",
    "    return grid\n",
    "\n",
    "# ... [Drawing functions remain unchanged]\n",
    "\n",
    "def draw_grid(grid, canvas, color='black'):\n",
    "    for row in grid:\n",
    "        for quad in row:\n",
    "            draw_polyline(canvas, quad, 2)\n"
   ]
  },
  {
   "cell_type": "code",
   "execution_count": null,
   "id": "56e2b516",
   "metadata": {
    "scrolled": false
   },
   "outputs": [],
   "source": [
    "# Test\n",
    "canvas = Canvas(width=650, height=350)  # Based on 20x15 grid with cell_size=30\n",
    "grid = generate_grid()\n",
    "draw_grid(grid, canvas)\n",
    "canvas"
   ]
  },
  {
   "cell_type": "markdown",
   "id": "d355d60e",
   "metadata": {},
   "source": [
    "### <font color = \"#81263f\">11.1.13 Random Polyline Cutting in a Grid 3</font>"
   ]
  },
  {
   "cell_type": "code",
   "execution_count": null,
   "id": "50d65985",
   "metadata": {},
   "outputs": [],
   "source": [
    "# ... [Other functions and definitions remain unchanged from previous examples]\n",
    "\n",
    "def generate_and_cut_grid(rows=10, cols=20, cell_size=30):\n",
    "    grid = generate_grid(rows, cols, cell_size)\n",
    "    \n",
    "    for i in range(rows):\n",
    "        for j in range(cols):\n",
    "            t1 = random.uniform(0.1, 0.5)  # We ensure t2 > t1 by limiting t1's upper bound\n",
    "            t2 = random.uniform(0.55, 0.9)\n",
    "            grid[i][j] = cut_polyline(grid[i][j], t1, t2)\n",
    "    \n",
    "    return grid\n",
    "\n"
   ]
  },
  {
   "cell_type": "code",
   "execution_count": null,
   "id": "27fba88f",
   "metadata": {
    "scrolled": false
   },
   "outputs": [],
   "source": [
    "# Test\n",
    "canvas = Canvas(width=650, height=350)  # Based on 20x15 grid with cell_size=30\n",
    "grid = generate_and_cut_grid()\n",
    "draw_grid(grid, canvas)\n",
    "canvas"
   ]
  },
  {
   "cell_type": "markdown",
   "id": "b43862b1",
   "metadata": {},
   "source": [
    "## <font style=\"background:#81263f;color:white\">11.2 Exercise: Simple Cell Growth</font>"
   ]
  },
  {
   "cell_type": "markdown",
   "id": "cbbcda8a",
   "metadata": {},
   "source": [
    "### <font color = \"#81263f\">11.2.1 Concepts</font>"
   ]
  },
  {
   "cell_type": "markdown",
   "id": "88140d66",
   "metadata": {},
   "source": [
    "### <font color = \"#81263f\">11.2.2 Simple Cell Growth 1</font>"
   ]
  },
  {
   "cell_type": "code",
   "execution_count": null,
   "id": "e21d6416",
   "metadata": {},
   "outputs": [],
   "source": [
    "import random\n",
    "from ipycanvas import Canvas, hold_canvas\n",
    "from ipywidgets import AppLayout, Button#, display\n",
    "\n",
    "# Constants\n",
    "GRID_ROWS = 5\n",
    "GRID_COLS = 10\n",
    "CELL_SIZE = 50\n",
    "WIDTH = GRID_COLS * CELL_SIZE\n",
    "HEIGHT = GRID_ROWS * CELL_SIZE\n",
    "CELL_COLORS = {0: 'white', 1: '#81263f', 2: '#344f4f', 3: '#263266'}\n",
    "\n",
    "# Initialize grid with zeros\n",
    "grid = [[0 for _ in range(GRID_COLS)] for _ in range(GRID_ROWS)]\n",
    "\n",
    "# Randomly initialize three cells\n",
    "initial_cells = random.sample([(x, y) for x in range(GRID_ROWS) for y in range(GRID_COLS)], 3)\n",
    "for i, (x, y) in enumerate(initial_cells, 1):\n",
    "    grid[x][y] = i\n",
    "\n",
    "# Canvas setup\n",
    "canvas = Canvas(width=WIDTH, height=HEIGHT)\n",
    "\n",
    "# Drawing function\n",
    "def draw_grid():\n",
    "    with hold_canvas(canvas):\n",
    "        canvas.clear()\n",
    "        for row in range(GRID_ROWS):\n",
    "            for col in range(GRID_COLS):\n",
    "                cell_value = grid[row][col]\n",
    "                canvas.fill_style = CELL_COLORS[cell_value]\n",
    "                canvas.fill_rect(col * CELL_SIZE, row * CELL_SIZE, CELL_SIZE, CELL_SIZE)\n",
    "                canvas.stroke_style = 'black'\n",
    "                canvas.stroke_rect(col * CELL_SIZE, row * CELL_SIZE, CELL_SIZE, CELL_SIZE)\n",
    "\n",
    "# Cell growth function\n",
    "def grow_cells():\n",
    "    new_grid = [row.copy() for row in grid]\n",
    "    directions = [(0, 1), (1, 0), (0, -1), (-1, 0)]\n",
    "    \n",
    "    for x in range(GRID_ROWS):\n",
    "        for y in range(GRID_COLS):\n",
    "            if grid[x][y] != 0:\n",
    "                possible_cells = []\n",
    "                for dx, dy in directions:\n",
    "                    nx, ny = x + dx, y + dy\n",
    "                    if 0 <= nx < GRID_ROWS and 0 <= ny < GRID_COLS and grid[nx][ny] == 0 and new_grid[nx][ny] == 0:\n",
    "                        possible_cells.append((nx, ny))\n",
    "                if possible_cells:\n",
    "                    nx, ny = random.choice(possible_cells)\n",
    "                    new_grid[nx][ny] = grid[x][y]\n",
    "                    \n",
    "    return new_grid\n",
    "\n",
    "# Event function\n",
    "def on_run_clicked(_):\n",
    "    while any(0 in row for row in grid):  # while there are empty cells\n",
    "        new_grid = grow_cells()\n",
    "        if new_grid == grid:  # If no growth is possible\n",
    "            break\n",
    "        grid[:] = new_grid\n",
    "        draw_grid()\n",
    "\n",
    "# UI setup\n",
    "run_button = Button(description=\"Run\")\n",
    "run_button.on_click(on_run_clicked)\n",
    "\n",
    "app_layout = AppLayout(center=canvas,\n",
    "                       footer=run_button,\n",
    "                       pane_heights=[0, HEIGHT, '60px'])\n",
    "\n",
    "draw_grid()\n",
    "display(app_layout)\n"
   ]
  },
  {
   "cell_type": "markdown",
   "id": "b133647e",
   "metadata": {},
   "source": [
    "### <font color = \"#81263f\">11.2.3 Simple Cell Growth 2</font>"
   ]
  },
  {
   "cell_type": "code",
   "execution_count": null,
   "id": "b2c667b0",
   "metadata": {},
   "outputs": [],
   "source": [
    "import random\n",
    "import time\n",
    "from IPython.display import clear_output\n",
    "from ipycanvas import Canvas, hold_canvas\n",
    "from ipywidgets import AppLayout, Button, HBox#, display\n",
    "\n",
    "# Constants\n",
    "GRID_ROWS = 5\n",
    "GRID_COLS = 10\n",
    "CELL_SIZE = 50\n",
    "WIDTH = GRID_COLS * CELL_SIZE\n",
    "HEIGHT = GRID_ROWS * CELL_SIZE\n",
    "CELL_COLORS = {0: 'white', 1: '#81263f', 2: '#344f4f', 3: '#263266'} # custom colors are applied\n",
    "\n",
    "# Initialize grid\n",
    "grid = [[0 for _ in range(GRID_COLS)] for _ in range(GRID_ROWS)]\n",
    "\n",
    "def initialize_cells():\n",
    "    global grid\n",
    "    grid = [[0 for _ in range(GRID_COLS)] for _ in range(GRID_ROWS)]\n",
    "    initial_cells = random.sample([(x, y) for x in range(GRID_ROWS) for y in range(GRID_COLS)], 3)\n",
    "    for i, (x, y) in enumerate(initial_cells, 1):\n",
    "        grid[x][y] = i\n",
    "\n",
    "initialize_cells()\n",
    "\n",
    "# Canvas setup\n",
    "canvas = Canvas(width=WIDTH, height=HEIGHT)\n",
    "\n",
    "# Drawing function\n",
    "def draw_grid():\n",
    "    with hold_canvas(canvas):\n",
    "        canvas.clear()\n",
    "        for row in range(GRID_ROWS):\n",
    "            for col in range(GRID_COLS):\n",
    "                cell_value = grid[row][col]\n",
    "                canvas.fill_style = CELL_COLORS[cell_value]\n",
    "                canvas.fill_rect(col * CELL_SIZE, row * CELL_SIZE, CELL_SIZE, CELL_SIZE)\n",
    "                canvas.stroke_style = 'black'\n",
    "                canvas.stroke_rect(col * CELL_SIZE, row * CELL_SIZE, CELL_SIZE, CELL_SIZE)\n",
    "\n",
    "# Cell growth function\n",
    "def grow_cells():\n",
    "    new_grid = [row.copy() for row in grid]\n",
    "    directions = [(0, 1), (1, 0), (0, -1), (-1, 0)]\n",
    "    \n",
    "    for x in range(GRID_ROWS):\n",
    "        for y in range(GRID_COLS):\n",
    "            if grid[x][y] != 0:\n",
    "                possible_cells = []\n",
    "                for dx, dy in directions:\n",
    "                    nx, ny = x + dx, y + dy\n",
    "                    if 0 <= nx < GRID_ROWS and 0 <= ny < GRID_COLS and grid[nx][ny] == 0 and new_grid[nx][ny] == 0:\n",
    "                        possible_cells.append((nx, ny))\n",
    "                if possible_cells:\n",
    "                    nx, ny = random.choice(possible_cells)\n",
    "                    new_grid[nx][ny] = grid[x][y]\n",
    "                    \n",
    "    return new_grid\n",
    "\n",
    "# Event functions\n",
    "def on_run_clicked(_):\n",
    "    while any(0 in row for row in grid):  # while there are empty cells\n",
    "        new_grid = grow_cells()\n",
    "        if new_grid == grid:  # If no growth is possible\n",
    "            break\n",
    "        grid[:] = new_grid\n",
    "        draw_grid()\n",
    "        time.sleep(0.1)\n",
    "        clear_output(wait=True)\n",
    "        display(app_layout)\n",
    "\n",
    "def on_reset_clicked(_):\n",
    "    initialize_cells()\n",
    "    draw_grid()\n",
    "\n",
    "# UI setup\n",
    "run_button = Button(description=\"Run\")\n",
    "run_button.on_click(on_run_clicked)\n",
    "\n",
    "reset_button = Button(description=\"Reset\")\n",
    "reset_button.on_click(on_reset_clicked)\n",
    "\n",
    "controls = HBox([run_button, reset_button])\n",
    "\n",
    "app_layout = AppLayout(center=canvas,\n",
    "                       footer=controls,\n",
    "                       pane_heights=[0, HEIGHT, '60px'])\n",
    "\n",
    "draw_grid()\n",
    "display(app_layout)\n"
   ]
  },
  {
   "cell_type": "markdown",
   "id": "1941edcb",
   "metadata": {},
   "source": [
    "## <font style=\"background:#81263f;color:white\">11.3 Exercise: Gradient Descent / Ascent</font>"
   ]
  },
  {
   "cell_type": "markdown",
   "id": "87d64b21",
   "metadata": {},
   "source": [
    "### <font color = \"#81263f\">11.3.1 Concepts</font>"
   ]
  },
  {
   "cell_type": "markdown",
   "id": "7e834bf4",
   "metadata": {},
   "source": [
    "### <font color = \"#81263f\">11.3.2 Gradient Descent</font>"
   ]
  },
  {
   "cell_type": "code",
   "execution_count": null,
   "id": "a03f9149",
   "metadata": {},
   "outputs": [],
   "source": [
    "from ipywidgets import Button, AppLayout\n",
    "from ipycanvas import MultiCanvas\n",
    "import numpy as np\n",
    "import random\n",
    "\n",
    "canvas = MultiCanvas(2, width=650, height=400)\n",
    "background_layer = canvas[0]\n",
    "interaction_layer = canvas[1]\n"
   ]
  },
  {
   "cell_type": "code",
   "execution_count": null,
   "id": "88622259",
   "metadata": {},
   "outputs": [],
   "source": [
    "WIDTH = 650\n",
    "HEIGHT = 400\n",
    "X_RANGE = [-2, 4]\n",
    "Y_RANGE = [-10, 10]\n",
    "LR = 0.01\n",
    "EPSILON = 0.01\n",
    "\n",
    "def f(x):\n",
    "    return x**5 - 6*x**4 + 5*x**3 + 10*x**2 - 6*x + 2\n",
    "\n",
    "def to_canvas_coordinates(x, y):\n",
    "    canvas_x = (x - X_RANGE[0]) / (X_RANGE[1] - X_RANGE[0]) * WIDTH\n",
    "    canvas_y = HEIGHT - (y - Y_RANGE[0]) / (Y_RANGE[1] - Y_RANGE[0]) * HEIGHT\n",
    "    return canvas_x, canvas_y\n",
    "\n",
    "def draw_curve():\n",
    "    x_vals = np.linspace(X_RANGE[0], X_RANGE[1], 400)\n",
    "    y_vals = f(x_vals)\n",
    "    coords = [to_canvas_coordinates(x, y) for x, y in zip(x_vals, y_vals)]\n",
    "    \n",
    "    background_layer.stroke_style = \"black\"\n",
    "    background_layer.begin_path()\n",
    "    background_layer.move_to(*coords[0])\n",
    "    for x, y in coords:\n",
    "        background_layer.line_to(x, y)\n",
    "    background_layer.stroke()\n",
    "\n",
    "draw_curve()\n"
   ]
  },
  {
   "cell_type": "code",
   "execution_count": null,
   "id": "0f775d8f",
   "metadata": {},
   "outputs": [],
   "source": [
    "x_point = random.uniform(X_RANGE[0], X_RANGE[1])\n",
    "\n",
    "def gradient_descent():\n",
    "    global x_point\n",
    "    prev_x = float('inf')\n",
    "    \n",
    "    while abs(x_point - prev_x) > EPSILON:\n",
    "        prev_x = x_point\n",
    "        \n",
    "        right_gradient = (f(x_point + EPSILON) - f(x_point)) / EPSILON\n",
    "        left_gradient = (f(x_point) - f(x_point - EPSILON)) / EPSILON\n",
    "        \n",
    "        # Draw the current position in black\n",
    "        x_canvas, y_canvas = to_canvas_coordinates(x_point, f(x_point))\n",
    "        interaction_layer.fill_style = '#344f4f'\n",
    "        interaction_layer.fill_arc(x_canvas, y_canvas, 5, 0, 2 * np.pi)\n",
    "        \n",
    "        if abs(left_gradient) < abs(right_gradient):\n",
    "            x_point -= LR * abs(left_gradient)\n",
    "        else:\n",
    "            x_point += LR * abs(right_gradient)\n",
    "    \n",
    "    # Draw the final position in red\n",
    "    x_canvas, y_canvas = to_canvas_coordinates(x_point, f(x_point))\n",
    "    interaction_layer.fill_style = 'red'\n",
    "    interaction_layer.fill_arc(x_canvas, y_canvas, 5, 0, 2 * np.pi)"
   ]
  },
  {
   "cell_type": "code",
   "execution_count": null,
   "id": "4784baef",
   "metadata": {},
   "outputs": [],
   "source": [
    "def on_run_click(b):\n",
    "    gradient_descent()\n",
    "\n",
    "def on_reset_click(b):\n",
    "    global x_point\n",
    "    x_point = random.uniform(X_RANGE[0]+.5, X_RANGE[1]-1.5)   # changed the range for convenience\n",
    "    interaction_layer.clear()\n",
    "    x_canvas, y_canvas = to_canvas_coordinates(x_point, f(x_point))\n",
    "    interaction_layer.fill_style = 'red'\n",
    "    interaction_layer.fill_arc(x_canvas, y_canvas, 5, 0, 2 * np.pi)\n",
    "\n",
    "run_button = Button(description=\"Run\", layout={'width': '100px'})\n",
    "reset_button = Button(description=\"Reset\", layout={'width': '100px'})\n",
    "\n",
    "run_button.on_click(on_run_click)\n",
    "reset_button.on_click(on_reset_click)\n"
   ]
  },
  {
   "cell_type": "code",
   "execution_count": null,
   "id": "fd566fb3",
   "metadata": {},
   "outputs": [],
   "source": [
    "AppLayout(center=canvas, footer=run_button, header=reset_button)"
   ]
  }
 ],
 "metadata": {
  "kernelspec": {
   "display_name": "Python 3 (ipykernel)",
   "language": "python",
   "name": "python3"
  },
  "language_info": {
   "codemirror_mode": {
    "name": "ipython",
    "version": 3
   },
   "file_extension": ".py",
   "mimetype": "text/x-python",
   "name": "python",
   "nbconvert_exporter": "python",
   "pygments_lexer": "ipython3",
   "version": "3.9.12"
  }
 },
 "nbformat": 4,
 "nbformat_minor": 5
}

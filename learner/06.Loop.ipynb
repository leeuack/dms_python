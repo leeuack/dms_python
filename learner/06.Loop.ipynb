{
 "cells": [
  {
   "cell_type": "markdown",
   "metadata": {},
   "source": [
    "# <font color = \"#81263f\" size = \"60\">6. Loop</font>"
   ]
  },
  {
   "cell_type": "markdown",
   "metadata": {},
   "source": [
    "## <font style=\"background:#81263f;color:white\">6.1 For  </font>"
   ]
  },
  {
   "cell_type": "markdown",
   "metadata": {},
   "source": [
    "### <font color = \"#81263f\">6.1.1 Concept of Loop</font>"
   ]
  },
  {
   "cell_type": "markdown",
   "metadata": {},
   "source": [
    "### <font color = \"#81263f\">6.1.2 Structure</font>"
   ]
  },
  {
   "cell_type": "markdown",
   "metadata": {},
   "source": [
    "### <font color = \"#81263f\">6.1.3 Number Range</font>"
   ]
  },
  {
   "cell_type": "code",
   "execution_count": null,
   "metadata": {},
   "outputs": [],
   "source": [
    "# range() function\n",
    "print(list(range(5)))\n",
    "print(list(range(3, 9)))\n",
    "print(list(range(1, 10, 2)))"
   ]
  },
  {
   "cell_type": "markdown",
   "metadata": {},
   "source": [
    "### <font color = \"#81263f\">6.1.4 Looping Number Range</font>"
   ]
  },
  {
   "cell_type": "code",
   "execution_count": null,
   "metadata": {
    "scrolled": true
   },
   "outputs": [],
   "source": [
    "for i in range(3):\n",
    "    print(i)"
   ]
  },
  {
   "cell_type": "code",
   "execution_count": null,
   "metadata": {},
   "outputs": [],
   "source": [
    "for i in range(1, 10, 3):\n",
    "    print(i)"
   ]
  },
  {
   "cell_type": "markdown",
   "metadata": {},
   "source": [
    "### <font color = \"#81263f\">6.1.5 Looping List 1</font>"
   ]
  },
  {
   "cell_type": "code",
   "execution_count": null,
   "metadata": {
    "scrolled": true
   },
   "outputs": [],
   "source": [
    "architects = [\"Rossi\", \"Kahn\", \"Ingels\", \"Siza\", \"Chipperfield\"]\n",
    "for i in range(len(architects)):\n",
    "    print(i, architects[i])"
   ]
  },
  {
   "cell_type": "markdown",
   "metadata": {},
   "source": [
    "### <font color = \"#81263f\">6.1.6 Looping List 2</font>"
   ]
  },
  {
   "cell_type": "code",
   "execution_count": null,
   "metadata": {
    "scrolled": true
   },
   "outputs": [],
   "source": [
    "for architect in architects:\n",
    "    print(architect)"
   ]
  },
  {
   "cell_type": "markdown",
   "metadata": {},
   "source": [
    "### <font color = \"#81263f\">6.1.7 Looping String 1</font>"
   ]
  },
  {
   "cell_type": "code",
   "execution_count": null,
   "metadata": {
    "scrolled": false
   },
   "outputs": [],
   "source": [
    "architects = \"Siza\"\n",
    "\n",
    "for i in range(len(architects)):\n",
    "    print(architects[i])"
   ]
  },
  {
   "cell_type": "markdown",
   "metadata": {},
   "source": [
    "### <font color = \"#81263f\">6.1.8 Looping String 2</font>"
   ]
  },
  {
   "cell_type": "code",
   "execution_count": null,
   "metadata": {
    "scrolled": true
   },
   "outputs": [],
   "source": [
    "for c in architects:\n",
    "    print(c)"
   ]
  },
  {
   "cell_type": "markdown",
   "metadata": {},
   "source": [
    "### <font color = \"#81263f\">6.1.9 Looping Enumerate</font>"
   ]
  },
  {
   "cell_type": "code",
   "execution_count": null,
   "metadata": {
    "scrolled": false
   },
   "outputs": [],
   "source": [
    "architects = [\"Rossi\", \"Kahn\", \"Ingels\", \"Siza\", \"Chipperfield\"]\n",
    "print(list(enumerate(architects)))\n",
    "print(next(enumerate(architects)), \"\\n\")\n",
    "\n",
    "for i,e in enumerate(architects):\n",
    "    print(i,e)"
   ]
  },
  {
   "cell_type": "code",
   "execution_count": null,
   "metadata": {
    "scrolled": true
   },
   "outputs": [],
   "source": [
    "for i,e in enumerate(\"Chipperfield\"):\n",
    "    print(i,e)"
   ]
  },
  {
   "cell_type": "markdown",
   "metadata": {},
   "source": [
    "### <font color = \"#81263f\">6.1.10 Creating Lists through Loop</font>"
   ]
  },
  {
   "cell_type": "code",
   "execution_count": null,
   "metadata": {
    "scrolled": true
   },
   "outputs": [],
   "source": [
    "scores = [94, 72, 66, 44, 58]\n",
    "mean = sum(scores) / len(scores)\n",
    "deviation = []\n",
    "\n",
    "for score in scores:\n",
    "    diff = (score-mean)**2\n",
    "    deviation.append(diff)\n",
    "    \n",
    "print(deviation)\n",
    "\n",
    "variance = sum(deviation) / len(deviation)\n",
    "print(variance)"
   ]
  },
  {
   "cell_type": "code",
   "execution_count": null,
   "metadata": {},
   "outputs": [],
   "source": [
    "deviation_comprehenssion = [(score-mean)**2 for score in scores]\n",
    "print(deviation_comprehenssion)\n",
    "variance = sum(deviation) / len(deviation)\n",
    "print(variance)"
   ]
  },
  {
   "cell_type": "markdown",
   "metadata": {},
   "source": [
    "### <font color = \"#81263f\">6.1.11 Updating List Value through Loop</font>"
   ]
  },
  {
   "cell_type": "code",
   "execution_count": null,
   "metadata": {
    "scrolled": false
   },
   "outputs": [],
   "source": [
    "scores = [94, 72, 66, 44, 58]\n",
    "print(scores)\n",
    "\n",
    "for i in range(len(scores)):\n",
    "    scores[i] = 4.3*scores[i]/100\n",
    "print(scores)"
   ]
  },
  {
   "cell_type": "markdown",
   "metadata": {},
   "source": [
    "### <font color = \"#81263f\">6.1.12 Nested Looping</font>"
   ]
  },
  {
   "cell_type": "code",
   "execution_count": null,
   "metadata": {
    "scrolled": false
   },
   "outputs": [],
   "source": [
    "n_row, n_col = 2,3\n",
    "\n",
    "for row in range(n_row):\n",
    "    for col in range(n_col):\n",
    "        print(\"row: \",row, \"  col: \", col)"
   ]
  },
  {
   "cell_type": "markdown",
   "metadata": {},
   "source": [
    "## <font style=\"background:#81263f;color:white\">6.2 While  </font>"
   ]
  },
  {
   "cell_type": "markdown",
   "metadata": {},
   "source": [
    "### <font color = \"#81263f\">6.2.1 Concept of While</font>"
   ]
  },
  {
   "cell_type": "code",
   "execution_count": null,
   "metadata": {
    "scrolled": true
   },
   "outputs": [],
   "source": [
    "t = 5\n",
    "\n",
    "while t < 10:\n",
    "    print(t, t < 10)\n",
    "    t += 1"
   ]
  },
  {
   "cell_type": "markdown",
   "metadata": {},
   "source": [
    "### <font color = \"#81263f\">6.2.2 Structure</font>"
   ]
  },
  {
   "cell_type": "markdown",
   "metadata": {},
   "source": [
    "### <font color = \"#81263f\">6.2.3 Break</font>"
   ]
  },
  {
   "cell_type": "code",
   "execution_count": null,
   "metadata": {
    "scrolled": true
   },
   "outputs": [],
   "source": [
    "t = 5\n",
    "while t < 20:\n",
    "    print(t, t < 10)\n",
    "    t += 1\n",
    "    if t % 8 == 0:\n",
    "        break"
   ]
  },
  {
   "cell_type": "code",
   "execution_count": null,
   "metadata": {},
   "outputs": [],
   "source": [
    "for n in range(2, 6):\n",
    "    for x in range(2, n):\n",
    "        if n % x == 0:\n",
    "            print(n, 'equals', x, '*', n//x)\n",
    "            break\n",
    "    else:\n",
    "        print(n, 'is a prime number')"
   ]
  },
  {
   "cell_type": "markdown",
   "metadata": {},
   "source": [
    "### <font color = \"#81263f\">6.2.4 Continue</font>"
   ]
  },
  {
   "cell_type": "code",
   "execution_count": null,
   "metadata": {},
   "outputs": [],
   "source": [
    "t = 6\n",
    "while t > 0:\n",
    "    t -= 1\n",
    "    if t % 4 == 0:\n",
    "        continue\n",
    "    print(t)"
   ]
  },
  {
   "cell_type": "code",
   "execution_count": null,
   "metadata": {},
   "outputs": [],
   "source": [
    "for num in range(2, 6):\n",
    "    if num % 2 == 0:\n",
    "        print(\"Found an even number\", num)\n",
    "        continue     # the current iteration of the loop will stop, and move to the iteration \n",
    "    print(\"Found a number\", num)"
   ]
  },
  {
   "cell_type": "markdown",
   "metadata": {},
   "source": [
    "### <font color = \"#81263f\">6.2.5 Infinite Loop</font>"
   ]
  },
  {
   "cell_type": "code",
   "execution_count": null,
   "metadata": {
    "scrolled": true
   },
   "outputs": [],
   "source": [
    "# run this cell\n",
    "# this cell will run forever, to stop this, click the stop button (interrupt kernel button)\n",
    "t = 6\n",
    "while t > 0:\n",
    "    print(t)\n",
    "# and stop running"
   ]
  },
  {
   "cell_type": "code",
   "execution_count": null,
   "metadata": {
    "scrolled": true
   },
   "outputs": [],
   "source": [
    "i = 10\n",
    "while i > 0:   # always true\n",
    "    i += 1\n",
    "    print(\"current: \", i)\n",
    "    if i > 15:     # test conditionals\n",
    "        break      # preventing infinite loop"
   ]
  },
  {
   "cell_type": "markdown",
   "metadata": {},
   "source": [
    "## <font style=\"background:#81263f;color:white\">6.3 Exercise : Circle Repulsor  </font>"
   ]
  },
  {
   "cell_type": "code",
   "execution_count": null,
   "metadata": {},
   "outputs": [],
   "source": [
    "#run this cell, it will install ipytcanvas\n",
    "try:\n",
    "    import ipycanvas\n",
    "except ImportError as e:\n",
    "    ! pip install ipycanvas\n",
    "\n",
    "from math import pi\n",
    "from ipycanvas import MultiCanvas, hold_canvas"
   ]
  },
  {
   "cell_type": "markdown",
   "metadata": {},
   "source": [
    "### <font color = \"#81263f\">6.3.1 Strategy</font>"
   ]
  },
  {
   "cell_type": "markdown",
   "metadata": {},
   "source": [
    "### <font color = \"#81263f\">6.3.2 Create Canvas</font>"
   ]
  },
  {
   "cell_type": "code",
   "execution_count": null,
   "metadata": {},
   "outputs": [],
   "source": [
    "canvas = MultiCanvas(2,width=650, height=150)\n",
    "background_layer = canvas[0]\n",
    "interaction_layer = canvas[1]"
   ]
  },
  {
   "cell_type": "code",
   "execution_count": null,
   "metadata": {},
   "outputs": [],
   "source": [
    "# nubmer of cells in row and col = n_r, n_c\n",
    "# margins of width and height = m_w, m_h\n",
    "n_r, n_c = 4,20\n",
    "m_w, m_h = 25,25"
   ]
  },
  {
   "cell_type": "markdown",
   "metadata": {},
   "source": [
    "### <font color = \"#81263f\">6.3.3 Create Grid</font>"
   ]
  },
  {
   "cell_type": "code",
   "execution_count": null,
   "metadata": {},
   "outputs": [],
   "source": [
    "def drawGrid(canvas,n_r,n_c,m_w,m_h):\n",
    "    c_w, c_h  = (canvas.width-m_w*2)/n_c,(canvas.height-m_h*2)/n_r  # cell_size\n",
    "    for col in range(n_r):\n",
    "        for row in range(n_c):\n",
    "            canvas.stroke_rect(row*c_w+m_w,col*c_h+m_h,c_w,c_h)\n",
    "    return c_w, c_h"
   ]
  },
  {
   "cell_type": "code",
   "execution_count": null,
   "metadata": {
    "scrolled": false
   },
   "outputs": [],
   "source": [
    "c_w, c_h = drawGrid(background_layer,n_r,n_c,m_w,m_h)\n",
    "print(\"cell width: \",c_w,\"    cell height: \",c_h)\n",
    "background_layer"
   ]
  },
  {
   "cell_type": "markdown",
   "metadata": {},
   "source": [
    "### <font color = \"#81263f\">6.3.4 Generate Circles</font>"
   ]
  },
  {
   "cell_type": "code",
   "execution_count": null,
   "metadata": {},
   "outputs": [],
   "source": [
    "centers = []\n",
    "radii = []\n",
    "r = 10\n",
    "\n",
    "# complete the nested loop iteration using the code structure below.\n",
    "\n",
    "# Iterate over columns from 0 to n_r\n",
    "    # Initialize empty lists to store centers and radii for the current column\n",
    "\n",
    "    # Iterate over rows from 0 to n_c\n",
    "        # Append the center coordinate (raw, col) to center_by_raw\n",
    "        # # Append the radius r to radii_by_raw\n",
    "    # Append the list of centers for the current column to centers\n",
    "    # Append the list of radii for the current column to radii\n",
    "        \n",
    "print(centers[0])\n",
    "print(radii[0])"
   ]
  },
  {
   "cell_type": "markdown",
   "metadata": {},
   "source": [
    "### <font color = \"#81263f\">6.3.5 Draw Circle</font>"
   ]
  },
  {
   "cell_type": "code",
   "execution_count": null,
   "metadata": {},
   "outputs": [],
   "source": [
    "def gridToCoordi(canvas,grid,n_r,n_c,m_w,m_h):\n",
    "    c_w, c_h  = (canvas.width-m_w*2)/n_c,(canvas.height-m_h*2)/n_r  # cell_size\n",
    "    i,j = grid\n",
    "    x,y = i*c_w+m_w,j*c_h+m_h\n",
    "    return x,y"
   ]
  },
  {
   "cell_type": "code",
   "execution_count": null,
   "metadata": {},
   "outputs": [],
   "source": [
    "def drawCircle(canvas,center,r,n_r,n_c,m_w,m_h):\n",
    "    x,y= gridToCoordi(canvas,center,n_r,n_c,m_w,m_h)\n",
    "    canvas.fill_arc(x, y, r, 0, 2 * pi)"
   ]
  },
  {
   "cell_type": "markdown",
   "metadata": {},
   "source": [
    "### <font color = \"#81263f\">6.3.6 Static Circles</font>"
   ]
  },
  {
   "cell_type": "code",
   "execution_count": null,
   "metadata": {},
   "outputs": [],
   "source": [
    "for i in range(len(centers)):\n",
    "    for j in range(len(centers[i])):\n",
    "        drawCircle(background_layer, centers[i][j],radii[i][j],n_r,n_c,m_w,m_h)\n",
    "background_layer"
   ]
  },
  {
   "cell_type": "markdown",
   "metadata": {},
   "source": [
    "### <font color = \"#81263f\">6.3.7 Radius by Distance</font>"
   ]
  },
  {
   "cell_type": "code",
   "execution_count": null,
   "metadata": {},
   "outputs": [],
   "source": [
    "def distToRad(canvas,x,y,center,min_rad = 1, max_rad = 10):\n",
    "    cx,cy= gridToCoordi(canvas,center[0:2],n_r,n_c,m_w,m_h)\n",
    "    dist = ((x-cx)**2 + (y-cy)**2)**0.5\n",
    "    max_dist = (canvas.width**2+canvas.height**2)**0.5\n",
    "    r = (max_rad - min_rad) * (dist/max_dist) + min_rad\n",
    "    return r"
   ]
  },
  {
   "cell_type": "markdown",
   "metadata": {},
   "source": [
    "### <font color = \"#81263f\">6.3.8 Interactive Circles</font>"
   ]
  },
  {
   "cell_type": "code",
   "execution_count": null,
   "metadata": {},
   "outputs": [],
   "source": [
    "# complete the function to make the circle have dynamic radius according to a point (x,y)\n",
    "# using the code structure below.\n",
    "\n",
    "# def drawAnimatedCircles(x, y):\n",
    "    # Iterate over each row of centers\n",
    "        # Iterate over each column of centers in the current row\n",
    "            # Calculate the new radius based on the distance to the given point (x, y)           \n",
    "            # Draw the circle with the calculated radius on the interaction layer"
   ]
  },
  {
   "cell_type": "markdown",
   "metadata": {},
   "source": [
    "### <font color = \"#81263f\">6.3.9 Visualization</font>"
   ]
  },
  {
   "cell_type": "code",
   "execution_count": null,
   "metadata": {},
   "outputs": [],
   "source": [
    "def on_mouse_move(x, y):\n",
    "    with hold_canvas(canvas):\n",
    "        interaction_layer.clear()\n",
    "        drawAnimatedCircles(x,y)"
   ]
  },
  {
   "cell_type": "code",
   "execution_count": null,
   "metadata": {},
   "outputs": [],
   "source": [
    "interaction_layer.on_mouse_move(on_mouse_move)\n",
    "interaction_layer.fill_style = '#81263f'"
   ]
  },
  {
   "cell_type": "code",
   "execution_count": null,
   "metadata": {
    "scrolled": true
   },
   "outputs": [],
   "source": [
    "interaction_layer"
   ]
  }
 ],
 "metadata": {
  "kernelspec": {
   "display_name": "Python 3 (ipykernel)",
   "language": "python",
   "name": "python3"
  },
  "language_info": {
   "codemirror_mode": {
    "name": "ipython",
    "version": 3
   },
   "file_extension": ".py",
   "mimetype": "text/x-python",
   "name": "python",
   "nbconvert_exporter": "python",
   "pygments_lexer": "ipython3",
   "version": "3.9.12"
  },
  "widgets": {
   "application/vnd.jupyter.widget-state+json": {
    "state": {
     "06bbdcd8f2ca4188affc59c73b456434": {
      "model_module": "ipycanvas",
      "model_module_version": "^0.13",
      "model_name": "CanvasManagerModel",
      "state": {
       "_model_module_version": "^0.13",
       "_view_module": null,
       "_view_module_version": ""
      }
     },
     "0897778455074ae4a971a0e159a74761": {
      "model_module": "@jupyter-widgets/base",
      "model_module_version": "1.2.0",
      "model_name": "LayoutModel",
      "state": {}
     },
     "0dd8e40ea3ca48d2addb8363b15baa21": {
      "model_module": "@jupyter-widgets/base",
      "model_module_version": "1.2.0",
      "model_name": "LayoutModel",
      "state": {}
     },
     "0fc887c3674442daa153c53260eea217": {
      "model_module": "ipycanvas",
      "model_module_version": "^0.13",
      "model_name": "CanvasModel",
      "state": {
       "_canvas_manager": "IPY_MODEL_06bbdcd8f2ca4188affc59c73b456434",
       "_model_module_version": "^0.13",
       "_view_module_version": "^0.13",
       "height": 150,
       "layout": "IPY_MODEL_7a6cfd5747294d5aa3b50b1235c1995b",
       "width": 650
      }
     },
     "1f5d156004d5420e83780c5dc772849a": {
      "model_module": "ipycanvas",
      "model_module_version": "^0.13",
      "model_name": "CanvasModel",
      "state": {
       "_canvas_manager": "IPY_MODEL_2d63b5d162c34173b9063f10c8b076ae",
       "_model_module_version": "^0.13",
       "_view_module_version": "^0.13",
       "height": 150,
       "layout": "IPY_MODEL_0897778455074ae4a971a0e159a74761",
       "width": 650
      }
     },
     "1fde63d49b2a47eca8a1932d2174868d": {
      "model_module": "ipycanvas",
      "model_module_version": "^0.13",
      "model_name": "MultiCanvasModel",
      "state": {
       "_canvas_manager": "IPY_MODEL_7ec7acfb03c84af8b7affdda952a5d9c",
       "_canvases": [
        "IPY_MODEL_a71cbd3cad094acc8c4eae247f2ab3f1",
        "IPY_MODEL_bc48c12e4e5643f79011f07a26777c6f"
       ],
       "_model_module_version": "^0.13",
       "_view_module_version": "^0.13",
       "height": 150,
       "layout": "IPY_MODEL_9e0fe279d3aa472db1fb334756ddef6a",
       "width": 650
      }
     },
     "2d63b5d162c34173b9063f10c8b076ae": {
      "model_module": "ipycanvas",
      "model_module_version": "^0.13",
      "model_name": "CanvasManagerModel",
      "state": {
       "_model_module_version": "^0.13",
       "_view_module": null,
       "_view_module_version": ""
      }
     },
     "4217c1591c3544478f57f620bcc5def4": {
      "model_module": "@jupyter-widgets/base",
      "model_module_version": "1.2.0",
      "model_name": "LayoutModel",
      "state": {}
     },
     "455530cb85ca4cd2bd67dfd8aa378590": {
      "model_module": "@jupyter-widgets/base",
      "model_module_version": "1.2.0",
      "model_name": "LayoutModel",
      "state": {}
     },
     "7a6cfd5747294d5aa3b50b1235c1995b": {
      "model_module": "@jupyter-widgets/base",
      "model_module_version": "1.2.0",
      "model_name": "LayoutModel",
      "state": {}
     },
     "7c3a6188be8b448d89b98eaef6076a2b": {
      "model_module": "@jupyter-widgets/base",
      "model_module_version": "1.2.0",
      "model_name": "LayoutModel",
      "state": {}
     },
     "7ec7acfb03c84af8b7affdda952a5d9c": {
      "model_module": "ipycanvas",
      "model_module_version": "^0.13",
      "model_name": "CanvasManagerModel",
      "state": {
       "_model_module_version": "^0.13",
       "_view_module": null,
       "_view_module_version": ""
      }
     },
     "9274b7d0601245c79504ae8fce36d89d": {
      "model_module": "ipycanvas",
      "model_module_version": "^0.13",
      "model_name": "MultiCanvasModel",
      "state": {
       "_canvas_manager": "IPY_MODEL_2d63b5d162c34173b9063f10c8b076ae",
       "_canvases": [
        "IPY_MODEL_1f5d156004d5420e83780c5dc772849a",
        "IPY_MODEL_c54878cda6bb4fb19e5f2cb901e3c5ae"
       ],
       "_model_module_version": "^0.13",
       "_view_module_version": "^0.13",
       "height": 150,
       "layout": "IPY_MODEL_ca95eb895ee84024abcb532408c14e97",
       "width": 650
      }
     },
     "9e0fe279d3aa472db1fb334756ddef6a": {
      "model_module": "@jupyter-widgets/base",
      "model_module_version": "1.2.0",
      "model_name": "LayoutModel",
      "state": {}
     },
     "a71cbd3cad094acc8c4eae247f2ab3f1": {
      "model_module": "ipycanvas",
      "model_module_version": "^0.13",
      "model_name": "CanvasModel",
      "state": {
       "_canvas_manager": "IPY_MODEL_7ec7acfb03c84af8b7affdda952a5d9c",
       "_model_module_version": "^0.13",
       "_view_module_version": "^0.13",
       "height": 150,
       "layout": "IPY_MODEL_aeec2f75e8a64ce58c25c4c48baa40b2",
       "width": 650
      }
     },
     "aeec2f75e8a64ce58c25c4c48baa40b2": {
      "model_module": "@jupyter-widgets/base",
      "model_module_version": "1.2.0",
      "model_name": "LayoutModel",
      "state": {}
     },
     "bc48c12e4e5643f79011f07a26777c6f": {
      "model_module": "ipycanvas",
      "model_module_version": "^0.13",
      "model_name": "CanvasModel",
      "state": {
       "_canvas_manager": "IPY_MODEL_7ec7acfb03c84af8b7affdda952a5d9c",
       "_model_module_version": "^0.13",
       "_view_module_version": "^0.13",
       "height": 150,
       "layout": "IPY_MODEL_455530cb85ca4cd2bd67dfd8aa378590",
       "width": 650
      }
     },
     "c54878cda6bb4fb19e5f2cb901e3c5ae": {
      "model_module": "ipycanvas",
      "model_module_version": "^0.13",
      "model_name": "CanvasModel",
      "state": {
       "_canvas_manager": "IPY_MODEL_2d63b5d162c34173b9063f10c8b076ae",
       "_model_module_version": "^0.13",
       "_view_module_version": "^0.13",
       "height": 150,
       "layout": "IPY_MODEL_0dd8e40ea3ca48d2addb8363b15baa21",
       "width": 650
      }
     },
     "c72d1dee6b974ddd8508b12cbf74822c": {
      "model_module": "ipycanvas",
      "model_module_version": "^0.13",
      "model_name": "MultiCanvasModel",
      "state": {
       "_canvas_manager": "IPY_MODEL_06bbdcd8f2ca4188affc59c73b456434",
       "_canvases": [
        "IPY_MODEL_e84408509cbe4968a39ae27193dd5a12",
        "IPY_MODEL_0fc887c3674442daa153c53260eea217"
       ],
       "_model_module_version": "^0.13",
       "_view_module_version": "^0.13",
       "height": 150,
       "layout": "IPY_MODEL_7c3a6188be8b448d89b98eaef6076a2b",
       "width": 650
      }
     },
     "ca95eb895ee84024abcb532408c14e97": {
      "model_module": "@jupyter-widgets/base",
      "model_module_version": "1.2.0",
      "model_name": "LayoutModel",
      "state": {}
     },
     "e84408509cbe4968a39ae27193dd5a12": {
      "model_module": "ipycanvas",
      "model_module_version": "^0.13",
      "model_name": "CanvasModel",
      "state": {
       "_canvas_manager": "IPY_MODEL_06bbdcd8f2ca4188affc59c73b456434",
       "_model_module_version": "^0.13",
       "_view_module_version": "^0.13",
       "height": 150,
       "layout": "IPY_MODEL_4217c1591c3544478f57f620bcc5def4",
       "width": 650
      }
     }
    },
    "version_major": 2,
    "version_minor": 0
   }
  }
 },
 "nbformat": 4,
 "nbformat_minor": 2
}

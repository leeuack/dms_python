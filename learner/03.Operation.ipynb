{
 "cells": [
  {
   "cell_type": "markdown",
   "metadata": {},
   "source": [
    "# <font color = \"#81263f\" size = \"60\">3. Operation</font>"
   ]
  },
  {
   "cell_type": "markdown",
   "metadata": {},
   "source": [
    "## <font style=\"background:#81263f;color:white\">3.1 Numbers  </font>"
   ]
  },
  {
   "cell_type": "markdown",
   "metadata": {},
   "source": [
    "### <font color = \"#81263f\">3.1.1 Four Arithmetic Operation</font>"
   ]
  },
  {
   "cell_type": "code",
   "execution_count": null,
   "metadata": {
    "scrolled": true
   },
   "outputs": [],
   "source": [
    "n_hbeam, n_ibeam = 9,36           # number of H-beam and I-beam\n",
    "p_hbeam, p_ibeam = 45.00, 72.00   # price of H-beam and I-beam\n",
    "b_hbeam, b_ibeam = 300, 2500      # budget of H-beam and I-beam"
   ]
  },
  {
   "cell_type": "code",
   "execution_count": null,
   "metadata": {
    "scrolled": true
   },
   "outputs": [],
   "source": [
    "n_beams = n_hbeam + n_ibeam      # addition\n",
    "print(n_beams)\n",
    "d_price = p_ibeam - p_hbeam      # subtraction, price difference\n",
    "print(d_price)\n",
    "total_hbeam = n_hbeam * p_hbeam  # multiplication\n",
    "total_ibeam = n_ibeam * p_ibeam\n",
    "print(total_hbeam, total_ibeam)\n",
    "r_price = p_ibeam / p_hbeam      # division\n",
    "print(r_price)"
   ]
  },
  {
   "cell_type": "markdown",
   "metadata": {},
   "source": [
    "### <font color = \"#81263f\">3.1.2 Power</font>"
   ]
  },
  {
   "cell_type": "code",
   "execution_count": null,
   "metadata": {},
   "outputs": [],
   "source": [
    "l_hbeam, l_ibeam = 5, 6      # length of H-beam and I-beam\n",
    "\n",
    "area_hbeam = l_hbeam ** 2\n",
    "print(area_hbeam, l_hbeam * l_hbeam)\n",
    "\n",
    "volume_ibeam = l_ibeam ** 3\n",
    "print(volume_ibeam, l_ibeam * l_ibeam * l_ibeam)"
   ]
  },
  {
   "cell_type": "markdown",
   "metadata": {},
   "source": [
    "### <font color = \"#81263f\">3.1.3 Integer Division</font>"
   ]
  },
  {
   "cell_type": "code",
   "execution_count": null,
   "metadata": {},
   "outputs": [],
   "source": [
    "# ordinary division\n",
    "available_hbeam = b_hbeam / p_hbeam\n",
    "available_ibeam = b_ibeam / p_ibeam\n",
    "print(available_hbeam, available_ibeam)"
   ]
  },
  {
   "cell_type": "code",
   "execution_count": null,
   "metadata": {},
   "outputs": [],
   "source": [
    "# integer division\n",
    "available_hbeam = b_hbeam // p_hbeam\n",
    "available_ibeam = b_ibeam // p_ibeam\n",
    "print(available_hbeam, available_ibeam)"
   ]
  },
  {
   "cell_type": "code",
   "execution_count": null,
   "metadata": {
    "scrolled": true
   },
   "outputs": [],
   "source": [
    "r_budget = b_ibeam // b_hbeam    # budege ratio integer, it will return an integer\n",
    "print(r_budget)"
   ]
  },
  {
   "cell_type": "markdown",
   "metadata": {},
   "source": [
    "### <font color = \"#81263f\">3.1.4 Modulo</font>"
   ]
  },
  {
   "cell_type": "code",
   "execution_count": null,
   "metadata": {},
   "outputs": [],
   "source": [
    "remained_budget_hbeam = b_hbeam % p_hbeam\n",
    "remained_budget_ibeam = b_ibeam % p_ibeam\n",
    "print(remained_budget_hbeam, remained_budget_ibeam)"
   ]
  },
  {
   "cell_type": "code",
   "execution_count": null,
   "metadata": {
    "scrolled": true
   },
   "outputs": [],
   "source": [
    "r_remained_budget = b_ibeam % b_hbeam    # budege ratio remained, it will return an integer\n",
    "print(r_remained_budget)"
   ]
  },
  {
   "cell_type": "markdown",
   "metadata": {},
   "source": [
    "### <font color = \"#81263f\">3.1.5 Usage of Interger Division and Modulo</font>"
   ]
  },
  {
   "cell_type": "code",
   "execution_count": null,
   "metadata": {},
   "outputs": [],
   "source": [
    "window_n = 30\n",
    "floor = window_n // 12\n",
    "pos_floor = window_id % 12\n",
    "print(window_id, pos_floor, floor)"
   ]
  },
  {
   "cell_type": "markdown",
   "metadata": {},
   "source": [
    "### <font color = \"#81263f\">3.1.6 Equal</font>"
   ]
  },
  {
   "cell_type": "code",
   "execution_count": null,
   "metadata": {},
   "outputs": [],
   "source": [
    "n_hbeam, n_ibeam = 9,36\n",
    "\n",
    "print(n_hbeam == 9)\n",
    "print(n_hbeam == 20)\n",
    "print(n_hbeam == n_ibeam)"
   ]
  },
  {
   "cell_type": "code",
   "execution_count": null,
   "metadata": {},
   "outputs": [],
   "source": [
    "print(n_hbeam != 9)\n",
    "print(n_hbeam != 20)\n",
    "print(n_hbeam != n_ibeam)"
   ]
  },
  {
   "cell_type": "markdown",
   "metadata": {},
   "source": [
    "### <font color = \"#81263f\">3.1.7 Comparison</font>"
   ]
  },
  {
   "cell_type": "code",
   "execution_count": null,
   "metadata": {
    "scrolled": true
   },
   "outputs": [],
   "source": [
    "n_hbeam, n_ibeam = 9,36           # number of H-beam and I-beam\n",
    "p_hbeam, p_ibeam = 45.00, 72.00   # price of H-beam and I-beam\n",
    "b_hbeam, b_ibeam = 300, 2500      # budget of H-beam and I-beam\n",
    "\n",
    "print(n_hbeam < n_ibeam)          # H-beam is less than I-beam, True\n",
    "print(p_hbeam > p_ibeam)          # H-beam is more expensive than I-beam, False\n",
    "print(b_hbeam >= b_ibeam)         # H-beam budget is larger than or equal to I-beam one"
   ]
  },
  {
   "cell_type": "markdown",
   "metadata": {},
   "source": [
    "## <font style=\"background:#81263f;color:white\">3.2 Boolean  </font>"
   ]
  },
  {
   "cell_type": "markdown",
   "metadata": {},
   "source": [
    "### <font color = \"#81263f\">3.2.1 And</font>"
   ]
  },
  {
   "cell_type": "code",
   "execution_count": null,
   "metadata": {
    "scrolled": true
   },
   "outputs": [],
   "source": [
    "is_courtyard = True\n",
    "is_backdeck = True\n",
    "is_outside_space = is_courtyard and is_backdeck\n",
    "print(is_outside_space)"
   ]
  },
  {
   "cell_type": "markdown",
   "metadata": {},
   "source": [
    "### <font color = \"#81263f\">3.2.2 Or</font>"
   ]
  },
  {
   "cell_type": "code",
   "execution_count": null,
   "metadata": {
    "scrolled": true
   },
   "outputs": [],
   "source": [
    "is_courtyard = False\n",
    "is_backdeck = True\n",
    "is_outside_space = is_courtyard or is_backdeck\n",
    "print(is_outside_space)"
   ]
  },
  {
   "cell_type": "markdown",
   "metadata": {},
   "source": [
    "### <font color = \"#81263f\">3.2.3 Not</font>"
   ]
  },
  {
   "cell_type": "code",
   "execution_count": null,
   "metadata": {
    "scrolled": true
   },
   "outputs": [],
   "source": [
    "is_backdeck = False\n",
    "print(not is_backdeck)"
   ]
  },
  {
   "cell_type": "markdown",
   "metadata": {},
   "source": [
    "### <font color = \"#81263f\">3.2.4 Nor</font>"
   ]
  },
  {
   "cell_type": "code",
   "execution_count": null,
   "metadata": {
    "scrolled": true
   },
   "outputs": [],
   "source": [
    "is_courtyard = True\n",
    "is_backdeck = True\n",
    "is_outside_space = not (is_courtyard or is_backdeck)\n",
    "print(is_outside_space)"
   ]
  },
  {
   "cell_type": "markdown",
   "metadata": {},
   "source": [
    "### <font color = \"#81263f\">3.2.5 Short-Circuit Evaluation</font>"
   ]
  },
  {
   "cell_type": "code",
   "execution_count": null,
   "metadata": {
    "scrolled": true
   },
   "outputs": [],
   "source": [
    "house_has_deck = True\n",
    "house_area = 100\n",
    "deck_area = 10\n",
    "test1 = house_has_deck and house_area / deck_area > 5 # depends on\n",
    "print(test1)\n",
    "test2 = house_has_deck or house_area / deck_area > 5 # Always True\n",
    "print(test2)\n",
    "\n",
    "house_has_deck = False\n",
    "house_area = 85\n",
    "deck_area = 0\n",
    "test3 = house_has_deck and house_area/ deck_area > 5 # always False\n",
    "print(test3)\n",
    "test4 = house_has_deck or house_area/ deck_area > 5 # depends on\n",
    "print(test4)"
   ]
  },
  {
   "cell_type": "markdown",
   "metadata": {},
   "source": [
    "## <font style=\"background:#81263f;color:white\">3.3 Strings  </font>"
   ]
  },
  {
   "cell_type": "markdown",
   "metadata": {},
   "source": [
    "### <font color = \"#81263f\">3.3.1 Length</font>"
   ]
  },
  {
   "cell_type": "code",
   "execution_count": null,
   "metadata": {
    "scrolled": true
   },
   "outputs": [],
   "source": [
    "born = \"1933\"\n",
    "nationality = \"Portugal\"\n",
    "architect = \"Alvaro Siza Viera\"\n",
    "citation = \"Alvaro Siza Viera \\t1933\"\n",
    "\n",
    "print(len(born), born)\n",
    "print(len(nationality), nationality)\n",
    "print(len(architect), architect)\n",
    "print(len(citation), citation)"
   ]
  },
  {
   "cell_type": "markdown",
   "metadata": {},
   "source": [
    "### <font color = \"#81263f\">3.3.2 Concatenation (+)</font>"
   ]
  },
  {
   "cell_type": "markdown",
   "metadata": {},
   "source": [
    "Users can concatenate strings using + symbol. While + Symbol works as addition operator in numbers, it concatenate two strings into a merged string. For example, concatenation of “Le Corbusier“ and “ 1887“ will be a string, “Le Corbusier 1887“. "
   ]
  },
  {
   "cell_type": "code",
   "execution_count": null,
   "metadata": {
    "scrolled": true
   },
   "outputs": [],
   "source": [
    "born = \"1887\"\n",
    "architect = \"Le Corbusier\"\n",
    "\n",
    "citation = architect + born\n",
    "print(citation, len(citation))\n",
    "\n",
    "citation = architect + \" \" + born\n",
    "print(citation, len(citation))\n",
    "\n",
    "sentence = architect + \" was born in \" + born\n",
    "print(sentence, len(sentence))"
   ]
  },
  {
   "cell_type": "markdown",
   "metadata": {},
   "source": [
    "### <font color = \"#81263f\">3.3.3 Multiplication (*)</font>"
   ]
  },
  {
   "cell_type": "markdown",
   "metadata": {},
   "source": [
    "Users can concatenate strings using + symbol. While + Symbol works as addition operator in numbers, it concatenate two strings into a merged string. For examle, concatenation of “Le Corbusier“ and “ 1887“ will be a string, “Le Corbusier 1887“. "
   ]
  },
  {
   "cell_type": "code",
   "execution_count": null,
   "metadata": {
    "scrolled": true
   },
   "outputs": [],
   "source": [
    "architect = \"Le Corbusier \"\n",
    "born = \"1887\"\n",
    "repeat = 3\n",
    "\n",
    "new_architect = architect * repeat\n",
    "print(new_architect)\n",
    "\n",
    "new_year = born * repeat\n",
    "print(new_year)"
   ]
  },
  {
   "cell_type": "markdown",
   "metadata": {},
   "source": [
    "### <font color = \"#81263f\">3.3.4 Indexing</font>"
   ]
  },
  {
   "cell_type": "code",
   "execution_count": null,
   "metadata": {
    "scrolled": true
   },
   "outputs": [],
   "source": [
    "A = \"Mies Van Der Rohe\"\n",
    "\n",
    "print(A[0])\n",
    "print(A[1])\n",
    "print(A[-1])\n",
    "print(A[-2])"
   ]
  },
  {
   "cell_type": "markdown",
   "metadata": {},
   "source": [
    "### <font color = \"#81263f\">3.3.5 Slicing</font>"
   ]
  },
  {
   "cell_type": "code",
   "execution_count": null,
   "metadata": {
    "scrolled": true
   },
   "outputs": [],
   "source": [
    "A = \"Mies Van Der Rohe\"\n",
    "\n",
    "print(A)\n",
    "print(A[0:3])\n",
    "print(A[1:3])\n",
    "print(A[2:3])   # this will print one character\n",
    "print(A[3:3])   # this will print nothing\n",
    "print(A[4:3])   # this will print nothing too"
   ]
  },
  {
   "cell_type": "code",
   "execution_count": null,
   "metadata": {},
   "outputs": [],
   "source": [
    "print(A[:3], A[0:3])\n",
    "print(A[3:], A[3:len(A)-1])\n",
    "print(A[:])"
   ]
  },
  {
   "cell_type": "markdown",
   "metadata": {},
   "source": [
    "### <font color = \"#81263f\">3.3.6 Slicing with Step</font>"
   ]
  },
  {
   "cell_type": "code",
   "execution_count": null,
   "metadata": {
    "scrolled": true
   },
   "outputs": [],
   "source": [
    "A = \"Mies Van Der Rohe\"\n",
    "\n",
    "print(A)\n",
    "print(A[1:8])\n",
    "print(A[1:8:1])\n",
    "print(A[1:8:2])"
   ]
  },
  {
   "cell_type": "markdown",
   "metadata": {},
   "source": [
    "### <font color = \"#81263f\">3.3.7 Building New Strings with Slice and Concatenation</font>"
   ]
  },
  {
   "cell_type": "code",
   "execution_count": null,
   "metadata": {},
   "outputs": [],
   "source": [
    "A = \"Mies Van Der Rohe\"\n",
    "\n",
    "A = A[0:5] + \"VAN\" + A[8:]\n",
    "print(A)"
   ]
  },
  {
   "cell_type": "code",
   "execution_count": null,
   "metadata": {},
   "outputs": [],
   "source": [
    "quote = \"Architecture is the will of an epoch translated into space\"\n",
    "new = \"For \" + A + \", \" + quote\n",
    "print(new)"
   ]
  },
  {
   "cell_type": "markdown",
   "metadata": {},
   "source": [
    "### <font color = \"#81263f\">3.3.8 Reverse [::-1]</font>"
   ]
  },
  {
   "cell_type": "code",
   "execution_count": null,
   "metadata": {
    "scrolled": true
   },
   "outputs": [],
   "source": [
    "A = \"Mies Van Der Rohe\"\n",
    "\n",
    "print(A)\n",
    "print(A[::-1])                # recommended\n",
    "print(''.join(reversed(A)))   # this is optional"
   ]
  },
  {
   "cell_type": "markdown",
   "metadata": {},
   "source": [
    "### <font color = \"#81263f\">3.3.9 In</font>"
   ]
  },
  {
   "cell_type": "code",
   "execution_count": null,
   "metadata": {
    "scrolled": false
   },
   "outputs": [],
   "source": [
    "A = \"Mies Van Der Rohe\"\n",
    "\n",
    "print(A)\n",
    "print(\"Van\" in A)\n",
    "print(\"Le\" in A)\n",
    "print(\"van\" in A)\n",
    "print(\"\" in A)"
   ]
  },
  {
   "cell_type": "markdown",
   "metadata": {},
   "source": [
    "### <font color = \"#81263f\">3.3.10 Find and Index</font>"
   ]
  },
  {
   "cell_type": "code",
   "execution_count": null,
   "metadata": {
    "scrolled": false
   },
   "outputs": [],
   "source": [
    "A = \"Mies Van Der Rohe\"\n",
    "\n",
    "print(A.find(\"Van\"))\n",
    "print(A.find(\"Le\"))"
   ]
  },
  {
   "cell_type": "code",
   "execution_count": null,
   "metadata": {
    "scrolled": true
   },
   "outputs": [],
   "source": [
    "print(A.index(\"Van\"))\n",
    "print(A.index(\"Le\"))"
   ]
  },
  {
   "cell_type": "markdown",
   "metadata": {},
   "source": [
    "### <font color = \"#81263f\">3.3.11 Split</font>"
   ]
  },
  {
   "cell_type": "code",
   "execution_count": null,
   "metadata": {
    "scrolled": true
   },
   "outputs": [],
   "source": [
    "A = \"Mies Van Der Rohe\"\n",
    "print(A)\n",
    "\n",
    "s_0 = A.split()\n",
    "s_1 = A.split(\"e\")\n",
    "s_2 = A.split(\"an \")\n",
    "\n",
    "print(s_0)\n",
    "print(s_1)\n",
    "print(s_2)"
   ]
  },
  {
   "cell_type": "markdown",
   "metadata": {},
   "source": [
    "### <font color = \"#81263f\">3.3.12 Replace</font>"
   ]
  },
  {
   "cell_type": "code",
   "execution_count": null,
   "metadata": {},
   "outputs": [],
   "source": [
    "A = \"Mies Van Der Rohe\"\n",
    "\n",
    "print(A.replace(\"e\",\"@\"))\n",
    "print(A.replace(\"e\",\"@\",1))"
   ]
  },
  {
   "cell_type": "code",
   "execution_count": null,
   "metadata": {
    "scrolled": true
   },
   "outputs": [],
   "source": [
    "print(A.replace(\"e\",\"\"))"
   ]
  },
  {
   "cell_type": "code",
   "execution_count": null,
   "metadata": {},
   "outputs": [],
   "source": [
    "print(A)\n",
    "new = A.replace(\"e\",\"\")\n",
    "print(new)"
   ]
  },
  {
   "cell_type": "markdown",
   "metadata": {},
   "source": [
    "## <font style=\"background:#81263f;color:white\">3.4 List  </font>"
   ]
  },
  {
   "cell_type": "markdown",
   "metadata": {},
   "source": [
    "### <font color = \"#81263f\">3.4.1 Length</font>"
   ]
  },
  {
   "cell_type": "code",
   "execution_count": null,
   "metadata": {
    "scrolled": true
   },
   "outputs": [],
   "source": [
    "architects = [\"Rossi\", \"Sejima\", \"Hadid\", \"Siza\", \"Chipperfield\"]\n",
    "components = [\"basement\", \"floor\", \"columns\", \"walls\", \"stairs\", \"doors\", \"windows\", \"roofs\"]\n",
    "floors = [0,1,2,3]\n",
    "col_pos = [(0,0),(1,0),(2,0),\n",
    "           (0,1),(1,1),(2,1),\n",
    "           (0,2),(1,2),(2,2)]\n",
    "\n",
    "print(len(architects))\n",
    "print(len(components))\n",
    "print(len(floors))\n",
    "print(len(col_pos))"
   ]
  },
  {
   "cell_type": "markdown",
   "metadata": {},
   "source": [
    "### <font color = \"#81263f\">3.4.2 Min and Max 1</font>"
   ]
  },
  {
   "cell_type": "code",
   "execution_count": null,
   "metadata": {
    "scrolled": true
   },
   "outputs": [],
   "source": [
    "floors = [0,1,2,3]\n",
    "date = [2009, 1967, 2010, 1996, 2003]\n",
    "wall_len = [23.5, 55.4, 223.4, 89.4, 1.5, 4.55, 13.45, 98.88]\n",
    "print(min(floors), max(floors))\n",
    "print(min(date), max(date))\n",
    "print(min(wall_len), max(wall_len))"
   ]
  },
  {
   "cell_type": "markdown",
   "metadata": {},
   "source": [
    "### <font color = \"#81263f\">3.4.3 Min and Max 2</font>"
   ]
  },
  {
   "cell_type": "code",
   "execution_count": null,
   "metadata": {},
   "outputs": [],
   "source": [
    "architects = [\"Rossi\", \"Sejima\", \"Hadid\", \"Siza\", \"Chipperfield\"]\n",
    "states = [\"Arizona\", \"California\",\"Delaware\",\"arizona\", \"california\",\"delaware\"]\n",
    "location = [(\"Arizona\",480), (\"California\",209), (\"Delaware\",302)]\n",
    "print(min(architects), max(architects))\n",
    "print(min(states), max(states))\n",
    "print(min(location), max(location))"
   ]
  },
  {
   "cell_type": "markdown",
   "metadata": {},
   "source": [
    "### <font color = \"#81263f\">3.4.4 Sum and Mean</font>"
   ]
  },
  {
   "cell_type": "code",
   "execution_count": null,
   "metadata": {
    "scrolled": false
   },
   "outputs": [],
   "source": [
    "floors = [0,1,2,3]\n",
    "date = [2009, 1967, 2010, 1996, 2003]\n",
    "wall_len = [23.5, 55.4, 223.4, 89.4, 1.5, 4.55, 13.45, 98.00]\n",
    "\n",
    "print(sum(floors))\n",
    "print(sum(floors)/len(floors), \"\\n\")\n",
    "print(sum(date))\n",
    "print(sum(date)/len(date), \"\\n\")\n",
    "print(sum(wall_len))\n",
    "print(sum(wall_len)/len(wall_len))"
   ]
  },
  {
   "cell_type": "markdown",
   "metadata": {},
   "source": [
    "### <font color = \"#81263f\">3.4.5 Concatenation (+)</font>"
   ]
  },
  {
   "cell_type": "code",
   "execution_count": null,
   "metadata": {
    "scrolled": true
   },
   "outputs": [],
   "source": [
    "floors = [0,1,2,3]\n",
    "date = [2009, 1967, 2010, 1996, 2003]\n",
    "floors_date = floors + date\n",
    "date_floors = date + floors\n",
    "\n",
    "print(floors_date)\n",
    "print(date_floors)"
   ]
  },
  {
   "cell_type": "markdown",
   "metadata": {},
   "source": [
    "### <font color = \"#81263f\">3.4.6 Multiplication (*)</font>"
   ]
  },
  {
   "cell_type": "code",
   "execution_count": null,
   "metadata": {
    "scrolled": true
   },
   "outputs": [],
   "source": [
    "floors = [0,1,2,3]\n",
    "date = [2009, 1967, 2010, 1996, 2003]\n",
    "floors_repeat = floors * 5\n",
    "date_repeat = date * 3\n",
    "\n",
    "print(floors_repeat)\n",
    "print(date_repeat)"
   ]
  },
  {
   "cell_type": "markdown",
   "metadata": {},
   "source": [
    "### <font color = \"#81263f\">3.4.7 Append</font>"
   ]
  },
  {
   "cell_type": "code",
   "execution_count": null,
   "metadata": {
    "scrolled": true
   },
   "outputs": [],
   "source": [
    "staircase_by_floors = [5]\n",
    "\n",
    "staircase_by_floors.append(3)\n",
    "print(staircase_by_floors)\n",
    "\n",
    "staircase_by_floors.append(2)\n",
    "print(staircase_by_floors)\n",
    "\n",
    "staircase_by_floors.append(\"stair_A\")\n",
    "print(staircase_by_floors)"
   ]
  },
  {
   "cell_type": "markdown",
   "metadata": {},
   "source": [
    "### <font color = \"#81263f\">3.4.8 pop</font>"
   ]
  },
  {
   "cell_type": "code",
   "execution_count": null,
   "metadata": {
    "scrolled": false
   },
   "outputs": [],
   "source": [
    "staircase_by_floors = [5,4,4,3,2,1,2]\n",
    "\n",
    "s = staircase_by_floors.pop(0)        # users can store the popped item\n",
    "print(staircase_by_floors)            # the first item 5 is removed\n",
    "print(s)\n",
    "staircase_by_floors.pop()\n",
    "print(staircase_by_floors)            # the last item 2 is removed"
   ]
  },
  {
   "cell_type": "markdown",
   "metadata": {},
   "source": [
    "### <font color = \"#81263f\">3.4.9 Remove</font>"
   ]
  },
  {
   "cell_type": "code",
   "execution_count": null,
   "metadata": {
    "scrolled": false
   },
   "outputs": [],
   "source": [
    "staircase_by_floors = [5,4,4,3,2,1,2]\n",
    "\n",
    "staircase_by_floors.remove(4)\n",
    "print(staircase_by_floors)\n",
    "staircase_by_floors.remove(2)\n",
    "print(staircase_by_floors)\n",
    "staircase_by_floors.remove(2)\n",
    "print(staircase_by_floors)"
   ]
  },
  {
   "cell_type": "markdown",
   "metadata": {},
   "source": [
    "### <font color = \"#81263f\">3.4.10 Append, Pop, and Remove</font>"
   ]
  },
  {
   "cell_type": "code",
   "execution_count": null,
   "metadata": {},
   "outputs": [],
   "source": [
    "architects = [\"Rossi\", \"Sejima\", \"Hadid\", \"Siza\", \"Chipperfield\"]\n",
    "print(architects)\n",
    "architects.append(\"Ingels\")\n",
    "print(architects)\n",
    "recently_put = architects.pop()\n",
    "print(recently_put)\n",
    "print(architects)\n",
    "architects.remove(\"Sejima\")\n",
    "print(architects)"
   ]
  },
  {
   "cell_type": "markdown",
   "metadata": {},
   "source": [
    "### <font color = \"#81263f\">3.4.11 Slicing</font>"
   ]
  },
  {
   "cell_type": "code",
   "execution_count": null,
   "metadata": {
    "scrolled": true
   },
   "outputs": [],
   "source": [
    "architects = [\"Rossi\", \"Kahn\", \"Ingels\", \"Siza\", \"Chipperfield\"]\n",
    "\n",
    "print(architects)\n",
    "print(architects[0:3])\n",
    "print(architects[1:3])\n",
    "print(architects[2:3])   # this will print one character\n",
    "print(architects[3:3])   # this will print empyt list\n",
    "print(architects[4:3])   # this will print empyt list too"
   ]
  },
  {
   "cell_type": "code",
   "execution_count": null,
   "metadata": {},
   "outputs": [],
   "source": [
    "print(architects[:3], architects[0:3])\n",
    "print(architects[3:], architects[3:len(architects)-1])\n",
    "print(architects[:])"
   ]
  },
  {
   "cell_type": "markdown",
   "metadata": {},
   "source": [
    "### <font color = \"#81263f\">3.4.12 Slicing with Step</font>"
   ]
  },
  {
   "cell_type": "code",
   "execution_count": null,
   "metadata": {
    "scrolled": false
   },
   "outputs": [],
   "source": [
    "architects = [\"Rossi\", \"Kahn\", \"Ingels\", \"Siza\", \"Chipperfield\", \"Pawson\", \"Koolhaas\", \"Aalto\", ]\n",
    "print(architects)\n",
    "print(architects[1:7])\n",
    "print(architects[1:7:1])\n",
    "print(architects[1:7:2])"
   ]
  },
  {
   "cell_type": "markdown",
   "metadata": {},
   "source": [
    "### <font color = \"#81263f\">3.4.13 Reverse : reverse()</font>"
   ]
  },
  {
   "cell_type": "code",
   "execution_count": null,
   "metadata": {
    "scrolled": true
   },
   "outputs": [],
   "source": [
    "architects = [\"Rossi\", \"Sejima\", \"Hadid\", \"Siza\", \"Pawson\", \"Koolhaas\"]\n",
    "print(architects)\n",
    "architects.reverse() #no need for assignment\n",
    "print(architects)      # the original list is changed"
   ]
  },
  {
   "cell_type": "markdown",
   "metadata": {},
   "source": [
    "### <font color = \"#81263f\">3.4.14 Reverse : reversed()</font>"
   ]
  },
  {
   "cell_type": "code",
   "execution_count": null,
   "metadata": {},
   "outputs": [],
   "source": [
    "architects = [\"Rossi\", \"Sejima\", \"Hadid\", \"Siza\", \"Pawson\", \"Koolhaas\"]\n",
    "print(architects)\n",
    "rev_architects = list(reversed(architects))\n",
    "print(rev_architects)      # the original list is changed"
   ]
  },
  {
   "cell_type": "markdown",
   "metadata": {},
   "source": [
    "### <font color = \"#81263f\">3.4.15 Sort</font>"
   ]
  },
  {
   "cell_type": "code",
   "execution_count": null,
   "metadata": {
    "scrolled": false
   },
   "outputs": [],
   "source": [
    "date = [2009, 1967, 2010, 1996, 2003]\n",
    "print(date)\n",
    "date.sort()\n",
    "print(date)      # the original list is changed"
   ]
  },
  {
   "cell_type": "code",
   "execution_count": null,
   "metadata": {},
   "outputs": [],
   "source": [
    "date = [2009, 1967, 2010, 1996, 2003]\n",
    "print(date)\n",
    "new = sorted(date)\n",
    "print(date)      # the original list is not changed\n",
    "print(new)"
   ]
  },
  {
   "cell_type": "markdown",
   "metadata": {},
   "source": [
    "### <font color = \"#81263f\">3.4.16 In</font>"
   ]
  },
  {
   "cell_type": "code",
   "execution_count": null,
   "metadata": {
    "scrolled": false
   },
   "outputs": [],
   "source": [
    "architects = [\"Rossi\", \"Sejima\", \"Hadid\", \"Siza\", \"Pawson\"]\n",
    "date = [2009, 1998, 2010, 1996, 2003]\n",
    "\n",
    "print(architects)\n",
    "print(\"Kahn\" in architects)\n",
    "print(\"siza\" in architects)\n",
    "\n",
    "print(date)\n",
    "print(2009 in date)\n",
    "print(1895 in date)"
   ]
  },
  {
   "cell_type": "markdown",
   "metadata": {},
   "source": [
    "### <font color = \"#81263f\">3.4.17 Count</font>"
   ]
  },
  {
   "cell_type": "code",
   "execution_count": null,
   "metadata": {
    "scrolled": false
   },
   "outputs": [],
   "source": [
    "staircase_by_floors = [5,4,4,4,3,2,1,1,1,2,2]\n",
    "\n",
    "print(staircase_by_floors)\n",
    "one = staircase_by_floors.count(1)\n",
    "five = staircase_by_floors.count(5)\n",
    "seven = staircase_by_floors.count(7)\n",
    "print(one)\n",
    "print(five)\n",
    "print(seven)"
   ]
  },
  {
   "cell_type": "markdown",
   "metadata": {},
   "source": [
    "### <font color = \"#81263f\">3.4.18 Search Index</font>"
   ]
  },
  {
   "cell_type": "code",
   "execution_count": null,
   "metadata": {
    "scrolled": true
   },
   "outputs": [],
   "source": [
    "staircase_by_floors = [5,4,4,4,3,2,1,1,1,2,2]\n",
    "\n",
    "one = staircase_by_floors.index(1)\n",
    "print(one)\n",
    "seven = staircase_by_floors.index(7)  #this line will crash"
   ]
  },
  {
   "cell_type": "code",
   "execution_count": null,
   "metadata": {},
   "outputs": [],
   "source": [
    "if 7 in staircase_by_floors:\n",
    "    seven = staircase_by_floors.index(7)\n",
    "    print(seven)\n",
    "else: print(\"7 is not in the list\")"
   ]
  },
  {
   "cell_type": "markdown",
   "metadata": {},
   "source": [
    "### <font color = \"#81263f\">3.4.19 Zip</font>"
   ]
  },
  {
   "cell_type": "code",
   "execution_count": null,
   "metadata": {},
   "outputs": [],
   "source": [
    "architects = [\"Rossi\", \"Sejima\", \"Hadid\", \"Siza\"]\n",
    "date = [2009, 1998, 2010, 1996]\n",
    "born = [1931, 1956, 1950, 1933]\n",
    "\n",
    "pair = zip(architects,date)\n",
    "pairs = zip(architects,date,born)\n",
    "print(pair)\n",
    "print(list(pair))\n",
    "print(list(pairs))"
   ]
  },
  {
   "cell_type": "markdown",
   "metadata": {},
   "source": [
    "## <font style=\"background:#81263f;color:white\">3.5 Exercise: Facade Coloring  </font>"
   ]
  },
  {
   "cell_type": "markdown",
   "metadata": {},
   "source": [
    "### <font color = \"#81263f\">3.5.1 To Start</font>"
   ]
  },
  {
   "cell_type": "code",
   "execution_count": null,
   "metadata": {},
   "outputs": [],
   "source": [
    "#run this cell, it will install ipytcanvas\n",
    "try:\n",
    "    import ipycanvas\n",
    "except ImportError as e:\n",
    "    ! pip install ipycanvas"
   ]
  },
  {
   "cell_type": "code",
   "execution_count": null,
   "metadata": {},
   "outputs": [],
   "source": [
    "# importing libraries\n",
    "# run this cell\n",
    "# it should return nothing nor errors\n",
    "from ipycanvas import MultiCanvas\n",
    "from ipywidgets import Image\n",
    "from math import pi"
   ]
  },
  {
   "cell_type": "code",
   "execution_count": null,
   "metadata": {},
   "outputs": [],
   "source": [
    "# helper function\n",
    "# run this cell\n",
    "m_w, m_h = 15,15\n",
    "line_width = 3\n",
    "\n",
    "def draw(canvas,n_x,n_y,c_w,c_h,f_w,f_h):\n",
    "    canvas.stroke_style = 'black'\n",
    "    canvas.line_width = line_width\n",
    "    for i in range(n_x):\n",
    "        for j in range(n_y):\n",
    "            canvas.stroke_rect(i*c_w+m_w, j*c_h+m_h, c_w, c_h)\n",
    "    drawGroundFloor(canvas,n_x, n_y, c_w,c_h,f_w, f_h)\n",
    "    drawContext(canvas,n_x, n_y, c_w, c_h, f_w, f_h)\n",
    "    drawGround(canvas,n_x, n_y, c_w, c_h, f_w, f_h)\n",
    "    drawJinmo(canvas,n_x, n_y, c_w, c_h, f_w, f_h)\n",
    "    drawPedro(canvas,n_x, n_y, c_w, c_h, f_w, f_h)\n",
    "    \n",
    "def initialize(multiCanvas,n_x,n_y,c_w,c_h,f_w,f_h):\n",
    "    for m in range(len(multiCanvas._canvases)):\n",
    "        canvas = multiCanvas[m]\n",
    "        draw(canvas,n_x,n_y,c_w,c_h,f_w,f_h)\n",
    "        if m == 0:\n",
    "            canvas.fill_style = \"#800000\"\n",
    "            for i in range(n_x):\n",
    "                for j in range(n_y):\n",
    "                    canvas.font = '12px calibri'\n",
    "                     \n",
    "                    canvas.fill_text('{},{}'.format(j,i), i*c_w+m_w+2,j*c_h+m_h+c_h/2)\n",
    "    return c_w,c_h,m_w,m_h\n",
    "\n",
    "def drawLine(canvas, start, end, lw = 1,c = 'black'):\n",
    "    canvas.line_width = lw\n",
    "    canvas.stroke_style = c\n",
    "    canvas.begin_path()\n",
    "    canvas.move_to(start[0], start[1])\n",
    "    canvas.line_to(end[0], end[1])\n",
    "    canvas.stroke()\n",
    "\n",
    "def drawGroundFloor(canvas,n_x, n_y, c_w, c_h, f_w, f_h):\n",
    "    canvas.fill_style = \"#E5E4E2\"\n",
    "    canvas.fill_rect(m_w+c_w/2,n_y*c_h+m_h,(n_x-1)*c_w,f_h)\n",
    "    for i in range(n_x):\n",
    "        drawLine(canvas,[i*c_w+m_w+c_w/2,n_y*c_h+m_h],\n",
    "         [i*c_w+m_w+c_w/2,n_y*c_h+m_h+f_h],c=\"white\")\n",
    "    \n",
    "    canvas.stroke_style = 'black'\n",
    "    for i in range(n_x):\n",
    "        canvas.line_width = line_width\n",
    "        canvas.stroke_rect(i*c_w+m_w,n_y*c_h+m_h,f_w,f_h)\n",
    "        \n",
    "def drawGround(canvas,n_x, n_y, c_w, c_h, f_w, f_h):\n",
    "    ground_level = (n_y) * c_h + f_h + m_h\n",
    "    start = [0,ground_level]\n",
    "    end = [canvas.width-200,ground_level]\n",
    "    canvas.line_width = line_width\n",
    "    drawLine(canvas, start, end, line_width+3)\n",
    "\n",
    "def drawJinmo(canvas,n_x, n_y, c_w, c_h, f_w, f_h):\n",
    "    figure_w = 8\n",
    "    figure_h = figure_w*2.43\n",
    "    ground_level = (n_y) * c_h + f_h + m_h - figure_h\n",
    "    jinmo = Image.from_file(\"imgs/jinmo.png\")\n",
    "    canvas.draw_image(jinmo, x=n_x*c_w+40, y=ground_level,\n",
    "                      width=figure_w, height=figure_h)\n",
    "\n",
    "def drawPedro(canvas,n_x, n_y, c_w, c_h, f_w, f_h):\n",
    "    figure_w = 8\n",
    "    figure_h = figure_w*2.43\n",
    "    ground_level = (n_y) * c_h + f_h + m_h - figure_h\n",
    "    jinmo = Image.from_file(\"imgs/pedro.png\")\n",
    "    canvas.draw_image(jinmo, x=n_x*c_w+50, y=ground_level,\n",
    "                      width=figure_w, height=figure_h)\n",
    "    \n",
    "def drawContext(canvas,n_x, n_y, c_w, c_h, f_w, f_h):\n",
    "    st_x = n_x*c_w+70\n",
    "    st_y = (n_y) * c_h + f_h + m_h\n",
    "    canvas.stroke_style = 'gray'\n",
    "    canvas.stroke_width = 1\n",
    "    pts = [[st_x,st_y], [st_x,st_y-170],[st_x+60,st_y-180],\n",
    "           [st_x+120,st_y-170],[st_x+120,st_y]]\n",
    "    canvas.stroke_polygon(pts)\n",
    "    pts = [[st_x+160,st_y],[st_x+160,st_y-180],\n",
    "           [st_x+198,st_y-180],[st_x+198,st_y]]\n",
    "    canvas.stroke_polygon(pts)\n",
    "\n",
    "def installGlass(canvas,n_x,n_y,c_w,c_h,f_w,f_h,specs):\n",
    "    canvas.clear()\n",
    "    for ind in range(len(specs)):\n",
    "        i,j = ind%n_x, ind//n_x\n",
    "        if specs[ind][0] == \"non-color\":\n",
    "            canvas.fill_style = \"#E5E4E2\"\n",
    "        else:\n",
    "            canvas.fill_style = specs[ind][0]\n",
    "        canvas.fill_rect(i*c_w+m_w,j*c_h+m_h,c_w,c_h)\n",
    "    draw(canvas,n_x,n_y,c_w,c_h,f_w,f_h)"
   ]
  },
  {
   "cell_type": "markdown",
   "metadata": {},
   "source": [
    "### <font color = \"#81263f\">3.5.2 Initialize Canvas</font>"
   ]
  },
  {
   "cell_type": "code",
   "execution_count": null,
   "metadata": {
    "scrolled": true
   },
   "outputs": [],
   "source": [
    "# initialization\n",
    "# run this cell\n",
    "n_x, n_y = 10, 4  # n_x and n_y refer to number_of cells in x and y respectively\n",
    "c_w,c_h = 18, 35  # c_w and c_h refer to cells' width and height respectively\n",
    "f_w, f_h = 18, 50 # f_w and f_h refer to first floor cells' width and height respectively\n",
    "m = MultiCanvas(5, width=650, height=250)\n",
    "c_w,c_h,m_w,m_h = initialize(m,n_x, n_y, c_w, c_h, f_w, f_h)\n",
    "\n",
    "m[1]"
   ]
  },
  {
   "cell_type": "markdown",
   "metadata": {},
   "source": [
    "### <font color = \"#81263f\">3.5.3 Row, Col, and Index</font>"
   ]
  },
  {
   "cell_type": "code",
   "execution_count": null,
   "metadata": {
    "scrolled": true
   },
   "outputs": [],
   "source": [
    "# run this cell to see the two-dim representation\n",
    "m[0]"
   ]
  },
  {
   "cell_type": "code",
   "execution_count": null,
   "metadata": {
    "scrolled": true
   },
   "outputs": [],
   "source": [
    "# run this cell\n",
    "spec = [\"non-color\",300, 15]\n",
    "specs = [[\"non-color\",300, 15]] * (n_x * n_y)\n",
    "print(specs)"
   ]
  },
  {
   "cell_type": "markdown",
   "metadata": {},
   "source": [
    "### <font color = \"#81263f\">3.5.4 Row, Col, to Index</font>"
   ]
  },
  {
   "cell_type": "code",
   "execution_count": null,
   "metadata": {},
   "outputs": [],
   "source": [
    "# Now create cover specs index 14 to row and col.\n",
    "ind = 14\n",
    "# row = \n",
    "# col = \n",
    "print(row,col)"
   ]
  },
  {
   "cell_type": "code",
   "execution_count": null,
   "metadata": {
    "scrolled": false
   },
   "outputs": [],
   "source": [
    "# run this cell to update all window glasses\n",
    "installGlass(m[1],n_x,n_y,c_w,c_h,f_w,f_h,specs)\n",
    "m[1]"
   ]
  },
  {
   "cell_type": "markdown",
   "metadata": {},
   "source": [
    "### <font color = \"#81263f\">3.5.5 Coloring</font>"
   ]
  },
  {
   "cell_type": "code",
   "execution_count": null,
   "metadata": {},
   "outputs": [],
   "source": [
    "# run this cell\n",
    "maroon = \"#800000\"\n",
    "specs[4][0] = maroon"
   ]
  },
  {
   "cell_type": "code",
   "execution_count": null,
   "metadata": {
    "scrolled": true
   },
   "outputs": [],
   "source": [
    "# run this cell\n",
    "installGlass(m[2],n_x,n_y,c_w,c_h,f_w,f_h,specs)\n",
    "m[2]"
   ]
  },
  {
   "cell_type": "markdown",
   "metadata": {},
   "source": [
    "### <font color = \"#81263f\">3.5.6 Using Deepcopy</font>"
   ]
  },
  {
   "cell_type": "code",
   "execution_count": null,
   "metadata": {
    "scrolled": true
   },
   "outputs": [],
   "source": [
    "import copy\n",
    "specs = [copy.deepcopy(spec) for i in range(n_x*n_y)]\n",
    "print(specs)"
   ]
  },
  {
   "cell_type": "markdown",
   "metadata": {},
   "source": [
    "### <font color = \"#81263f\">3.5.7 Updating Facade</font>"
   ]
  },
  {
   "cell_type": "code",
   "execution_count": null,
   "metadata": {
    "scrolled": false
   },
   "outputs": [],
   "source": [
    "# run this cell\n",
    "specs[4][0] = maroon\n",
    "installGlass(m[3],n_x,n_y,c_w,c_h,f_w,f_h,specs)\n",
    "m[3]"
   ]
  },
  {
   "cell_type": "markdown",
   "metadata": {},
   "source": [
    "### <font color = \"#81263f\">3.5.8 Patterning</font>"
   ]
  },
  {
   "cell_type": "code",
   "execution_count": null,
   "metadata": {
    "scrolled": true
   },
   "outputs": [],
   "source": [
    "# Change more cells to make color pattern\n",
    "# specs[][0] = maroon\n",
    "# specs[][0] = maroon\n",
    "# specs[][0] = maroon\n",
    "# specs[][0] = maroon\n",
    "# specs[][0] = maroon\n",
    "# specs[][0] = maroon\n",
    "# specs[][0] = maroon\n",
    "# specs[][0] = maroon\n",
    "# ...\n",
    "installGlass(m[4],n_x,n_y,c_w,c_h,f_w,f_h,specs)\n",
    "m[4]"
   ]
  },
  {
   "cell_type": "markdown",
   "metadata": {},
   "source": [
    "### <font color = \"#81263f\">3.5.9 Calculate Extra Charge</font>"
   ]
  },
  {
   "cell_type": "code",
   "execution_count": null,
   "metadata": {},
   "outputs": [],
   "source": [
    "# make a target spec by using list slicing and concatenation\n",
    "# target = \n",
    "\n",
    "# count how many sheets of color glass are there\n",
    "# n_color = \n",
    "\n",
    "# get price difference of a sheet between color and non-color glass\n",
    "# diff = \n",
    "\n",
    "# calculate total extra charge\n",
    "# extra = \n",
    "\n",
    "print(extra)"
   ]
  }
 ],
 "metadata": {
  "kernelspec": {
   "display_name": "Python 3 (ipykernel)",
   "language": "python",
   "name": "python3"
  },
  "language_info": {
   "codemirror_mode": {
    "name": "ipython",
    "version": 3
   },
   "file_extension": ".py",
   "mimetype": "text/x-python",
   "name": "python",
   "nbconvert_exporter": "python",
   "pygments_lexer": "ipython3",
   "version": "3.9.12"
  },
  "toc": {
   "base_numbering": 1,
   "nav_menu": {},
   "number_sections": false,
   "sideBar": true,
   "skip_h1_title": false,
   "title_cell": "Table of Contents",
   "title_sidebar": "Contents",
   "toc_cell": false,
   "toc_position": {},
   "toc_section_display": true,
   "toc_window_display": true
  }
 },
 "nbformat": 4,
 "nbformat_minor": 2
}
